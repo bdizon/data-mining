{
 "cells": [
  {
   "cell_type": "markdown",
   "metadata": {},
   "source": [
    "# CSE 5243 - Introduction to Data Mining\n",
    "## Homework 2: Classification\n",
    "- Semester: Autumn 2020\n",
    "- Instructor: Tom Bihari\n",
    "- Section: Tuesday/Thursday 9:35AM\n",
    "- Student Name: Bianca Dizon\n",
    "- Student Email: baker.12345@osu.edu\n",
    "- Student ID: 500126259\n",
    "\n",
    "Template Version V1.\n",
    "***"
   ]
  },
  {
   "cell_type": "markdown",
   "metadata": {},
   "source": [
    "**Instructions and Helpful Hints:**\n",
    "- Consider putting all of your \"discussion\" text in markdown cells, not inline with code. That gives you more control over formatting. Markdown cheat sheet: https://www.markdownguide.org/cheat-sheet\n",
    "- Explain what you are doing, and why.  Explain what you found out or learned.\n",
    "- *Make sure you run your entire workbook before handing it in, so the output cells are populated.*\n",
    "- Follow the Section structure as much as possible - put your content where it is requested, so we can find your answers.\n",
    "- If you have questions on expectations or need clarification or guidance, please ask.  Post to Piazza if it is a general question, so everyone benefits."
   ]
  },
  {
   "cell_type": "markdown",
   "metadata": {},
   "source": [
    "***\n",
    "# Section: Overview\n",
    "- Insert a short description of the scope of this exercise, any supporting information, etc.\n",
    "***"
   ]
  },
  {
   "cell_type": "code",
   "execution_count": null,
   "metadata": {},
   "outputs": [],
   "source": []
  },
  {
   "cell_type": "markdown",
   "metadata": {},
   "source": [
    "***\n",
    "# Section: Setup\n",
    "- Add any needed imports, helper functions, etc., here.\n",
    "***"
   ]
  },
  {
   "cell_type": "code",
   "execution_count": 1,
   "metadata": {},
   "outputs": [],
   "source": [
    "import pandas as pd\n",
    "import numpy as np\n",
    "import matplotlib.pyplot as plt\n",
    "import seaborn as sns\n",
    "import scipy.stats"
   ]
  },
  {
   "cell_type": "markdown",
   "metadata": {},
   "source": [
    "***\n",
    "# Section: 1 - Evaluation mMethod\n",
    "- Define measures for evaluating the classification models you develop.  Explain why the measures you choose provide a useful view into the value and usefulness of the model you eventually chose for the company to use.  Define two types:\n",
    "***"
   ]
  },
  {
   "cell_type": "markdown",
   "metadata": {},
   "source": [
    "***\n",
    "## Section: 1.1 - Define measures that do not include the cost information\n",
    "- (e.g., confusion matrices, accuracy, precision, recall, F-measures, etc.).\n",
    "***"
   ]
  },
  {
   "cell_type": "markdown",
   "metadata": {},
   "source": [
    "- A confusion matrix is a sepcific table layout that allows for the visualization of the performance of an algorithm. Each row represents the instances of the predicted class, and each column represents the intances in of the actual class. This matrix will be useful in comparing the performance of the different classification models against KNN. It will help show which models did the best in correctly classifying the pet owners. \n",
    "- Classification accuracy is the ratio of the number of correct predictions to the total number of input samples. This works well wehn there are equal number of samples from each class. We can find how accurate our classficiation models are using this metric.\n",
    "- Precision is the proportion of positive identifications that are correct. recall is the proportion of actual positives was identified correctly. We can evaluate the effectiveness of a model examing both of these measures.\n",
    "- F-measure measures a model's accuracy from the precision and recall of the test. A f-measure of 1 indicates perfect precision and recall and the value 0 is if either precision or recall is zero. This is a useful measure in evaluating the effectiveness of a model."
   ]
  },
  {
   "cell_type": "markdown",
   "metadata": {},
   "source": [
    "***\n",
    "## Section: 1.2 - Define measures that do include the cost information\n",
    "- (e.g., using cost matrices).\n",
    "***"
   ]
  },
  {
   "cell_type": "markdown",
   "metadata": {},
   "source": [
    "- Cost matrices calculate the cost of the wrong prediciton or right prediction. This is important in evaluating which classfication models will be best suited for our goal. We will need to keep which wrong predicitons cost more in mind when deciding between models to find the best one."
   ]
  },
  {
   "cell_type": "markdown",
   "metadata": {},
   "source": [
    "***\n",
    "# Section: 2 - Pre-Processing of the Dataset\n",
    "- Use the Adult dataset.  Split it into a Training dataset and a Test dataset based on the Train attribute (see the README worksheet in the data file).  Keep them separate and use the Training dataset for training/tuning and the Test dataset for testing.\n",
    "***"
   ]
  },
  {
   "cell_type": "code",
   "execution_count": 2,
   "metadata": {},
   "outputs": [
    {
     "data": {
      "text/html": [
       "<div>\n",
       "<style scoped>\n",
       "    .dataframe tbody tr th:only-of-type {\n",
       "        vertical-align: middle;\n",
       "    }\n",
       "\n",
       "    .dataframe tbody tr th {\n",
       "        vertical-align: top;\n",
       "    }\n",
       "\n",
       "    .dataframe thead th {\n",
       "        text-align: right;\n",
       "    }\n",
       "</style>\n",
       "<table border=\"1\" class=\"dataframe\">\n",
       "  <thead>\n",
       "    <tr style=\"text-align: right;\">\n",
       "      <th></th>\n",
       "      <th>Unnamed: 0</th>\n",
       "      <th>Unnamed: 1</th>\n",
       "      <th>Unnamed: 2</th>\n",
       "      <th>GENERAL HEALTH CONDITION</th>\n",
       "      <th>SPOUSE LIVING IN SAME HOUSEHOLD</th>\n",
       "      <th>EDUCATIONAL ATTAINMENT</th>\n",
       "      <th>HOUSEHOLD TOTAL ANNUAL INC (PUF RECODE)</th>\n",
       "      <th>LIVE IN HOUSE, DUPLEX, BUILDING WITH 3+ UNITS, OR MOBILE HOME</th>\n",
       "      <th># OF ROOMS IN HOME</th>\n",
       "      <th>OWN OR RENT HOME</th>\n",
       "      <th>...</th>\n",
       "      <th>RACE-CENSUS 2000 DEFINITION</th>\n",
       "      <th>MAIN OCCUPATION - 2003 RECODE</th>\n",
       "      <th>AGE (PUF RECODE)</th>\n",
       "      <th>GENDER</th>\n",
       "      <th>SELF-REPORTED HOUSE TENURE</th>\n",
       "      <th>NUMBER OF MONTHS LIVED AT CURRENT ADDRESS</th>\n",
       "      <th>WGHT - POUNDS (PUF RECODE)</th>\n",
       "      <th>ANY WALKING FOR TRANSPORT OR FUN/EXERCISE</th>\n",
       "      <th>EMPLOYMENT STATUS</th>\n",
       "      <th>YEARS LIVED IN THE US</th>\n",
       "    </tr>\n",
       "  </thead>\n",
       "  <tbody>\n",
       "    <tr>\n",
       "      <th>0</th>\n",
       "      <td>NaN</td>\n",
       "      <td>NaN</td>\n",
       "      <td>NaN</td>\n",
       "      <td>AB1</td>\n",
       "      <td>AH44</td>\n",
       "      <td>AHEDUC</td>\n",
       "      <td>AK22_P</td>\n",
       "      <td>AK23</td>\n",
       "      <td>AK24</td>\n",
       "      <td>AK25</td>\n",
       "      <td>...</td>\n",
       "      <td>RACECEN</td>\n",
       "      <td>OCCMAIN</td>\n",
       "      <td>SRAGE_P</td>\n",
       "      <td>SRSEX</td>\n",
       "      <td>SRTENR</td>\n",
       "      <td>TIMEAD</td>\n",
       "      <td>WGHTP_P</td>\n",
       "      <td>WLKANY</td>\n",
       "      <td>WRKST</td>\n",
       "      <td>YRUS</td>\n",
       "    </tr>\n",
       "    <tr>\n",
       "      <th>1</th>\n",
       "      <td>RecID</td>\n",
       "      <td>Train</td>\n",
       "      <td>Class</td>\n",
       "      <td>Health</td>\n",
       "      <td>Spouse</td>\n",
       "      <td>Education</td>\n",
       "      <td>Income</td>\n",
       "      <td>Home Type</td>\n",
       "      <td>Number of Rooms</td>\n",
       "      <td>Own or Rent</td>\n",
       "      <td>...</td>\n",
       "      <td>Race</td>\n",
       "      <td>Occupation</td>\n",
       "      <td>Age</td>\n",
       "      <td>Gender</td>\n",
       "      <td>House Tenure</td>\n",
       "      <td>Months at Current Address</td>\n",
       "      <td>Weight</td>\n",
       "      <td>Walking</td>\n",
       "      <td>Employment Status</td>\n",
       "      <td>Years in USA</td>\n",
       "    </tr>\n",
       "    <tr>\n",
       "      <th>2</th>\n",
       "      <td>1</td>\n",
       "      <td>y</td>\n",
       "      <td>c</td>\n",
       "      <td>1</td>\n",
       "      <td>1</td>\n",
       "      <td>4</td>\n",
       "      <td>50000</td>\n",
       "      <td>1</td>\n",
       "      <td>6</td>\n",
       "      <td>1</td>\n",
       "      <td>...</td>\n",
       "      <td>5</td>\n",
       "      <td>-1</td>\n",
       "      <td>35</td>\n",
       "      <td>2</td>\n",
       "      <td>1</td>\n",
       "      <td>48</td>\n",
       "      <td>220</td>\n",
       "      <td>1</td>\n",
       "      <td>5</td>\n",
       "      <td>-1</td>\n",
       "    </tr>\n",
       "    <tr>\n",
       "      <th>3</th>\n",
       "      <td>2</td>\n",
       "      <td>y</td>\n",
       "      <td>d</td>\n",
       "      <td>2</td>\n",
       "      <td>-1</td>\n",
       "      <td>4</td>\n",
       "      <td>13200</td>\n",
       "      <td>3</td>\n",
       "      <td>3</td>\n",
       "      <td>2</td>\n",
       "      <td>...</td>\n",
       "      <td>5</td>\n",
       "      <td>-1</td>\n",
       "      <td>81</td>\n",
       "      <td>2</td>\n",
       "      <td>2</td>\n",
       "      <td>60</td>\n",
       "      <td>140</td>\n",
       "      <td>1</td>\n",
       "      <td>5</td>\n",
       "      <td>-1</td>\n",
       "    </tr>\n",
       "    <tr>\n",
       "      <th>4</th>\n",
       "      <td>3</td>\n",
       "      <td>y</td>\n",
       "      <td>n</td>\n",
       "      <td>2</td>\n",
       "      <td>1</td>\n",
       "      <td>3</td>\n",
       "      <td>12000</td>\n",
       "      <td>1</td>\n",
       "      <td>3</td>\n",
       "      <td>2</td>\n",
       "      <td>...</td>\n",
       "      <td>2</td>\n",
       "      <td>-1</td>\n",
       "      <td>22</td>\n",
       "      <td>2</td>\n",
       "      <td>2</td>\n",
       "      <td>36</td>\n",
       "      <td>120</td>\n",
       "      <td>2</td>\n",
       "      <td>5</td>\n",
       "      <td>-1</td>\n",
       "    </tr>\n",
       "  </tbody>\n",
       "</table>\n",
       "<p>5 rows × 28 columns</p>\n",
       "</div>"
      ],
      "text/plain": [
       "  Unnamed: 0 Unnamed: 1 Unnamed: 2 GENERAL HEALTH CONDITION  \\\n",
       "0        NaN        NaN        NaN                      AB1   \n",
       "1      RecID      Train      Class                   Health   \n",
       "2          1          y          c                        1   \n",
       "3          2          y          d                        2   \n",
       "4          3          y          n                        2   \n",
       "\n",
       "  SPOUSE LIVING IN SAME HOUSEHOLD EDUCATIONAL ATTAINMENT  \\\n",
       "0                            AH44                 AHEDUC   \n",
       "1                          Spouse              Education   \n",
       "2                               1                      4   \n",
       "3                              -1                      4   \n",
       "4                               1                      3   \n",
       "\n",
       "  HOUSEHOLD TOTAL ANNUAL INC (PUF RECODE)  \\\n",
       "0                                  AK22_P   \n",
       "1                                  Income   \n",
       "2                                   50000   \n",
       "3                                   13200   \n",
       "4                                   12000   \n",
       "\n",
       "  LIVE IN HOUSE, DUPLEX, BUILDING WITH 3+ UNITS, OR MOBILE HOME  \\\n",
       "0                                               AK23              \n",
       "1                                          Home Type              \n",
       "2                                                  1              \n",
       "3                                                  3              \n",
       "4                                                  1              \n",
       "\n",
       "  # OF ROOMS IN HOME OWN OR RENT HOME  ... RACE-CENSUS 2000 DEFINITION  \\\n",
       "0               AK24             AK25  ...                     RACECEN   \n",
       "1    Number of Rooms      Own or Rent  ...                        Race   \n",
       "2                  6                1  ...                           5   \n",
       "3                  3                2  ...                           5   \n",
       "4                  3                2  ...                           2   \n",
       "\n",
       "  MAIN OCCUPATION - 2003 RECODE AGE (PUF RECODE)  GENDER  \\\n",
       "0                       OCCMAIN          SRAGE_P   SRSEX   \n",
       "1                    Occupation              Age  Gender   \n",
       "2                            -1               35       2   \n",
       "3                            -1               81       2   \n",
       "4                            -1               22       2   \n",
       "\n",
       "  SELF-REPORTED HOUSE TENURE NUMBER OF MONTHS LIVED AT CURRENT ADDRESS  \\\n",
       "0                     SRTENR                                    TIMEAD   \n",
       "1               House Tenure                 Months at Current Address   \n",
       "2                          1                                        48   \n",
       "3                          2                                        60   \n",
       "4                          2                                        36   \n",
       "\n",
       "  WGHT - POUNDS (PUF RECODE) ANY WALKING FOR TRANSPORT OR FUN/EXERCISE  \\\n",
       "0                    WGHTP_P                                    WLKANY   \n",
       "1                     Weight                                   Walking   \n",
       "2                        220                                         1   \n",
       "3                        140                                         1   \n",
       "4                        120                                         2   \n",
       "\n",
       "   EMPLOYMENT STATUS YEARS LIVED IN THE US  \n",
       "0              WRKST                  YRUS  \n",
       "1  Employment Status          Years in USA  \n",
       "2                  5                    -1  \n",
       "3                  5                    -1  \n",
       "4                  5                    -1  \n",
       "\n",
       "[5 rows x 28 columns]"
      ]
     },
     "execution_count": 2,
     "metadata": {},
     "output_type": "execute_result"
    }
   ],
   "source": [
    "#Reads from the data file which I put in a subfolder named Data\n",
    "df = pd.read_excel('TEB SPSS Export ADULT for HW2 V2.xlsx', sheet_name = 'Data')\n",
    "\n",
    "#Prints out the first few rows\n",
    "df.head()"
   ]
  },
  {
   "cell_type": "code",
   "execution_count": 3,
   "metadata": {},
   "outputs": [],
   "source": [
    "#Splits the data into the training set and the data set\n",
    "train = df.loc[df['Unnamed: 1'] == 'y']\n",
    "test = df.loc[df['Unnamed: 1'] == 'n']\n",
    "# print(train)\n",
    "# print(\"########\")\n",
    "# print(test)"
   ]
  },
  {
   "cell_type": "markdown",
   "metadata": {},
   "source": [
    "***\n",
    "## Section: 2.1 - Explore the attributes\n",
    "- As in Homework 1, explore the attributes briefly. Reference the provided Data Dictionary (CHIS 2003 PUF Data Dictionary-Adult May2010.pdf).\n",
    "- Provide basic statistics for the attributes.\n",
    "- List which attributes are Nominal (even though they are encoded as numbers), Ordinal, Interval, Ratio.\n",
    "***"
   ]
  },
  {
   "cell_type": "markdown",
   "metadata": {},
   "source": [
    "I will be exploring some of the attributes' basic statisctics below briefly in the section below. I will choose attributes that I feel are relevant to the classification problem of classifying which people have dogs, cats, both, or neither.\n",
    "\n",
    "- Nominal attributes: GENERAL HEALTH CONDITION, SPOUSE LIVING IN SAME HOUSEHOLD, LIVE IN HOUSE, DUPLEX, BUILDING WITH 3+ UNITS, OR MOBILE HOME, OWN OR RENT HOME, RACE-CENSUS 2000 DEFINITION, GENDER, EMPLOYMENT STATUS\n",
    "- Ordinal attributes: EDUCATIONAL ATTAINMENT, HOUSEHOLD TOTAL ANNUAL INC (PUF RECODE), # OF ROOMS IN HOME, AGE (PUF RECODE), SELF-REPORTED HOUSE TENURE, NUMBER OF MONTHS LIVED AT CURRENT ADDRESS, ANY WALKING FOR TRANSPORT OR FUN/EXERCISE, YEARS LIVED IN THE US\n",
    "- Interval attributes: \n",
    "- Ration attributes: WGHT - POUNDS (PUF RECODE)"
   ]
  },
  {
   "cell_type": "code",
   "execution_count": 4,
   "metadata": {},
   "outputs": [
    {
     "name": "stdout",
     "output_type": "stream",
     "text": [
      "Unnamed: 0                                                       object\n",
      "Unnamed: 1                                                       object\n",
      "Unnamed: 2                                                       object\n",
      "GENERAL HEALTH CONDITION                                         object\n",
      "SPOUSE LIVING IN SAME HOUSEHOLD                                  object\n",
      "EDUCATIONAL ATTAINMENT                                           object\n",
      "HOUSEHOLD TOTAL ANNUAL INC (PUF RECODE)                          object\n",
      "LIVE IN HOUSE, DUPLEX, BUILDING WITH 3+ UNITS, OR MOBILE HOME    object\n",
      "# OF ROOMS IN HOME                                               object\n",
      "OWN OR RENT HOME                                                 object\n",
      "MONTHLY RENT/SPACE PAYMENT (PUF RECODE)                          object\n",
      "MONTHLY MORTGAGE PAYMENT (PUF RECODE)                            object\n",
      "CITIZENSHIP STATUS (3 LVLS)                                      object\n",
      "COUNTRY BORN IN                                                  object\n",
      "WORKING STATUS                                                   object\n",
      "FAMILY TYPE (4 LVLS)                                             object\n",
      "HEIGHT - INCHES (PUF RECODE)                                     object\n",
      "MARITAL STATUS                                                   object\n",
      "RACE-CENSUS 2000 DEFINITION                                      object\n",
      "MAIN OCCUPATION - 2003 RECODE                                    object\n",
      "AGE (PUF RECODE)                                                 object\n",
      "GENDER                                                           object\n",
      "SELF-REPORTED HOUSE TENURE                                       object\n",
      "NUMBER OF MONTHS LIVED AT CURRENT ADDRESS                        object\n",
      "WGHT - POUNDS (PUF RECODE)                                       object\n",
      "ANY WALKING FOR TRANSPORT OR FUN/EXERCISE                        object\n",
      "EMPLOYMENT STATUS                                                object\n",
      "YEARS LIVED IN THE US                                            object\n",
      "dtype: object\n"
     ]
    }
   ],
   "source": [
    "# Check the data types\n",
    "print(df.dtypes)"
   ]
  },
  {
   "cell_type": "code",
   "execution_count": 5,
   "metadata": {},
   "outputs": [
    {
     "name": "stdout",
     "output_type": "stream",
     "text": [
      "Unnamed: 0                                                       object\n",
      "Unnamed: 1                                                       string\n",
      "Unnamed: 2                                                       string\n",
      "GENERAL HEALTH CONDITION                                          int64\n",
      "SPOUSE LIVING IN SAME HOUSEHOLD                                   int64\n",
      "EDUCATIONAL ATTAINMENT                                            int64\n",
      "HOUSEHOLD TOTAL ANNUAL INC (PUF RECODE)                           int64\n",
      "LIVE IN HOUSE, DUPLEX, BUILDING WITH 3+ UNITS, OR MOBILE HOME     int64\n",
      "# OF ROOMS IN HOME                                               object\n",
      "OWN OR RENT HOME                                                  int64\n",
      "MONTHLY RENT/SPACE PAYMENT (PUF RECODE)                          object\n",
      "MONTHLY MORTGAGE PAYMENT (PUF RECODE)                            object\n",
      "CITIZENSHIP STATUS (3 LVLS)                                      object\n",
      "COUNTRY BORN IN                                                  object\n",
      "WORKING STATUS                                                    int64\n",
      "FAMILY TYPE (4 LVLS)                                              int64\n",
      "HEIGHT - INCHES (PUF RECODE)                                     object\n",
      "MARITAL STATUS                                                   object\n",
      "RACE-CENSUS 2000 DEFINITION                                      object\n",
      "MAIN OCCUPATION - 2003 RECODE                                    object\n",
      "AGE (PUF RECODE)                                                  int64\n",
      "GENDER                                                            int64\n",
      "SELF-REPORTED HOUSE TENURE                                       object\n",
      "NUMBER OF MONTHS LIVED AT CURRENT ADDRESS                         int64\n",
      "WGHT - POUNDS (PUF RECODE)                                        int64\n",
      "ANY WALKING FOR TRANSPORT OR FUN/EXERCISE                         int64\n",
      "EMPLOYMENT STATUS                                                 int64\n",
      "YEARS LIVED IN THE US                                            object\n",
      "dtype: object\n",
      "      Unnamed: 0 Unnamed: 1 Unnamed: 2  GENERAL HEALTH CONDITION  \\\n",
      "2              1          y          c                         1   \n",
      "3              2          y          d                         2   \n",
      "4              3          y          n                         2   \n",
      "5              4          y          c                         1   \n",
      "6              5          y          d                         1   \n",
      "...          ...        ...        ...                       ...   \n",
      "42041      42040          n          d                         1   \n",
      "42042      42041          n          n                         2   \n",
      "42043      42042          n          n                         3   \n",
      "42044      42043          n          d                         3   \n",
      "42045      42044          n          n                         3   \n",
      "\n",
      "       SPOUSE LIVING IN SAME HOUSEHOLD  EDUCATIONAL ATTAINMENT  \\\n",
      "2                                    1                       4   \n",
      "3                                   -1                       4   \n",
      "4                                    1                       3   \n",
      "5                                   -1                       1   \n",
      "6                                    1                       7   \n",
      "...                                ...                     ...   \n",
      "42041                                1                       7   \n",
      "42042                                1                       3   \n",
      "42043                               -1                       3   \n",
      "42044                               -1                       3   \n",
      "42045                               -1                       3   \n",
      "\n",
      "       HOUSEHOLD TOTAL ANNUAL INC (PUF RECODE)  \\\n",
      "2                                        50000   \n",
      "3                                        13200   \n",
      "4                                        12000   \n",
      "5                                         8000   \n",
      "6                                        65000   \n",
      "...                                        ...   \n",
      "42041                                   130000   \n",
      "42042                                    70000   \n",
      "42043                                    20000   \n",
      "42044                                    27000   \n",
      "42045                                    22000   \n",
      "\n",
      "       LIVE IN HOUSE, DUPLEX, BUILDING WITH 3+ UNITS, OR MOBILE HOME  \\\n",
      "2                                                      1               \n",
      "3                                                      3               \n",
      "4                                                      1               \n",
      "5                                                      1               \n",
      "6                                                      1               \n",
      "...                                                  ...               \n",
      "42041                                                  1               \n",
      "42042                                                  3               \n",
      "42043                                                  3               \n",
      "42044                                                  1               \n",
      "42045                                                  3               \n",
      "\n",
      "      # OF ROOMS IN HOME  OWN OR RENT HOME  ... RACE-CENSUS 2000 DEFINITION  \\\n",
      "2                      6                 1  ...                           5   \n",
      "3                      3                 2  ...                           5   \n",
      "4                      3                 2  ...                           2   \n",
      "5                      6                 2  ...                           2   \n",
      "6                      5                 1  ...                           7   \n",
      "...                  ...               ...  ...                         ...   \n",
      "42041                  7                 1  ...                           3   \n",
      "42042                  6                 1  ...                           4   \n",
      "42043                  1                 2  ...                           4   \n",
      "42044                  5                 2  ...                           4   \n",
      "42045                  1                 2  ...                           4   \n",
      "\n",
      "      MAIN OCCUPATION - 2003 RECODE AGE (PUF RECODE) GENDER  \\\n",
      "2                                -1               35      2   \n",
      "3                                -1               81      2   \n",
      "4                                -1               22      2   \n",
      "5                                -1               62      1   \n",
      "6                                -1               41      1   \n",
      "...                             ...              ...    ...   \n",
      "42041                            99               40      2   \n",
      "42042                             3               47      2   \n",
      "42043                            -1               22      2   \n",
      "42044                            -1               27      2   \n",
      "42045                            -1               24      2   \n",
      "\n",
      "       SELF-REPORTED HOUSE TENURE  NUMBER OF MONTHS LIVED AT CURRENT ADDRESS  \\\n",
      "2                               1                                         48   \n",
      "3                               2                                         60   \n",
      "4                               2                                         36   \n",
      "5                               2                                        144   \n",
      "6                               1                                        144   \n",
      "...                           ...                                        ...   \n",
      "42041                           1                                        120   \n",
      "42042                           1                                        192   \n",
      "42043                           2                                         12   \n",
      "42044                           2                                         24   \n",
      "42045                           2                                         24   \n",
      "\n",
      "      WGHT - POUNDS (PUF RECODE) ANY WALKING FOR TRANSPORT OR FUN/EXERCISE  \\\n",
      "2                            220                                         1   \n",
      "3                            140                                         1   \n",
      "4                            120                                         2   \n",
      "5                            175                                         2   \n",
      "6                            180                                         1   \n",
      "...                          ...                                       ...   \n",
      "42041                        100                                         2   \n",
      "42042                        110                                         2   \n",
      "42043                        160                                         2   \n",
      "42044                        140                                         1   \n",
      "42045                        125                                         2   \n",
      "\n",
      "      EMPLOYMENT STATUS YEARS LIVED IN THE US  \n",
      "2                     5                    -1  \n",
      "3                     5                    -1  \n",
      "4                     5                    -1  \n",
      "5                     5                    -1  \n",
      "6                     5                    -1  \n",
      "...                 ...                   ...  \n",
      "42041                 1                     5  \n",
      "42042                 1                    -1  \n",
      "42043                 4                    -1  \n",
      "42044                 4                    -1  \n",
      "42045                 4                    -1  \n",
      "\n",
      "[42044 rows x 28 columns]\n"
     ]
    }
   ],
   "source": [
    "# Delete first two rows of df\n",
    "df = df[2:]\n",
    "# print(df)\n",
    "\n",
    "# Convert first two columns into string\n",
    "df['Unnamed: 1'] = df['Unnamed: 1'].astype('string')\n",
    "df['Unnamed: 2'] = df['Unnamed: 2'].astype('string')\n",
    "# Convert attribute object values into float values\n",
    "df[['GENERAL HEALTH CONDITION', 'SPOUSE LIVING IN SAME HOUSEHOLD', 'EDUCATIONAL ATTAINMENT', 'HOUSEHOLD TOTAL ANNUAL INC (PUF RECODE)']] = df[['GENERAL HEALTH CONDITION', 'SPOUSE LIVING IN SAME HOUSEHOLD', 'EDUCATIONAL ATTAINMENT', 'HOUSEHOLD TOTAL ANNUAL INC (PUF RECODE)']].apply(pd.to_numeric)\n",
    "df[['LIVE IN HOUSE, DUPLEX, BUILDING WITH 3+ UNITS, OR MOBILE HOME', 'OWN OR RENT HOME', 'WORKING STATUS', 'FAMILY TYPE (4 LVLS)', 'AGE (PUF RECODE)']] = df[['LIVE IN HOUSE, DUPLEX, BUILDING WITH 3+ UNITS, OR MOBILE HOME', 'OWN OR RENT HOME', 'WORKING STATUS', 'FAMILY TYPE (4 LVLS)', 'AGE (PUF RECODE)']].apply(pd.to_numeric)\n",
    "df[['GENDER', 'NUMBER OF MONTHS LIVED AT CURRENT ADDRESS', 'WGHT - POUNDS (PUF RECODE)', 'ANY WALKING FOR TRANSPORT OR FUN/EXERCISE', 'EMPLOYMENT STATUS']] = df[['GENDER', 'NUMBER OF MONTHS LIVED AT CURRENT ADDRESS', 'WGHT - POUNDS (PUF RECODE)', 'ANY WALKING FOR TRANSPORT OR FUN/EXERCISE', 'EMPLOYMENT STATUS']].apply(pd.to_numeric)\n",
    "# df[['Unnamed: 0', 'MONTHLY RENT/SPACE PAYMENT (PUF RECODE)', 'MONTHLY MORTGAGE PAYMENT (PUF RECODE)', 'CITIZENSHIP STATUS (3 LVLS)', 'COUNTRY BORN IN', 'HEIGHT - INCHES (PUF RECODE)', 'MARITAL STATUS', 'RACE-CENSUS 2000 DEFINITION', 'MAIN OCCUPATION - 2003 RECODE', 'SELF-REPORTED HOUSE TENURE', 'YEARS LIVED IN THE US']] = df.[['Unnamed: 0', 'MONTHLY RENT/SPACE PAYMENT (PUF RECODE)', 'MONTHLY MORTGAGE PAYMENT (PUF RECODE)', 'CITIZENSHIP STATUS (3 LVLS)', 'COUNTRY BORN IN', 'HEIGHT - INCHES (PUF RECODE)', 'MARITAL STATUS', 'RACE-CENSUS 2000 DEFINITION', 'MAIN OCCUPATION - 2003 RECODE', 'SELF-REPORTED HOUSE TENURE', 'YEARS LIVED IN THE US']].apply(pd.to_numeric)\n",
    "print(df.dtypes)\n",
    "print(df)"
   ]
  },
  {
   "cell_type": "code",
   "execution_count": 6,
   "metadata": {},
   "outputs": [
    {
     "name": "stdout",
     "output_type": "stream",
     "text": [
      "        Unnamed: 0 Unnamed: 1 Unnamed: 2  GENERAL HEALTH CONDITION  \\\n",
      "count      42044.0      42044      42044              42044.000000   \n",
      "unique     42044.0          2          4                       NaN   \n",
      "top        42044.0          y          n                       NaN   \n",
      "freq           1.0      28029      23722                       NaN   \n",
      "mean           NaN        NaN        NaN                  2.490914   \n",
      "std            NaN        NaN        NaN                  1.130577   \n",
      "min            NaN        NaN        NaN                  1.000000   \n",
      "25%            NaN        NaN        NaN                  2.000000   \n",
      "50%            NaN        NaN        NaN                  2.000000   \n",
      "75%            NaN        NaN        NaN                  3.000000   \n",
      "max            NaN        NaN        NaN                  5.000000   \n",
      "\n",
      "        SPOUSE LIVING IN SAME HOUSEHOLD  EDUCATIONAL ATTAINMENT  \\\n",
      "count                      42044.000000            42044.000000   \n",
      "unique                              NaN                     NaN   \n",
      "top                                 NaN                     NaN   \n",
      "freq                                NaN                     NaN   \n",
      "mean                           0.034726                5.557487   \n",
      "std                            1.018504                7.044080   \n",
      "min                           -1.000000                1.000000   \n",
      "25%                           -1.000000                3.000000   \n",
      "50%                            1.000000                4.000000   \n",
      "75%                            1.000000                7.000000   \n",
      "max                            2.000000               91.000000   \n",
      "\n",
      "        HOUSEHOLD TOTAL ANNUAL INC (PUF RECODE)  \\\n",
      "count                              42044.000000   \n",
      "unique                                      NaN   \n",
      "top                                         NaN   \n",
      "freq                                        NaN   \n",
      "mean                               61278.399415   \n",
      "std                                55370.773966   \n",
      "min                                    0.000000   \n",
      "25%                                23000.000000   \n",
      "50%                                45000.000000   \n",
      "75%                                80000.000000   \n",
      "max                               300000.000000   \n",
      "\n",
      "        LIVE IN HOUSE, DUPLEX, BUILDING WITH 3+ UNITS, OR MOBILE HOME  \\\n",
      "count                                        42044.000000               \n",
      "unique                                                NaN               \n",
      "top                                                   NaN               \n",
      "freq                                                  NaN               \n",
      "mean                                             1.633360               \n",
      "std                                              0.976172               \n",
      "min                                              1.000000               \n",
      "25%                                              1.000000               \n",
      "50%                                              1.000000               \n",
      "75%                                              3.000000               \n",
      "max                                              4.000000               \n",
      "\n",
      "        # OF ROOMS IN HOME  OWN OR RENT HOME  ...  \\\n",
      "count              42044.0      42044.000000  ...   \n",
      "unique                34.0               NaN  ...   \n",
      "top                    5.0               NaN  ...   \n",
      "freq                7530.0               NaN  ...   \n",
      "mean                   NaN          1.395300  ...   \n",
      "std                    NaN          0.547445  ...   \n",
      "min                    NaN          1.000000  ...   \n",
      "25%                    NaN          1.000000  ...   \n",
      "50%                    NaN          1.000000  ...   \n",
      "75%                    NaN          2.000000  ...   \n",
      "max                    NaN          3.000000  ...   \n",
      "\n",
      "        RACE-CENSUS 2000 DEFINITION  MAIN OCCUPATION - 2003 RECODE  \\\n",
      "count                       42044.0                        42044.0   \n",
      "unique                          7.0                           13.0   \n",
      "top                             5.0                           -1.0   \n",
      "freq                        28457.0                        16723.0   \n",
      "mean                            NaN                            NaN   \n",
      "std                             NaN                            NaN   \n",
      "min                             NaN                            NaN   \n",
      "25%                             NaN                            NaN   \n",
      "50%                             NaN                            NaN   \n",
      "75%                             NaN                            NaN   \n",
      "max                             NaN                            NaN   \n",
      "\n",
      "        AGE (PUF RECODE)        GENDER  SELF-REPORTED HOUSE TENURE  \\\n",
      "count       42044.000000  42044.000000                     42044.0   \n",
      "unique               NaN           NaN                         3.0   \n",
      "top                  NaN           NaN                         1.0   \n",
      "freq                 NaN           NaN                     26739.0   \n",
      "mean           48.798283      1.584316                         NaN   \n",
      "std            17.301665      0.492845                         NaN   \n",
      "min            18.000000      1.000000                         NaN   \n",
      "25%            36.000000      1.000000                         NaN   \n",
      "50%            48.000000      2.000000                         NaN   \n",
      "75%            61.000000      2.000000                         NaN   \n",
      "max            85.000000      2.000000                         NaN   \n",
      "\n",
      "        NUMBER OF MONTHS LIVED AT CURRENT ADDRESS  WGHT - POUNDS (PUF RECODE)  \\\n",
      "count                                42044.000000                42044.000000   \n",
      "unique                                        NaN                         NaN   \n",
      "top                                           NaN                         NaN   \n",
      "freq                                          NaN                         NaN   \n",
      "mean                                   128.704167                  165.866521   \n",
      "std                                    139.506857                   39.658353   \n",
      "min                                      1.000000                   50.000000   \n",
      "25%                                     24.000000                  136.000000   \n",
      "50%                                     72.000000                  160.000000   \n",
      "75%                                    180.000000                  189.000000   \n",
      "max                                   1056.000000                  330.000000   \n",
      "\n",
      "        ANY WALKING FOR TRANSPORT OR FUN/EXERCISE  EMPLOYMENT STATUS  \\\n",
      "count                                42044.000000       42044.000000   \n",
      "unique                                        NaN                NaN   \n",
      "top                                           NaN                NaN   \n",
      "freq                                          NaN                NaN   \n",
      "mean                                     1.246147           2.633574   \n",
      "std                                      0.505885           1.895034   \n",
      "min                                     -1.000000          -2.000000   \n",
      "25%                                      1.000000           1.000000   \n",
      "50%                                      1.000000           1.000000   \n",
      "75%                                      2.000000           5.000000   \n",
      "max                                      2.000000           5.000000   \n",
      "\n",
      "        YEARS LIVED IN THE US  \n",
      "count                 42044.0  \n",
      "unique                    6.0  \n",
      "top                      -1.0  \n",
      "freq                  31624.0  \n",
      "mean                      NaN  \n",
      "std                       NaN  \n",
      "min                       NaN  \n",
      "25%                       NaN  \n",
      "50%                       NaN  \n",
      "75%                       NaN  \n",
      "max                       NaN  \n",
      "\n",
      "[11 rows x 28 columns]\n"
     ]
    }
   ],
   "source": [
    "# Basic statistics for all attributes\n",
    "print(df.describe(include='all'))"
   ]
  },
  {
   "cell_type": "markdown",
   "metadata": {},
   "source": [
    "***\n",
    "## Section: 2.2 - Revise the dataset\n",
    "- Review the meanings of the attributes and consider removing redundant or (likely) irrelevant attributes, combining attributes, etc., to reduce the number of attributes.\n",
    "- (You may choose to use techniques such as those you used in Homework 1 to analyze the impacts of individual attributes on the CLASS attribute, but you need not do a “deep” analysis.)\n",
    "- Describe what you chose to do (and not do), and why.\n",
    "***"
   ]
  },
  {
   "cell_type": "markdown",
   "metadata": {},
   "source": [
    "- I chose to remove the following attributes due to either redundancy or irrelevances: 'Unnamed: 0', 'MONTHLY RENT/SPACE PAYMENT (PUF RECODE)', 'MONTHLY MORTGAGE PAYMENT (PUF RECODE)', 'CITIZENSHIP STATUS (3 LVLS)', 'COUNTRY BORN IN', 'HEIGHT - INCHES (PUF RECODE)', 'MARITAL STATUS', 'RACE-CENSUS 2000 DEFINITION', 'MAIN OCCUPATION - 2003 RECODE', 'SELF-REPORTED HOUSE TENURE', 'YEARS LIVED IN THE US.\n",
    "- I chose to use the Pearson correlation to find correlation between the attributes chosen. I chose this measure to analyze the correlation between the Class and the different attributes to get a sense of what the relationships between the Class an attributes might be. \n",
    "- I chose to change the Class values from nominal to ordinal. I changed the values of n, d, c, and b to, respectively, 1, 2, 3, and 4. I changed the values from nominal to ordinal to be able to look at correlation between the Class and attributes."
   ]
  },
  {
   "cell_type": "code",
   "execution_count": 7,
   "metadata": {},
   "outputs": [
    {
     "name": "stdout",
     "output_type": "stream",
     "text": [
      "      Unnamed: 1 Unnamed: 2  GENERAL HEALTH CONDITION  \\\n",
      "2              y          c                         1   \n",
      "3              y          d                         2   \n",
      "4              y          n                         2   \n",
      "5              y          c                         1   \n",
      "6              y          d                         1   \n",
      "...          ...        ...                       ...   \n",
      "42041          n          d                         1   \n",
      "42042          n          n                         2   \n",
      "42043          n          n                         3   \n",
      "42044          n          d                         3   \n",
      "42045          n          n                         3   \n",
      "\n",
      "       SPOUSE LIVING IN SAME HOUSEHOLD  EDUCATIONAL ATTAINMENT  \\\n",
      "2                                    1                       4   \n",
      "3                                   -1                       4   \n",
      "4                                    1                       3   \n",
      "5                                   -1                       1   \n",
      "6                                    1                       7   \n",
      "...                                ...                     ...   \n",
      "42041                                1                       7   \n",
      "42042                                1                       3   \n",
      "42043                               -1                       3   \n",
      "42044                               -1                       3   \n",
      "42045                               -1                       3   \n",
      "\n",
      "       HOUSEHOLD TOTAL ANNUAL INC (PUF RECODE)  \\\n",
      "2                                        50000   \n",
      "3                                        13200   \n",
      "4                                        12000   \n",
      "5                                         8000   \n",
      "6                                        65000   \n",
      "...                                        ...   \n",
      "42041                                   130000   \n",
      "42042                                    70000   \n",
      "42043                                    20000   \n",
      "42044                                    27000   \n",
      "42045                                    22000   \n",
      "\n",
      "       LIVE IN HOUSE, DUPLEX, BUILDING WITH 3+ UNITS, OR MOBILE HOME  \\\n",
      "2                                                      1               \n",
      "3                                                      3               \n",
      "4                                                      1               \n",
      "5                                                      1               \n",
      "6                                                      1               \n",
      "...                                                  ...               \n",
      "42041                                                  1               \n",
      "42042                                                  3               \n",
      "42043                                                  3               \n",
      "42044                                                  1               \n",
      "42045                                                  3               \n",
      "\n",
      "      # OF ROOMS IN HOME  OWN OR RENT HOME  WORKING STATUS  \\\n",
      "2                      6                 1               4   \n",
      "3                      3                 2               4   \n",
      "4                      3                 2               4   \n",
      "5                      6                 2               4   \n",
      "6                      5                 1               4   \n",
      "...                  ...               ...             ...   \n",
      "42041                  7                 1               1   \n",
      "42042                  6                 1               1   \n",
      "42043                  1                 2               3   \n",
      "42044                  5                 2               3   \n",
      "42045                  1                 2               3   \n",
      "\n",
      "       FAMILY TYPE (4 LVLS)  AGE (PUF RECODE)  GENDER  \\\n",
      "2                         3                35       2   \n",
      "3                         1                81       2   \n",
      "4                         3                22       2   \n",
      "5                         1                62       1   \n",
      "6                         3                41       1   \n",
      "...                     ...               ...     ...   \n",
      "42041                     2                40       2   \n",
      "42042                     2                47       2   \n",
      "42043                     4                22       2   \n",
      "42044                     1                27       2   \n",
      "42045                     4                24       2   \n",
      "\n",
      "       NUMBER OF MONTHS LIVED AT CURRENT ADDRESS  WGHT - POUNDS (PUF RECODE)  \\\n",
      "2                                             48                         220   \n",
      "3                                             60                         140   \n",
      "4                                             36                         120   \n",
      "5                                            144                         175   \n",
      "6                                            144                         180   \n",
      "...                                          ...                         ...   \n",
      "42041                                        120                         100   \n",
      "42042                                        192                         110   \n",
      "42043                                         12                         160   \n",
      "42044                                         24                         140   \n",
      "42045                                         24                         125   \n",
      "\n",
      "       ANY WALKING FOR TRANSPORT OR FUN/EXERCISE  EMPLOYMENT STATUS  \n",
      "2                                              1                  5  \n",
      "3                                              1                  5  \n",
      "4                                              2                  5  \n",
      "5                                              2                  5  \n",
      "6                                              1                  5  \n",
      "...                                          ...                ...  \n",
      "42041                                          2                  1  \n",
      "42042                                          2                  1  \n",
      "42043                                          2                  4  \n",
      "42044                                          1                  4  \n",
      "42045                                          2                  4  \n",
      "\n",
      "[42044 rows x 17 columns]\n"
     ]
    }
   ],
   "source": [
    "# Remove redundant or irrelevant attributes\n",
    "df = df.drop(columns = ['Unnamed: 0', 'MONTHLY RENT/SPACE PAYMENT (PUF RECODE)', 'MONTHLY MORTGAGE PAYMENT (PUF RECODE)', 'CITIZENSHIP STATUS (3 LVLS)', 'COUNTRY BORN IN', 'HEIGHT - INCHES (PUF RECODE)', 'MARITAL STATUS', 'RACE-CENSUS 2000 DEFINITION', 'MAIN OCCUPATION - 2003 RECODE', 'SELF-REPORTED HOUSE TENURE', 'YEARS LIVED IN THE US'])\n",
    "print(df)"
   ]
  },
  {
   "cell_type": "code",
   "execution_count": 8,
   "metadata": {},
   "outputs": [
    {
     "name": "stdout",
     "output_type": "stream",
     "text": [
      "                                                    Unnamed: 2  \\\n",
      "Unnamed: 2                                            1.000000   \n",
      "GENERAL HEALTH CONDITION                             -0.092975   \n",
      "SPOUSE LIVING IN SAME HOUSEHOLD                       0.037301   \n",
      "EDUCATIONAL ATTAINMENT                               -0.013974   \n",
      "HOUSEHOLD TOTAL ANNUAL INC (PUF RECODE)               0.127607   \n",
      "LIVE IN HOUSE, DUPLEX, BUILDING WITH 3+ UNITS, ...   -0.151969   \n",
      "OWN OR RENT HOME                                     -0.136469   \n",
      "WORKING STATUS                                       -0.080543   \n",
      "FAMILY TYPE (4 LVLS)                                  0.014392   \n",
      "AGE (PUF RECODE)                                     -0.016478   \n",
      "GENDER                                                0.049685   \n",
      "NUMBER OF MONTHS LIVED AT CURRENT ADDRESS             0.019238   \n",
      "WGHT - POUNDS (PUF RECODE)                            0.051368   \n",
      "ANY WALKING FOR TRANSPORT OR FUN/EXERCISE            -0.005000   \n",
      "EMPLOYMENT STATUS                                    -0.083804   \n",
      "\n",
      "                                                    GENERAL HEALTH CONDITION  \\\n",
      "Unnamed: 2                                                         -0.092975   \n",
      "GENERAL HEALTH CONDITION                                            1.000000   \n",
      "SPOUSE LIVING IN SAME HOUSEHOLD                                    -0.081296   \n",
      "EDUCATIONAL ATTAINMENT                                             -0.031687   \n",
      "HOUSEHOLD TOTAL ANNUAL INC (PUF RECODE)                            -0.298022   \n",
      "LIVE IN HOUSE, DUPLEX, BUILDING WITH 3+ UNITS, ...                  0.125031   \n",
      "OWN OR RENT HOME                                                    0.129316   \n",
      "WORKING STATUS                                                      0.239765   \n",
      "FAMILY TYPE (4 LVLS)                                               -0.067437   \n",
      "AGE (PUF RECODE)                                                    0.182648   \n",
      "GENDER                                                              0.030637   \n",
      "NUMBER OF MONTHS LIVED AT CURRENT ADDRESS                           0.061830   \n",
      "WGHT - POUNDS (PUF RECODE)                                          0.109974   \n",
      "ANY WALKING FOR TRANSPORT OR FUN/EXERCISE                           0.039405   \n",
      "EMPLOYMENT STATUS                                                   0.239786   \n",
      "\n",
      "                                                    SPOUSE LIVING IN SAME HOUSEHOLD  \\\n",
      "Unnamed: 2                                                                 0.037301   \n",
      "GENERAL HEALTH CONDITION                                                  -0.081296   \n",
      "SPOUSE LIVING IN SAME HOUSEHOLD                                            1.000000   \n",
      "EDUCATIONAL ATTAINMENT                                                     0.012946   \n",
      "HOUSEHOLD TOTAL ANNUAL INC (PUF RECODE)                                    0.274925   \n",
      "LIVE IN HOUSE, DUPLEX, BUILDING WITH 3+ UNITS, ...                        -0.230947   \n",
      "OWN OR RENT HOME                                                          -0.268454   \n",
      "WORKING STATUS                                                            -0.051239   \n",
      "FAMILY TYPE (4 LVLS)                                                       0.459440   \n",
      "AGE (PUF RECODE)                                                           0.043838   \n",
      "GENDER                                                                    -0.090840   \n",
      "NUMBER OF MONTHS LIVED AT CURRENT ADDRESS                                  0.032130   \n",
      "WGHT - POUNDS (PUF RECODE)                                                 0.049142   \n",
      "ANY WALKING FOR TRANSPORT OR FUN/EXERCISE                                 -0.011189   \n",
      "EMPLOYMENT STATUS                                                         -0.053151   \n",
      "\n",
      "                                                    EDUCATIONAL ATTAINMENT  \\\n",
      "Unnamed: 2                                                       -0.013974   \n",
      "GENERAL HEALTH CONDITION                                         -0.031687   \n",
      "SPOUSE LIVING IN SAME HOUSEHOLD                                   0.012946   \n",
      "EDUCATIONAL ATTAINMENT                                            1.000000   \n",
      "HOUSEHOLD TOTAL ANNUAL INC (PUF RECODE)                           0.078195   \n",
      "LIVE IN HOUSE, DUPLEX, BUILDING WITH 3+ UNITS, ...               -0.017898   \n",
      "OWN OR RENT HOME                                                 -0.009649   \n",
      "WORKING STATUS                                                   -0.020326   \n",
      "FAMILY TYPE (4 LVLS)                                             -0.004017   \n",
      "AGE (PUF RECODE)                                                  0.031335   \n",
      "GENDER                                                           -0.015352   \n",
      "NUMBER OF MONTHS LIVED AT CURRENT ADDRESS                        -0.019219   \n",
      "WGHT - POUNDS (PUF RECODE)                                       -0.019420   \n",
      "ANY WALKING FOR TRANSPORT OR FUN/EXERCISE                        -0.023905   \n",
      "EMPLOYMENT STATUS                                                -0.018435   \n",
      "\n",
      "                                                    HOUSEHOLD TOTAL ANNUAL INC (PUF RECODE)  \\\n",
      "Unnamed: 2                                                                         0.127607   \n",
      "GENERAL HEALTH CONDITION                                                          -0.298022   \n",
      "SPOUSE LIVING IN SAME HOUSEHOLD                                                    0.274925   \n",
      "EDUCATIONAL ATTAINMENT                                                             0.078195   \n",
      "HOUSEHOLD TOTAL ANNUAL INC (PUF RECODE)                                            1.000000   \n",
      "LIVE IN HOUSE, DUPLEX, BUILDING WITH 3+ UNITS, ...                                -0.260418   \n",
      "OWN OR RENT HOME                                                                  -0.304064   \n",
      "WORKING STATUS                                                                    -0.217025   \n",
      "FAMILY TYPE (4 LVLS)                                                               0.119838   \n",
      "AGE (PUF RECODE)                                                                  -0.061120   \n",
      "GENDER                                                                            -0.099399   \n",
      "NUMBER OF MONTHS LIVED AT CURRENT ADDRESS                                         -0.017509   \n",
      "WGHT - POUNDS (PUF RECODE)                                                         0.039465   \n",
      "ANY WALKING FOR TRANSPORT OR FUN/EXERCISE                                         -0.020204   \n",
      "EMPLOYMENT STATUS                                                                 -0.220168   \n",
      "\n",
      "                                                    LIVE IN HOUSE, DUPLEX, BUILDING WITH 3+ UNITS, OR MOBILE HOME  \\\n",
      "Unnamed: 2                                                                                  -0.151969               \n",
      "GENERAL HEALTH CONDITION                                                                     0.125031               \n",
      "SPOUSE LIVING IN SAME HOUSEHOLD                                                             -0.230947               \n",
      "EDUCATIONAL ATTAINMENT                                                                      -0.017898               \n",
      "HOUSEHOLD TOTAL ANNUAL INC (PUF RECODE)                                                     -0.260418               \n",
      "LIVE IN HOUSE, DUPLEX, BUILDING WITH 3+ UNITS, ...                                           1.000000               \n",
      "OWN OR RENT HOME                                                                             0.364591               \n",
      "WORKING STATUS                                                                               0.042081               \n",
      "FAMILY TYPE (4 LVLS)                                                                        -0.126075               \n",
      "AGE (PUF RECODE)                                                                            -0.055083               \n",
      "GENDER                                                                                       0.024682               \n",
      "NUMBER OF MONTHS LIVED AT CURRENT ADDRESS                                                   -0.243834               \n",
      "WGHT - POUNDS (PUF RECODE)                                                                  -0.022040               \n",
      "ANY WALKING FOR TRANSPORT OR FUN/EXERCISE                                                   -0.019104               \n",
      "EMPLOYMENT STATUS                                                                            0.045433               \n",
      "\n",
      "                                                    OWN OR RENT HOME  \\\n",
      "Unnamed: 2                                                 -0.136469   \n",
      "GENERAL HEALTH CONDITION                                    0.129316   \n",
      "SPOUSE LIVING IN SAME HOUSEHOLD                            -0.268454   \n",
      "EDUCATIONAL ATTAINMENT                                     -0.009649   \n",
      "HOUSEHOLD TOTAL ANNUAL INC (PUF RECODE)                    -0.304064   \n",
      "LIVE IN HOUSE, DUPLEX, BUILDING WITH 3+ UNITS, ...          0.364591   \n",
      "OWN OR RENT HOME                                            1.000000   \n",
      "WORKING STATUS                                             -0.027665   \n",
      "FAMILY TYPE (4 LVLS)                                       -0.052365   \n",
      "AGE (PUF RECODE)                                           -0.274029   \n",
      "GENDER                                                      0.013282   \n",
      "NUMBER OF MONTHS LIVED AT CURRENT ADDRESS                  -0.318997   \n",
      "WGHT - POUNDS (PUF RECODE)                                 -0.027922   \n",
      "ANY WALKING FOR TRANSPORT OR FUN/EXERCISE                  -0.024216   \n",
      "EMPLOYMENT STATUS                                          -0.018754   \n",
      "\n",
      "                                                    WORKING STATUS  \\\n",
      "Unnamed: 2                                               -0.080543   \n",
      "GENERAL HEALTH CONDITION                                  0.239765   \n",
      "SPOUSE LIVING IN SAME HOUSEHOLD                          -0.051239   \n",
      "EDUCATIONAL ATTAINMENT                                   -0.020326   \n",
      "HOUSEHOLD TOTAL ANNUAL INC (PUF RECODE)                  -0.217025   \n",
      "LIVE IN HOUSE, DUPLEX, BUILDING WITH 3+ UNITS, ...        0.042081   \n",
      "OWN OR RENT HOME                                         -0.027665   \n",
      "WORKING STATUS                                            1.000000   \n",
      "FAMILY TYPE (4 LVLS)                                     -0.145332   \n",
      "AGE (PUF RECODE)                                          0.383952   \n",
      "GENDER                                                    0.175543   \n",
      "NUMBER OF MONTHS LIVED AT CURRENT ADDRESS                 0.234543   \n",
      "WGHT - POUNDS (PUF RECODE)                               -0.096958   \n",
      "ANY WALKING FOR TRANSPORT OR FUN/EXERCISE                 0.038814   \n",
      "EMPLOYMENT STATUS                                         0.956661   \n",
      "\n",
      "                                                    FAMILY TYPE (4 LVLS)  \\\n",
      "Unnamed: 2                                                      0.014392   \n",
      "GENERAL HEALTH CONDITION                                       -0.067437   \n",
      "SPOUSE LIVING IN SAME HOUSEHOLD                                 0.459440   \n",
      "EDUCATIONAL ATTAINMENT                                         -0.004017   \n",
      "HOUSEHOLD TOTAL ANNUAL INC (PUF RECODE)                         0.119838   \n",
      "LIVE IN HOUSE, DUPLEX, BUILDING WITH 3+ UNITS, ...             -0.126075   \n",
      "OWN OR RENT HOME                                               -0.052365   \n",
      "WORKING STATUS                                                 -0.145332   \n",
      "FAMILY TYPE (4 LVLS)                                            1.000000   \n",
      "AGE (PUF RECODE)                                               -0.261228   \n",
      "GENDER                                                          0.054104   \n",
      "NUMBER OF MONTHS LIVED AT CURRENT ADDRESS                      -0.181134   \n",
      "WGHT - POUNDS (PUF RECODE)                                      0.011477   \n",
      "ANY WALKING FOR TRANSPORT OR FUN/EXERCISE                       0.030830   \n",
      "EMPLOYMENT STATUS                                              -0.145972   \n",
      "\n",
      "                                                    AGE (PUF RECODE)  \\\n",
      "Unnamed: 2                                                 -0.016478   \n",
      "GENERAL HEALTH CONDITION                                    0.182648   \n",
      "SPOUSE LIVING IN SAME HOUSEHOLD                             0.043838   \n",
      "EDUCATIONAL ATTAINMENT                                      0.031335   \n",
      "HOUSEHOLD TOTAL ANNUAL INC (PUF RECODE)                    -0.061120   \n",
      "LIVE IN HOUSE, DUPLEX, BUILDING WITH 3+ UNITS, ...         -0.055083   \n",
      "OWN OR RENT HOME                                           -0.274029   \n",
      "WORKING STATUS                                              0.383952   \n",
      "FAMILY TYPE (4 LVLS)                                       -0.261228   \n",
      "AGE (PUF RECODE)                                            1.000000   \n",
      "GENDER                                                      0.041703   \n",
      "NUMBER OF MONTHS LIVED AT CURRENT ADDRESS                   0.526843   \n",
      "WGHT - POUNDS (PUF RECODE)                                  0.004922   \n",
      "ANY WALKING FOR TRANSPORT OR FUN/EXERCISE                   0.000651   \n",
      "EMPLOYMENT STATUS                                           0.373332   \n",
      "\n",
      "                                                      GENDER  \\\n",
      "Unnamed: 2                                          0.049685   \n",
      "GENERAL HEALTH CONDITION                            0.030637   \n",
      "SPOUSE LIVING IN SAME HOUSEHOLD                    -0.090840   \n",
      "EDUCATIONAL ATTAINMENT                             -0.015352   \n",
      "HOUSEHOLD TOTAL ANNUAL INC (PUF RECODE)            -0.099399   \n",
      "LIVE IN HOUSE, DUPLEX, BUILDING WITH 3+ UNITS, ...  0.024682   \n",
      "OWN OR RENT HOME                                    0.013282   \n",
      "WORKING STATUS                                      0.175543   \n",
      "FAMILY TYPE (4 LVLS)                                0.054104   \n",
      "AGE (PUF RECODE)                                    0.041703   \n",
      "GENDER                                              1.000000   \n",
      "NUMBER OF MONTHS LIVED AT CURRENT ADDRESS           0.031752   \n",
      "WGHT - POUNDS (PUF RECODE)                         -0.428359   \n",
      "ANY WALKING FOR TRANSPORT OR FUN/EXERCISE          -0.007736   \n",
      "EMPLOYMENT STATUS                                   0.168413   \n",
      "\n",
      "                                                    NUMBER OF MONTHS LIVED AT CURRENT ADDRESS  \\\n",
      "Unnamed: 2                                                                           0.019238   \n",
      "GENERAL HEALTH CONDITION                                                             0.061830   \n",
      "SPOUSE LIVING IN SAME HOUSEHOLD                                                      0.032130   \n",
      "EDUCATIONAL ATTAINMENT                                                              -0.019219   \n",
      "HOUSEHOLD TOTAL ANNUAL INC (PUF RECODE)                                             -0.017509   \n",
      "LIVE IN HOUSE, DUPLEX, BUILDING WITH 3+ UNITS, ...                                  -0.243834   \n",
      "OWN OR RENT HOME                                                                    -0.318997   \n",
      "WORKING STATUS                                                                       0.234543   \n",
      "FAMILY TYPE (4 LVLS)                                                                -0.181134   \n",
      "AGE (PUF RECODE)                                                                     0.526843   \n",
      "GENDER                                                                               0.031752   \n",
      "NUMBER OF MONTHS LIVED AT CURRENT ADDRESS                                            1.000000   \n",
      "WGHT - POUNDS (PUF RECODE)                                                           0.006453   \n",
      "ANY WALKING FOR TRANSPORT OR FUN/EXERCISE                                            0.014880   \n",
      "EMPLOYMENT STATUS                                                                    0.227295   \n",
      "\n",
      "                                                    WGHT - POUNDS (PUF RECODE)  \\\n",
      "Unnamed: 2                                                            0.051368   \n",
      "GENERAL HEALTH CONDITION                                              0.109974   \n",
      "SPOUSE LIVING IN SAME HOUSEHOLD                                       0.049142   \n",
      "EDUCATIONAL ATTAINMENT                                               -0.019420   \n",
      "HOUSEHOLD TOTAL ANNUAL INC (PUF RECODE)                               0.039465   \n",
      "LIVE IN HOUSE, DUPLEX, BUILDING WITH 3+ UNITS, ...                   -0.022040   \n",
      "OWN OR RENT HOME                                                     -0.027922   \n",
      "WORKING STATUS                                                       -0.096958   \n",
      "FAMILY TYPE (4 LVLS)                                                  0.011477   \n",
      "AGE (PUF RECODE)                                                      0.004922   \n",
      "GENDER                                                               -0.428359   \n",
      "NUMBER OF MONTHS LIVED AT CURRENT ADDRESS                             0.006453   \n",
      "WGHT - POUNDS (PUF RECODE)                                            1.000000   \n",
      "ANY WALKING FOR TRANSPORT OR FUN/EXERCISE                             0.060913   \n",
      "EMPLOYMENT STATUS                                                    -0.094119   \n",
      "\n",
      "                                                    ANY WALKING FOR TRANSPORT OR FUN/EXERCISE  \\\n",
      "Unnamed: 2                                                                          -0.005000   \n",
      "GENERAL HEALTH CONDITION                                                             0.039405   \n",
      "SPOUSE LIVING IN SAME HOUSEHOLD                                                     -0.011189   \n",
      "EDUCATIONAL ATTAINMENT                                                              -0.023905   \n",
      "HOUSEHOLD TOTAL ANNUAL INC (PUF RECODE)                                             -0.020204   \n",
      "LIVE IN HOUSE, DUPLEX, BUILDING WITH 3+ UNITS, ...                                  -0.019104   \n",
      "OWN OR RENT HOME                                                                    -0.024216   \n",
      "WORKING STATUS                                                                       0.038814   \n",
      "FAMILY TYPE (4 LVLS)                                                                 0.030830   \n",
      "AGE (PUF RECODE)                                                                     0.000651   \n",
      "GENDER                                                                              -0.007736   \n",
      "NUMBER OF MONTHS LIVED AT CURRENT ADDRESS                                            0.014880   \n",
      "WGHT - POUNDS (PUF RECODE)                                                           0.060913   \n",
      "ANY WALKING FOR TRANSPORT OR FUN/EXERCISE                                            1.000000   \n",
      "EMPLOYMENT STATUS                                                                    0.027667   \n",
      "\n",
      "                                                    EMPLOYMENT STATUS  \n",
      "Unnamed: 2                                                  -0.083804  \n",
      "GENERAL HEALTH CONDITION                                     0.239786  \n",
      "SPOUSE LIVING IN SAME HOUSEHOLD                             -0.053151  \n",
      "EDUCATIONAL ATTAINMENT                                      -0.018435  \n",
      "HOUSEHOLD TOTAL ANNUAL INC (PUF RECODE)                     -0.220168  \n",
      "LIVE IN HOUSE, DUPLEX, BUILDING WITH 3+ UNITS, ...           0.045433  \n",
      "OWN OR RENT HOME                                            -0.018754  \n",
      "WORKING STATUS                                               0.956661  \n",
      "FAMILY TYPE (4 LVLS)                                        -0.145972  \n",
      "AGE (PUF RECODE)                                             0.373332  \n",
      "GENDER                                                       0.168413  \n",
      "NUMBER OF MONTHS LIVED AT CURRENT ADDRESS                    0.227295  \n",
      "WGHT - POUNDS (PUF RECODE)                                  -0.094119  \n",
      "ANY WALKING FOR TRANSPORT OR FUN/EXERCISE                    0.027667  \n",
      "EMPLOYMENT STATUS                                            1.000000  \n"
     ]
    }
   ],
   "source": [
    "# convert class data into numerical data\n",
    "df['Unnamed: 2'].replace(to_replace='n', value=1, inplace=True)\n",
    "df['Unnamed: 2'].replace(to_replace='d', value=2, inplace=True)\n",
    "df['Unnamed: 2'].replace(to_replace='c', value=3, inplace=True)\n",
    "df['Unnamed: 2'].replace(to_replace='b', value=4, inplace=True)\n",
    "\n",
    "# Find the Pearson correlations between CLASS and all attributes \n",
    "print(df.corr(method='pearson'))"
   ]
  },
  {
   "cell_type": "markdown",
   "metadata": {},
   "source": [
    "***\n",
    "## Section: 2.3 - Transform the attributes\n",
    "- Consider transforming the remaining attributes (e.g., using the data dictionary to replace the numbers with text values for some attributes – this might or might not be useful), normalizing / scaling values, encoding labels (if necessary), etc.\n",
    "- Describe what you chose to do (and not do), and why.\n",
    "***"
   ]
  },
  {
   "cell_type": "markdown",
   "metadata": {},
   "source": [
    "- I have chosen to transform all the attributes except Class (Unnamed: 2) to float values to use for calculations and statistics, as can be seen above. I changed the Class values from being nominal to ordinal to help with finding correlation between Class and my chosen attributes."
   ]
  },
  {
   "cell_type": "markdown",
   "metadata": {},
   "source": [
    "***\n",
    "# Section: 3 - Evaluation of the Off-The-Shelf KNN Classifier\n",
    "- Select the KNN classifier from the SciKit Learn library and run it on the dataset.\n",
    "***"
   ]
  },
  {
   "cell_type": "code",
   "execution_count": 15,
   "metadata": {},
   "outputs": [],
   "source": [
    "#import the KneighborsClassifier class from sklearn\n",
    "from sklearn.neighbors import KNeighborsClassifier\n",
    "\n",
    "#import metrics model to check the accuracy\n",
    "from sklearn import metrics"
   ]
  },
  {
   "cell_type": "code",
   "execution_count": 16,
   "metadata": {},
   "outputs": [],
   "source": [
    "# # Reclassify training and testing data because dataframe has been changed \n",
    "# #Splits the data into the training set and the data set\n",
    "# train = df.loc[df['Unnamed: 1'] == 'y']\n",
    "# test = df.loc[df['Unnamed: 1'] == 'n']\n",
    "# # print(train.shape)\n",
    "# # print(test.shape)\n",
    "\n",
    "# #drop train column\n",
    "# train = train.drop(columns = ['Unnamed: 1'])\n",
    "# test = test.drop(columns = ['Unnamed: 1'])\n",
    "                        \n",
    "# #make shape of train and test data same\n",
    "# train = train.drop(df.index[0:14012])\n",
    "# # print(train.shape)\n",
    "\n",
    "# #split datat into training and test sets (80:20 splits)\n",
    "# from sklearn.model_selection import train_test_split\n",
    "# x_train, x_test, y_train, y_test = train_test_split(train, test, test_size=0.2, random_state=4)\n",
    "# print(x_train.shape)\n",
    "# print(x_test.shape)\n",
    "# print(y_train.shape)\n",
    "# print(y_test.shape)\n",
    "# print(train)"
   ]
  },
  {
   "cell_type": "markdown",
   "metadata": {},
   "source": [
    "***\n",
    "## Section: 3.1 - Configure the off-the-shelf KNN classifier\n",
    "- Use the KNeighborsClassifier from the SciKit Learn library\n",
    "- Explain all setup, parameters and execution options you chose to set, and why.\n",
    "***"
   ]
  },
  {
   "cell_type": "markdown",
   "metadata": {},
   "source": [
    "- I decided to split my train and test data further. I changed the value of K with each iteration of the program. I had a variable range for K to see how the value of K affects the accuracy of the model. I decided to measue the performance of the model with the measure of accuracy. I did this because I wanted to see how well my model classified the data into the classes."
   ]
  },
  {
   "cell_type": "code",
   "execution_count": 11,
   "metadata": {},
   "outputs": [
    {
     "name": "stdout",
     "output_type": "stream",
     "text": [
      "(28029, 16)\n",
      "(28029, 1)\n",
      "(28029, 15)\n",
      "(14015, 1)\n",
      "(14015, 15)\n"
     ]
    }
   ],
   "source": [
    "# Reclassify training and testing data because dataframe has been changed \n",
    "#Splits the data into the training set and the data set\n",
    "train = df.loc[df['Unnamed: 1'] == 'y']\n",
    "test = df.loc[df['Unnamed: 1'] == 'n']\n",
    "# print(train.shape)\n",
    "# print(test.shape)\n",
    "\n",
    "#drop train column\n",
    "train = train.drop(columns = ['Unnamed: 1'])\n",
    "test = test.drop(columns = ['Unnamed: 1'])\n",
    "print(train.shape)\n",
    "\n",
    "# split the x_train, y_train, x_test, y_test\n",
    "df_traincopy1 = train.copy(deep=True)\n",
    "df_testcopy1 = test.copy(deep=True)\n",
    "x_train = df_traincopy1.drop(columns = ['Unnamed: 2'])\n",
    "y_train = train[['Unnamed: 2']].copy()\n",
    "print(y_train.shape)\n",
    "print(x_train.shape)\n",
    "x_test = df_testcopy1.drop(columns = ['Unnamed: 2'])\n",
    "y_test = test[['Unnamed: 2']].copy()\n",
    "print(y_test.shape)\n",
    "print(x_test.shape)"
   ]
  },
  {
   "cell_type": "code",
   "execution_count": 12,
   "metadata": {},
   "outputs": [],
   "source": [
    "#we'll run from k=1 to k=25 and record testing accuracy\n",
    "k_range = range(1, 26)\n",
    "scores= {}\n",
    "scores_list = []\n",
    "for k in k_range:\n",
    "    knn = KNeighborsClassifier(n_neighbors=k)\n",
    "    knn.fit(x_train, y_train.values.ravel())\n",
    "    y_pred=knn.predict(x_test)\n",
    "    scores[k]=metrics.accuracy_score(y_test, y_pred)\n",
    "    scores_list.append(metrics.accuracy_score(y_test, y_pred))"
   ]
  },
  {
   "cell_type": "code",
   "execution_count": 13,
   "metadata": {},
   "outputs": [
    {
     "data": {
      "text/plain": [
       "Text(0, 0.5, 'Testing Accuracy')"
      ]
     },
     "execution_count": 13,
     "metadata": {},
     "output_type": "execute_result"
    },
    {
     "data": {
      "image/png": "[encoded data removed]",
      "text/plain": [
       "<Figure size 432x288 with 1 Axes>"
      ]
     },
     "metadata": {
      "needs_background": "light"
     },
     "output_type": "display_data"
    }
   ],
   "source": [
    "#plot the relationship between K and the testing accuracy\n",
    "plt.plot(k_range, scores_list)\n",
    "plt.xlabel('Value of K for KNN')\n",
    "plt.ylabel('Testing Accuracy')"
   ]
  },
  {
   "cell_type": "markdown",
   "metadata": {},
   "source": [
    "***\n",
    "## Section: 3.2 - Run and evaluate the classifier\n",
    "- Try several values of the K parameter and compare the results.\n",
    "- Evaluate the performance of the classifier, using the evaluation method you defined above.\n",
    "***"
   ]
  },
  {
   "cell_type": "markdown",
   "metadata": {},
   "source": [
    "- As you can see below, I try multiple ranges of K in increasing order. As K increases in magnitude so does the testing accuracy. The resuting data shows that the larger the K value the more accurate my model is."
   ]
  },
  {
   "cell_type": "code",
   "execution_count": 14,
   "metadata": {},
   "outputs": [
    {
     "data": {
      "text/plain": [
       "Text(0, 0.5, 'Testing Accuracy')"
      ]
     },
     "execution_count": 14,
     "metadata": {},
     "output_type": "execute_result"
    },
    {
     "data": {
      "image/png": "[encoded data removed]",
      "text/plain": [
       "<Figure size 432x288 with 1 Axes>"
      ]
     },
     "metadata": {
      "needs_background": "light"
     },
     "output_type": "display_data"
    }
   ],
   "source": [
    "#we'll run from k=1 to k=5 and record testing accuracy\n",
    "k_range = range(1, 5)\n",
    "scores= {}\n",
    "scores_list = []\n",
    "for k in k_range:\n",
    "    knn = KNeighborsClassifier(n_neighbors=k)\n",
    "    knn.fit(x_train, y_train.values.ravel())\n",
    "    y_pred=knn.predict(x_test)\n",
    "    scores[k]=metrics.accuracy_score(y_test, y_pred)\n",
    "    scores_list.append(metrics.accuracy_score(y_test, y_pred))\n",
    "\n",
    "#plot the relationship between K and the testing accuracy\n",
    "plt.plot(k_range, scores_list)\n",
    "plt.xlabel('Value of K for KNN')\n",
    "plt.ylabel('Testing Accuracy')"
   ]
  },
  {
   "cell_type": "code",
   "execution_count": 15,
   "metadata": {},
   "outputs": [
    {
     "data": {
      "text/plain": [
       "Text(0, 0.5, 'Testing Accuracy')"
      ]
     },
     "execution_count": 15,
     "metadata": {},
     "output_type": "execute_result"
    },
    {
     "data": {
      "image/png": "[encoded data removed]",
      "text/plain": [
       "<Figure size 432x288 with 1 Axes>"
      ]
     },
     "metadata": {
      "needs_background": "light"
     },
     "output_type": "display_data"
    }
   ],
   "source": [
    "#we'll run from k=1 to k=50 and record testing accuracy\n",
    "k_range = range(1, 50)\n",
    "scores= {}\n",
    "scores_list = []\n",
    "for k in k_range:\n",
    "    knn = KNeighborsClassifier(n_neighbors=k)\n",
    "    knn.fit(x_train, y_train.values.ravel())\n",
    "    y_pred=knn.predict(x_test)\n",
    "    scores[k]=metrics.accuracy_score(y_test, y_pred)\n",
    "    scores_list.append(metrics.accuracy_score(y_test, y_pred))\n",
    "\n",
    "#plot the relationship between K and the testing accuracy\n",
    "plt.plot(k_range, scores_list)\n",
    "plt.xlabel('Value of K for KNN')\n",
    "plt.ylabel('Testing Accuracy')"
   ]
  },
  {
   "cell_type": "code",
   "execution_count": 16,
   "metadata": {},
   "outputs": [
    {
     "data": {
      "text/plain": [
       "Text(0, 0.5, 'Testing Accuracy')"
      ]
     },
     "execution_count": 16,
     "metadata": {},
     "output_type": "execute_result"
    },
    {
     "data": {
      "image/png": "[encoded data removed]",
      "text/plain": [
       "<Figure size 432x288 with 1 Axes>"
      ]
     },
     "metadata": {
      "needs_background": "light"
     },
     "output_type": "display_data"
    }
   ],
   "source": [
    "#we'll run from k=1 to k=100 and record testing accuracy\n",
    "k_range = range(1, 100)\n",
    "scores= {}\n",
    "scores_list = []\n",
    "for k in k_range:\n",
    "    knn = KNeighborsClassifier(n_neighbors=k)\n",
    "    knn.fit(x_train, y_train.values.ravel())\n",
    "    y_pred=knn.predict(x_test)\n",
    "    scores[k]=metrics.accuracy_score(y_test, y_pred)\n",
    "    scores_list.append(metrics.accuracy_score(y_test, y_pred))\n",
    "\n",
    "#plot the relationship between K and the testing accuracy\n",
    "plt.plot(k_range, scores_list)\n",
    "plt.xlabel('Value of K for KNN')\n",
    "plt.ylabel('Testing Accuracy')"
   ]
  },
  {
   "cell_type": "markdown",
   "metadata": {},
   "source": [
    "***\n",
    "## Section: 3.3 - Evaluate the choice of the KNN classifier\n",
    "- What characteristics of the problem and data made KNN a good or bad choice?\n",
    "***"
   ]
  },
  {
   "cell_type": "markdown",
   "metadata": {},
   "source": [
    "- KNN is automatically no-linear and it can detect linear or non-linear distributed data. It tends to do well with a lot of data points. KNN is a good choice for this data set because there are a lot of data points and attributes to consider in the classification of the CLASS.\n",
    "- A negative side to KNN is that it needs to be carefully tuned. The choice of K and the metric(distance) is important to get right. It is also sensitive to bad features or attributes. Feature selection is very important for this model. Outliers is also an important part. KNN is sensitive to outliers. KNN might be a bad choice for the current state of my data since I did not focus on lookining outliers and removing them from my data. Akso, I was not able to change my features to see which combos would yield the best accuracy using this KNN model."
   ]
  },
  {
   "cell_type": "markdown",
   "metadata": {},
   "source": [
    "***\n",
    "# Section: 4 - Evaluation of Off-The-Shelf Classifier #2\n",
    "- As with the KNN classifier above, choose another classifier from the SciKit Learn library (Decision Tree, SVM, Logistic Regression, etc.) and run it on the dataset.\n",
    "***"
   ]
  },
  {
   "cell_type": "markdown",
   "metadata": {},
   "source": [
    "***\n",
    "## Section: 4.1 - Configure the classifier\n",
    "- Use the appropriate classifier from the SciKit Learn library.\n",
    "- Explain all setup, parameters and execution options you chose to set, and why.\n",
    "***"
   ]
  },
  {
   "cell_type": "markdown",
   "metadata": {},
   "source": [
    "- I chose Decision Tree for this round of classifier testing. I changed the criterion for the different evaluations of the classifier as well as different max_depths. I found that the gini criterion had better accuracy than the entropy criterion. Futhermore, I found that increasing the max_depth from 3 to 7 yielded slightly worse accuracy. I have found that the best max_depth parameters are between 3-6."
   ]
  },
  {
   "cell_type": "code",
   "execution_count": 18,
   "metadata": {},
   "outputs": [],
   "source": [
    "from sklearn.tree import DecisionTreeClassifier # import Decision Tree Classifier\n",
    "from sklearn.model_selection import train_test_split # Import train_test_split function\n",
    "from sklearn import metrics\n"
   ]
  },
  {
   "cell_type": "markdown",
   "metadata": {},
   "source": [
    "***\n",
    "## Section: 4.2 - Run and evaluate the classifier\n",
    "- Try several values of the parameters (if appropriate) and compare the results.\n",
    "- Evaluate the performance of the classifier, using the evaluation method you defined above.\n",
    "***"
   ]
  },
  {
   "cell_type": "code",
   "execution_count": 19,
   "metadata": {},
   "outputs": [
    {
     "name": "stdout",
     "output_type": "stream",
     "text": [
      "Accuracy: 0.4316089903674634\n"
     ]
    }
   ],
   "source": [
    "#create object\n",
    "clf = DecisionTreeClassifier()\n",
    "\n",
    "#fit model to our data\n",
    "clf = clf.fit(x_train, y_train)\n",
    "\n",
    "# test the model with testing data\n",
    "y_pred = clf.predict(x_test)\n",
    "\n",
    "print(\"Accuracy:\",metrics.accuracy_score(y_test, y_pred))"
   ]
  },
  {
   "cell_type": "code",
   "execution_count": 20,
   "metadata": {},
   "outputs": [
    {
     "name": "stdout",
     "output_type": "stream",
     "text": [
      "Accuracy: 0.5848019978594363\n"
     ]
    }
   ],
   "source": [
    "#create object\n",
    "clf = DecisionTreeClassifier(criterion=\"entropy\", max_depth=3)\n",
    "\n",
    "#fit model to our data\n",
    "clf = clf.fit(x_train, y_train)\n",
    "\n",
    "# test the model with testing data\n",
    "y_pred = clf.predict(x_test)\n",
    "\n",
    "print(\"Accuracy:\",metrics.accuracy_score(y_test, y_pred))"
   ]
  },
  {
   "cell_type": "code",
   "execution_count": 21,
   "metadata": {},
   "outputs": [
    {
     "name": "stdout",
     "output_type": "stream",
     "text": [
      "Accuracy: 0.5765251516232608\n"
     ]
    }
   ],
   "source": [
    "#create object\n",
    "clf = DecisionTreeClassifier(criterion=\"entropy\", max_depth=7)\n",
    "\n",
    "#fit model to our data\n",
    "clf = clf.fit(x_train, y_train)\n",
    "\n",
    "# test the model with testing data\n",
    "y_pred = clf.predict(x_test)\n",
    "\n",
    "print(\"Accuracy:\",metrics.accuracy_score(y_test, y_pred))"
   ]
  },
  {
   "cell_type": "code",
   "execution_count": 22,
   "metadata": {},
   "outputs": [
    {
     "name": "stdout",
     "output_type": "stream",
     "text": [
      "Accuracy: 0.5848019978594363\n"
     ]
    }
   ],
   "source": [
    "#create object\n",
    "clf = DecisionTreeClassifier(criterion=\"gini\", max_depth=3)\n",
    "\n",
    "#fit model to our data\n",
    "clf = clf.fit(x_train, y_train)\n",
    "\n",
    "# test the model with testing data\n",
    "y_pred = clf.predict(x_test)\n",
    "\n",
    "print(\"Accuracy:\",metrics.accuracy_score(y_test, y_pred))"
   ]
  },
  {
   "cell_type": "code",
   "execution_count": 23,
   "metadata": {},
   "outputs": [
    {
     "name": "stdout",
     "output_type": "stream",
     "text": [
      "Accuracy: 0.5829468426685694\n"
     ]
    }
   ],
   "source": [
    "#create object\n",
    "clf = DecisionTreeClassifier(criterion=\"gini\", max_depth=7)\n",
    "\n",
    "#fit model to our data\n",
    "clf = clf.fit(x_train, y_train)\n",
    "\n",
    "# test the model with testing data\n",
    "y_pred = clf.predict(x_test)\n",
    "\n",
    "print(\"Accuracy:\",metrics.accuracy_score(y_test, y_pred))"
   ]
  },
  {
   "cell_type": "markdown",
   "metadata": {},
   "source": [
    "***\n",
    "## Section: 4.3 - Evaluate the choice of the classifier\n",
    "- What characteristics of the problem and data made the classifier a good or bad choice?\n",
    "***"
   ]
  },
  {
   "cell_type": "markdown",
   "metadata": {},
   "source": [
    "- Decision Tree is easy to understand and interpret and is great for visual representation. As can be seen from above, it is easy to see the difference in accuracy differences. Additionally, it can work with numerical and catergorical features, which is helpful with this set of data. I think Decision Tree is a good choice for this data set of the above reasons. The accuracy of the mdoels are very comparable to the KNN classifier."
   ]
  },
  {
   "cell_type": "markdown",
   "metadata": {},
   "source": [
    "***\n",
    "# Section: 5 - Evaluation of Off-The-Shelf Classifier #3\n",
    "- As with the KNN classifier above, choose another classifier from the SciKit Learn library (Decision Tree, SVM, Logistic Regression, etc.) and run it on the dataset.\n",
    "***"
   ]
  },
  {
   "cell_type": "markdown",
   "metadata": {},
   "source": [
    "***\n",
    "## Section: 5.1 - Configure the classifier\n",
    "- Use the appropriate classifier from the SciKit Learn library.\n",
    "- Explain all setup, parameters and execution options you chose to set, and why.\n",
    "***"
   ]
  },
  {
   "cell_type": "code",
   "execution_count": 12,
   "metadata": {},
   "outputs": [],
   "source": [
    "from sklearn.svm import SVC\n",
    "# from sklearn import svm\n",
    "from sklearn import metrics"
   ]
  },
  {
   "cell_type": "markdown",
   "metadata": {},
   "source": [
    "***\n",
    "## Section: 5.2 - Run and evaluate the classifier\n",
    "- Try several values of the parameters (if appropriate) and compare the results.\n",
    "- Evaluate the performance of the classifier, using the evaluation method you defined above.\n",
    "***"
   ]
  },
  {
   "cell_type": "code",
   "execution_count": null,
   "metadata": {},
   "outputs": [],
   "source": [
    "svclassifier = SVC(kernel='linear')\n",
    "svclassifier.fit(x_train, y_train.values.ravel())\n",
    "y_pred = svclassifier.predict(x_test)\n",
    "# #Create a svm Classifier\n",
    "# clf = svm.SVC(kernel='linear') # Linear Kernel\n",
    "\n",
    "# #Train the model using the training sets\n",
    "# clf.fit(x_train, y_train)\n",
    "\n",
    "# #Predict the response for test dataset\n",
    "# y_pred = clf.predict(x_test)\n",
    "\n",
    "print(\"Accuracy:\",metrics(accuracy_score(y_test, y_pred)))"
   ]
  },
  {
   "cell_type": "code",
   "execution_count": null,
   "metadata": {},
   "outputs": [],
   "source": [
    "from sklearn.metrics import classification_report, confusion_matrix\n",
    "print(confusion_matrix(y_test,y_pred))\n",
    "print(classification_report(y_test,y_pred))"
   ]
  },
  {
   "cell_type": "markdown",
   "metadata": {},
   "source": [
    "***\n",
    "## Section: 5.3 - Evaluate the choice of the classifier\n",
    "- What characteristics of the problem and data made the classifier a good or bad choice?\n",
    "***"
   ]
  },
  {
   "cell_type": "markdown",
   "metadata": {},
   "source": [
    "- SVM is a good choice because it can beused in linear or non-linear ways with the use of a Kernel. It is helpful when you have limited set of points in many dimensions SVM tends to be very good because it should be able to find the linear separation that exists.  Since we have a lot of points it is probably not the best classifier. It does not compare as well as the KNN and Decision Tree classifiers."
   ]
  },
  {
   "cell_type": "markdown",
   "metadata": {},
   "source": [
    "***\n",
    "# Section: 6 - Comparison of the Three Classifiers\n",
    "***"
   ]
  },
  {
   "cell_type": "markdown",
   "metadata": {},
   "source": [
    "***\n",
    "## Section: 6.1 - Compare the performance of these classifiers to each other\n",
    "- What are their strong and weak points?Configure the classifier\n",
    "***"
   ]
  },
  {
   "cell_type": "markdown",
   "metadata": {},
   "source": [
    "- The KNN and Decision Tree classifiers were comparable in performance. The accuracy of both are nearly the same."
   ]
  },
  {
   "cell_type": "markdown",
   "metadata": {},
   "source": [
    "***\n",
    "## Section: 6.2 - Choose a Best Classifier\n",
    "- Choose one of the three classifiers as best and explain why.\n",
    "***"
   ]
  },
  {
   "cell_type": "markdown",
   "metadata": {},
   "source": [
    "- I believe KNN to be the best classfifier for this data set because it can detect linear or non-linear distributed data. The data set for this homework s very much non-linear. Also KNN tends to do well with a lot of data points. KNN is a good choice for this data set because there are a lot of data points and attributes to consider in the classification of the CLASS. The accuracy measure for KNN is comparable to the others and is easier to understand."
   ]
  },
  {
   "cell_type": "markdown",
   "metadata": {},
   "source": [
    "***\n",
    "# Section: 7 - Conclusions\n",
    "- Write a paragraph on what you discovered or learned from this homework.\n",
    "***"
   ]
  },
  {
   "cell_type": "markdown",
   "metadata": {},
   "source": [
    "- Overall I learned the differences between three classifiers, KNN, Decision Trees, and SVM. I learned that different measures of accuracy showed which classifiers are good."
   ]
  },
  {
   "cell_type": "markdown",
   "metadata": {},
   "source": [
    "***\n",
    "### END-OF-SUBMISSION\n",
    "***"
   ]
  }
 ],
 "metadata": {
  "kernelspec": {
   "display_name": "Python 3",
   "language": "python",
   "name": "python3"
  },
  "language_info": {
   "codemirror_mode": {
    "name": "ipython",
    "version": 3
   },
   "file_extension": ".py",
   "mimetype": "text/x-python",
   "name": "python",
   "nbconvert_exporter": "python",
   "pygments_lexer": "ipython3",
   "version": "3.8.3"
  },
  "latex_envs": {
   "LaTeX_envs_menu_present": true,
   "autoclose": false,
   "autocomplete": true,
   "bibliofile": "biblio.bib",
   "cite_by": "apalike",
   "current_citInitial": 1,
   "eqLabelWithNumbers": true,
   "eqNumInitial": 1,
   "hotkeys": {
    "equation": "Ctrl-E",
    "itemize": "Ctrl-I"
   },
   "labels_anchors": false,
   "latex_user_defs": false,
   "report_style_numbering": false,
   "user_envs_cfg": false
  }
 },
 "nbformat": 4,
 "nbformat_minor": 4
}
