{
 "cells": [
  {
   "cell_type": "markdown",
   "metadata": {},
   "source": [
    "# CSE 5243 - Introduction to Data Mining\n",
    "## Homework 1: Exploratory Data Analysis\n",
    "- Semester: Autumn 2020\n",
    "- Instructor: Tom Bihari\n",
    "- Section: Tuesday/Thursday 9:35AM\n",
    "- Student Name: Bianca Dizon\n",
    "- Student Email: dizon.11@osu.edu\n",
    "- Student ID: 500126259\n",
    "\n",
    "Template Version V1.\n",
    "***"
   ]
  },
  {
   "cell_type": "markdown",
   "metadata": {},
   "source": [
    "***\n",
    "# Section: Overview\n",
    "- Insert a short description of the scope of this exercise, any supporting information, etc.\n",
    "***"
   ]
  },
  {
   "cell_type": "markdown",
   "metadata": {},
   "source": [
    "In this assignment, I will be analyzing an aletered copy of the \"Our World in Data COVID-19\" dataset to identify interesting trends and patterns. I will be creating a final dataset that is usable in building classification models."
   ]
  },
  {
   "cell_type": "code",
   "execution_count": null,
   "metadata": {},
   "outputs": [],
   "source": []
  },
  {
   "cell_type": "markdown",
   "metadata": {},
   "source": [
    "***\n",
    "# Section: Setup\n",
    "- Add any needed imports, helper functions, etc., here.\n",
    "***"
   ]
  },
  {
   "cell_type": "code",
   "execution_count": 312,
   "metadata": {},
   "outputs": [],
   "source": [
    "import pandas as pd\n",
    "import numpy as np\n",
    "import matplotlib.pyplot as plt\n",
    "import seaborn as sns\n",
    "import scipy.stats"
   ]
  },
  {
   "cell_type": "markdown",
   "metadata": {},
   "source": [
    "***\n",
    "# Section: 1 - Business Understanding\n",
    "- Write a paragraph providing an overview of the data. Some questions you should consider are: Where did the data come from? What do the rows represent? Why and how was the data collected? Who might use this data? What types of questions might users be able to analyze with this data?\n",
    "- You should review the dataset description information on the webpage to get some context. Of course you will only have limited background on this topic (and you are not expected to become an expert), so do your best to imagine the context for the work, making reasonable assumptions as appropriate. At this stage, you are not analyzing individual attributes, but discussing the dataset in aggregate.\n",
    "***"
   ]
  },
  {
   "cell_type": "markdown",
   "metadata": {},
   "source": [
    "\n",
    "# Overview\n",
    "    The dataset provided came from multiple sources. The data for the confirmed cases and deaths came from the European Centre for Disease Prevention and Control (ECDC). The data for the testing for COVID-19 was collected by the Our World in Data team from official reports. The data for all the other variables were collected from a variety of sources including the United Nations, World Bank, Global Burden if Disease, etc. The data was and is currently being collected using the ECDC data made available daily through an uodated clean downloadable file. The ECDC collects the data from all the countries around the world. The data was collected to keep track of the COVID pandemic and to assist in COVID research efforts. The data is being used to report the state of all countried during the pandemic. The rows represent the location the COVID data is from, the date, and stats pertaining to COVID. The rows also include information about a country's population like population density, median age, handwashing habits, etc. Researchers, healthcare professionals, and policy makers might use this data to help them understand the state of the pandemic and how to plan accordingly. Types of questions many users might be able to analyze with this data include trends in positive cases with reference to location. Furthermore, this dataset can be used to analyze if age plays a role in the effect of COVID. Overall, the dataset can be analyzed to find trends in number of cases in association with a country's population and societal statistics.\n"
   ]
  },
  {
   "cell_type": "code",
   "execution_count": null,
   "metadata": {},
   "outputs": [],
   "source": []
  },
  {
   "cell_type": "markdown",
   "metadata": {},
   "source": [
    "***\n",
    "# Section: 2 - Data Understanding\n",
    "- Perform exploratory data analysis of the dataset by looking at individual attributes and/or combinations of attributes. You should focus on identifying and describing interesting observations and insights that you might uncover from the data.\n",
    "- You should not simply provide the basic EDA information for all attributes in the data. Instead, you should focus on those that are more interesting or important, and provide some discussion of what you observe. Pay particular attention to potentially interesting bivariate (two-variable) relationships, as well as the relationship between each attribute and the class.\n",
    "***"
   ]
  },
  {
   "cell_type": "code",
   "execution_count": 47,
   "metadata": {},
   "outputs": [
    {
     "data": {
      "text/html": [
       "<div>\n",
       "<style scoped>\n",
       "    .dataframe tbody tr th:only-of-type {\n",
       "        vertical-align: middle;\n",
       "    }\n",
       "\n",
       "    .dataframe tbody tr th {\n",
       "        vertical-align: top;\n",
       "    }\n",
       "\n",
       "    .dataframe thead th {\n",
       "        text-align: right;\n",
       "    }\n",
       "</style>\n",
       "<table border=\"1\" class=\"dataframe\">\n",
       "  <thead>\n",
       "    <tr style=\"text-align: right;\">\n",
       "      <th></th>\n",
       "      <th>RECID</th>\n",
       "      <th>iso_code</th>\n",
       "      <th>continent</th>\n",
       "      <th>location</th>\n",
       "      <th>date</th>\n",
       "      <th>total_cases</th>\n",
       "      <th>new_cases</th>\n",
       "      <th>new_cases_smoothed</th>\n",
       "      <th>total_deaths</th>\n",
       "      <th>new_deaths</th>\n",
       "      <th>...</th>\n",
       "      <th>gdp_per_capita</th>\n",
       "      <th>extreme_poverty</th>\n",
       "      <th>cardiovasc_death_rate</th>\n",
       "      <th>diabetes_prevalence</th>\n",
       "      <th>female_smokers</th>\n",
       "      <th>male_smokers</th>\n",
       "      <th>handwashing_facilities</th>\n",
       "      <th>hospital_beds_per_thousand</th>\n",
       "      <th>life_expectancy</th>\n",
       "      <th>NEW_CASE_TREND</th>\n",
       "    </tr>\n",
       "  </thead>\n",
       "  <tbody>\n",
       "    <tr>\n",
       "      <th>0</th>\n",
       "      <td>1</td>\n",
       "      <td>AFG</td>\n",
       "      <td>Asia</td>\n",
       "      <td>Afghanistan</td>\n",
       "      <td>2019-12-31</td>\n",
       "      <td>0.0</td>\n",
       "      <td>0.0</td>\n",
       "      <td>NaN</td>\n",
       "      <td>0.0</td>\n",
       "      <td>0.0</td>\n",
       "      <td>...</td>\n",
       "      <td>1803.987</td>\n",
       "      <td>NaN</td>\n",
       "      <td>597.029</td>\n",
       "      <td>9.59</td>\n",
       "      <td>NaN</td>\n",
       "      <td>NaN</td>\n",
       "      <td>37.746</td>\n",
       "      <td>0.5</td>\n",
       "      <td>64.83</td>\n",
       "      <td>NaN</td>\n",
       "    </tr>\n",
       "    <tr>\n",
       "      <th>1</th>\n",
       "      <td>2</td>\n",
       "      <td>AFG</td>\n",
       "      <td>Asia</td>\n",
       "      <td>Afghanistan</td>\n",
       "      <td>2020-01-01</td>\n",
       "      <td>0.0</td>\n",
       "      <td>0.0</td>\n",
       "      <td>NaN</td>\n",
       "      <td>0.0</td>\n",
       "      <td>0.0</td>\n",
       "      <td>...</td>\n",
       "      <td>1803.987</td>\n",
       "      <td>NaN</td>\n",
       "      <td>597.029</td>\n",
       "      <td>9.59</td>\n",
       "      <td>NaN</td>\n",
       "      <td>NaN</td>\n",
       "      <td>37.746</td>\n",
       "      <td>0.5</td>\n",
       "      <td>64.83</td>\n",
       "      <td>NaN</td>\n",
       "    </tr>\n",
       "    <tr>\n",
       "      <th>2</th>\n",
       "      <td>3</td>\n",
       "      <td>AFG</td>\n",
       "      <td>Asia</td>\n",
       "      <td>Afghanistan</td>\n",
       "      <td>2020-01-02</td>\n",
       "      <td>0.0</td>\n",
       "      <td>0.0</td>\n",
       "      <td>NaN</td>\n",
       "      <td>0.0</td>\n",
       "      <td>0.0</td>\n",
       "      <td>...</td>\n",
       "      <td>1803.987</td>\n",
       "      <td>NaN</td>\n",
       "      <td>597.029</td>\n",
       "      <td>9.59</td>\n",
       "      <td>NaN</td>\n",
       "      <td>NaN</td>\n",
       "      <td>37.746</td>\n",
       "      <td>0.5</td>\n",
       "      <td>64.83</td>\n",
       "      <td>NaN</td>\n",
       "    </tr>\n",
       "    <tr>\n",
       "      <th>3</th>\n",
       "      <td>4</td>\n",
       "      <td>AFG</td>\n",
       "      <td>Asia</td>\n",
       "      <td>Afghanistan</td>\n",
       "      <td>2020-01-03</td>\n",
       "      <td>0.0</td>\n",
       "      <td>0.0</td>\n",
       "      <td>NaN</td>\n",
       "      <td>0.0</td>\n",
       "      <td>0.0</td>\n",
       "      <td>...</td>\n",
       "      <td>1803.987</td>\n",
       "      <td>NaN</td>\n",
       "      <td>597.029</td>\n",
       "      <td>9.59</td>\n",
       "      <td>NaN</td>\n",
       "      <td>NaN</td>\n",
       "      <td>37.746</td>\n",
       "      <td>0.5</td>\n",
       "      <td>64.83</td>\n",
       "      <td>NaN</td>\n",
       "    </tr>\n",
       "    <tr>\n",
       "      <th>4</th>\n",
       "      <td>5</td>\n",
       "      <td>AFG</td>\n",
       "      <td>Asia</td>\n",
       "      <td>Afghanistan</td>\n",
       "      <td>2020-01-04</td>\n",
       "      <td>0.0</td>\n",
       "      <td>0.0</td>\n",
       "      <td>NaN</td>\n",
       "      <td>0.0</td>\n",
       "      <td>0.0</td>\n",
       "      <td>...</td>\n",
       "      <td>1803.987</td>\n",
       "      <td>NaN</td>\n",
       "      <td>597.029</td>\n",
       "      <td>9.59</td>\n",
       "      <td>NaN</td>\n",
       "      <td>NaN</td>\n",
       "      <td>37.746</td>\n",
       "      <td>0.5</td>\n",
       "      <td>64.83</td>\n",
       "      <td>NaN</td>\n",
       "    </tr>\n",
       "  </tbody>\n",
       "</table>\n",
       "<p>5 rows × 42 columns</p>\n",
       "</div>"
      ],
      "text/plain": [
       "   RECID iso_code continent     location       date  total_cases  new_cases  \\\n",
       "0      1      AFG      Asia  Afghanistan 2019-12-31          0.0        0.0   \n",
       "1      2      AFG      Asia  Afghanistan 2020-01-01          0.0        0.0   \n",
       "2      3      AFG      Asia  Afghanistan 2020-01-02          0.0        0.0   \n",
       "3      4      AFG      Asia  Afghanistan 2020-01-03          0.0        0.0   \n",
       "4      5      AFG      Asia  Afghanistan 2020-01-04          0.0        0.0   \n",
       "\n",
       "   new_cases_smoothed  total_deaths  new_deaths  ...  gdp_per_capita  \\\n",
       "0                 NaN           0.0         0.0  ...        1803.987   \n",
       "1                 NaN           0.0         0.0  ...        1803.987   \n",
       "2                 NaN           0.0         0.0  ...        1803.987   \n",
       "3                 NaN           0.0         0.0  ...        1803.987   \n",
       "4                 NaN           0.0         0.0  ...        1803.987   \n",
       "\n",
       "   extreme_poverty  cardiovasc_death_rate  diabetes_prevalence  \\\n",
       "0              NaN                597.029                 9.59   \n",
       "1              NaN                597.029                 9.59   \n",
       "2              NaN                597.029                 9.59   \n",
       "3              NaN                597.029                 9.59   \n",
       "4              NaN                597.029                 9.59   \n",
       "\n",
       "   female_smokers  male_smokers  handwashing_facilities  \\\n",
       "0             NaN           NaN                  37.746   \n",
       "1             NaN           NaN                  37.746   \n",
       "2             NaN           NaN                  37.746   \n",
       "3             NaN           NaN                  37.746   \n",
       "4             NaN           NaN                  37.746   \n",
       "\n",
       "   hospital_beds_per_thousand  life_expectancy  NEW_CASE_TREND  \n",
       "0                         0.5            64.83             NaN  \n",
       "1                         0.5            64.83             NaN  \n",
       "2                         0.5            64.83             NaN  \n",
       "3                         0.5            64.83             NaN  \n",
       "4                         0.5            64.83             NaN  \n",
       "\n",
       "[5 rows x 42 columns]"
      ]
     },
     "execution_count": 47,
     "metadata": {},
     "output_type": "execute_result"
    }
   ],
   "source": [
    "df = pd.read_excel('ALTERED owid-covid-data.xlsx', sheet_name = 'ALTERED owid-covid-data')\n",
    "df.head()"
   ]
  },
  {
   "cell_type": "markdown",
   "metadata": {},
   "source": [
    "In the following box I will be finding correlations between attributes pertaining to "
   ]
  },
  {
   "cell_type": "code",
   "execution_count": 52,
   "metadata": {},
   "outputs": [
    {
     "data": {
      "text/html": [
       "<div>\n",
       "<style scoped>\n",
       "    .dataframe tbody tr th:only-of-type {\n",
       "        vertical-align: middle;\n",
       "    }\n",
       "\n",
       "    .dataframe tbody tr th {\n",
       "        vertical-align: top;\n",
       "    }\n",
       "\n",
       "    .dataframe thead th {\n",
       "        text-align: right;\n",
       "    }\n",
       "</style>\n",
       "<table border=\"1\" class=\"dataframe\">\n",
       "  <thead>\n",
       "    <tr style=\"text-align: right;\">\n",
       "      <th></th>\n",
       "      <th>location</th>\n",
       "      <th>total_cases_per_million</th>\n",
       "      <th>total_deaths_per_million</th>\n",
       "      <th>total_tests_per_thousand</th>\n",
       "      <th>tests_per_case</th>\n",
       "      <th>positive_rate</th>\n",
       "      <th>tests_units</th>\n",
       "      <th>stringency_index</th>\n",
       "      <th>population</th>\n",
       "      <th>population_density</th>\n",
       "      <th>...</th>\n",
       "      <th>aged_70_older</th>\n",
       "      <th>gdp_per_capita</th>\n",
       "      <th>extreme_poverty</th>\n",
       "      <th>cardiovasc_death_rate</th>\n",
       "      <th>diabetes_prevalence</th>\n",
       "      <th>female_smokers</th>\n",
       "      <th>male_smokers</th>\n",
       "      <th>handwashing_facilities</th>\n",
       "      <th>hospital_beds_per_thousand</th>\n",
       "      <th>life_expectancy</th>\n",
       "    </tr>\n",
       "  </thead>\n",
       "  <tbody>\n",
       "    <tr>\n",
       "      <th>0</th>\n",
       "      <td>Afghanistan</td>\n",
       "      <td>0.0</td>\n",
       "      <td>0.0</td>\n",
       "      <td>NaN</td>\n",
       "      <td>NaN</td>\n",
       "      <td>NaN</td>\n",
       "      <td>NaN</td>\n",
       "      <td>NaN</td>\n",
       "      <td>38928341.0</td>\n",
       "      <td>54.422</td>\n",
       "      <td>...</td>\n",
       "      <td>1.337</td>\n",
       "      <td>1803.987</td>\n",
       "      <td>NaN</td>\n",
       "      <td>597.029</td>\n",
       "      <td>9.59</td>\n",
       "      <td>NaN</td>\n",
       "      <td>NaN</td>\n",
       "      <td>37.746</td>\n",
       "      <td>0.5</td>\n",
       "      <td>64.83</td>\n",
       "    </tr>\n",
       "    <tr>\n",
       "      <th>1</th>\n",
       "      <td>Afghanistan</td>\n",
       "      <td>0.0</td>\n",
       "      <td>0.0</td>\n",
       "      <td>NaN</td>\n",
       "      <td>NaN</td>\n",
       "      <td>NaN</td>\n",
       "      <td>NaN</td>\n",
       "      <td>0.0</td>\n",
       "      <td>38928341.0</td>\n",
       "      <td>54.422</td>\n",
       "      <td>...</td>\n",
       "      <td>1.337</td>\n",
       "      <td>1803.987</td>\n",
       "      <td>NaN</td>\n",
       "      <td>597.029</td>\n",
       "      <td>9.59</td>\n",
       "      <td>NaN</td>\n",
       "      <td>NaN</td>\n",
       "      <td>37.746</td>\n",
       "      <td>0.5</td>\n",
       "      <td>64.83</td>\n",
       "    </tr>\n",
       "    <tr>\n",
       "      <th>2</th>\n",
       "      <td>Afghanistan</td>\n",
       "      <td>0.0</td>\n",
       "      <td>0.0</td>\n",
       "      <td>NaN</td>\n",
       "      <td>NaN</td>\n",
       "      <td>NaN</td>\n",
       "      <td>NaN</td>\n",
       "      <td>0.0</td>\n",
       "      <td>38928341.0</td>\n",
       "      <td>54.422</td>\n",
       "      <td>...</td>\n",
       "      <td>1.337</td>\n",
       "      <td>1803.987</td>\n",
       "      <td>NaN</td>\n",
       "      <td>597.029</td>\n",
       "      <td>9.59</td>\n",
       "      <td>NaN</td>\n",
       "      <td>NaN</td>\n",
       "      <td>37.746</td>\n",
       "      <td>0.5</td>\n",
       "      <td>64.83</td>\n",
       "    </tr>\n",
       "    <tr>\n",
       "      <th>3</th>\n",
       "      <td>Afghanistan</td>\n",
       "      <td>0.0</td>\n",
       "      <td>0.0</td>\n",
       "      <td>NaN</td>\n",
       "      <td>NaN</td>\n",
       "      <td>NaN</td>\n",
       "      <td>NaN</td>\n",
       "      <td>0.0</td>\n",
       "      <td>38928341.0</td>\n",
       "      <td>54.422</td>\n",
       "      <td>...</td>\n",
       "      <td>1.337</td>\n",
       "      <td>1803.987</td>\n",
       "      <td>NaN</td>\n",
       "      <td>597.029</td>\n",
       "      <td>9.59</td>\n",
       "      <td>NaN</td>\n",
       "      <td>NaN</td>\n",
       "      <td>37.746</td>\n",
       "      <td>0.5</td>\n",
       "      <td>64.83</td>\n",
       "    </tr>\n",
       "    <tr>\n",
       "      <th>4</th>\n",
       "      <td>Afghanistan</td>\n",
       "      <td>0.0</td>\n",
       "      <td>0.0</td>\n",
       "      <td>NaN</td>\n",
       "      <td>NaN</td>\n",
       "      <td>NaN</td>\n",
       "      <td>NaN</td>\n",
       "      <td>0.0</td>\n",
       "      <td>38928341.0</td>\n",
       "      <td>54.422</td>\n",
       "      <td>...</td>\n",
       "      <td>1.337</td>\n",
       "      <td>1803.987</td>\n",
       "      <td>NaN</td>\n",
       "      <td>597.029</td>\n",
       "      <td>9.59</td>\n",
       "      <td>NaN</td>\n",
       "      <td>NaN</td>\n",
       "      <td>37.746</td>\n",
       "      <td>0.5</td>\n",
       "      <td>64.83</td>\n",
       "    </tr>\n",
       "  </tbody>\n",
       "</table>\n",
       "<p>5 rows × 22 columns</p>\n",
       "</div>"
      ],
      "text/plain": [
       "      location  total_cases_per_million  total_deaths_per_million  \\\n",
       "0  Afghanistan                      0.0                       0.0   \n",
       "1  Afghanistan                      0.0                       0.0   \n",
       "2  Afghanistan                      0.0                       0.0   \n",
       "3  Afghanistan                      0.0                       0.0   \n",
       "4  Afghanistan                      0.0                       0.0   \n",
       "\n",
       "   total_tests_per_thousand  tests_per_case  positive_rate tests_units  \\\n",
       "0                       NaN             NaN            NaN         NaN   \n",
       "1                       NaN             NaN            NaN         NaN   \n",
       "2                       NaN             NaN            NaN         NaN   \n",
       "3                       NaN             NaN            NaN         NaN   \n",
       "4                       NaN             NaN            NaN         NaN   \n",
       "\n",
       "   stringency_index  population  population_density  ...  aged_70_older  \\\n",
       "0               NaN  38928341.0              54.422  ...          1.337   \n",
       "1               0.0  38928341.0              54.422  ...          1.337   \n",
       "2               0.0  38928341.0              54.422  ...          1.337   \n",
       "3               0.0  38928341.0              54.422  ...          1.337   \n",
       "4               0.0  38928341.0              54.422  ...          1.337   \n",
       "\n",
       "   gdp_per_capita  extreme_poverty  cardiovasc_death_rate  \\\n",
       "0        1803.987              NaN                597.029   \n",
       "1        1803.987              NaN                597.029   \n",
       "2        1803.987              NaN                597.029   \n",
       "3        1803.987              NaN                597.029   \n",
       "4        1803.987              NaN                597.029   \n",
       "\n",
       "   diabetes_prevalence  female_smokers  male_smokers  handwashing_facilities  \\\n",
       "0                 9.59             NaN           NaN                  37.746   \n",
       "1                 9.59             NaN           NaN                  37.746   \n",
       "2                 9.59             NaN           NaN                  37.746   \n",
       "3                 9.59             NaN           NaN                  37.746   \n",
       "4                 9.59             NaN           NaN                  37.746   \n",
       "\n",
       "   hospital_beds_per_thousand  life_expectancy  \n",
       "0                         0.5            64.83  \n",
       "1                         0.5            64.83  \n",
       "2                         0.5            64.83  \n",
       "3                         0.5            64.83  \n",
       "4                         0.5            64.83  \n",
       "\n",
       "[5 rows x 22 columns]"
      ]
     },
     "execution_count": 52,
     "metadata": {},
     "output_type": "execute_result"
    }
   ],
   "source": [
    "df_copy1 = df.copy()\n",
    "df_copy1 = df_copy1.drop(['RECID','iso_code','continent','total_cases','total_deaths','date','new_cases','new_cases_smoothed','new_deaths','new_deaths_smoothed','new_deaths_per_million', 'new_deaths_smoothed_per_million','new_tests','total_tests','new_tests_per_thousand','new_tests_smoothed','new_tests_smoothed_per_thousand','new_cases_per_million', 'new_cases_smoothed_per_million','NEW_CASE_TREND'], axis=1)\n",
    "df_copy1 = df_copy1.drop(['location'])\n",
    "df_copy1.head()\n"
   ]
  },
  {
   "cell_type": "markdown",
   "metadata": {},
   "source": [
    "In the following code box I will be finding correlations between the attributes."
   ]
  },
  {
   "cell_type": "code",
   "execution_count": 59,
   "metadata": {},
   "outputs": [
    {
     "data": {
      "image/png": "[encoded data removed]",
      "text/plain": [
       "<Figure size 432x288 with 2 Axes>"
      ]
     },
     "metadata": {
      "needs_background": "light"
     },
     "output_type": "display_data"
    }
   ],
   "source": [
    "\n",
    "corr = df_copy1.corr()\n",
    "fig = plt.figure()\n",
    "ax = fig.add_subplot(111)\n",
    "cax = ax.matshow(corr, cmap='coolwarm', vmin=-1,vmax=1)\n",
    "fig.colorbar(cax)\n",
    "ticks = np.arange(0,len(df_copy1.columns),1)\n",
    "ax.set_xticks(ticks)\n",
    "plt.xticks(rotation=90)\n",
    "ax.set_yticks(ticks)\n",
    "ax.set_xticklabels(df_copy1.columns)\n",
    "ax.set_yticklabels(df_copy1.columns)\n",
    "plt.show()"
   ]
  },
  {
   "cell_type": "code",
   "execution_count": 16,
   "metadata": {},
   "outputs": [
    {
     "data": {
      "image/png": "[encoded data removed]",
      "text/plain": [
       "<Figure size 432x288 with 2 Axes>"
      ]
     },
     "metadata": {
      "needs_background": "light"
     },
     "output_type": "display_data"
    }
   ],
   "source": [
    "sns.heatmap(df.corr(), annot = True)\n",
    "plt.show()"
   ]
  },
  {
   "cell_type": "markdown",
   "metadata": {},
   "source": [
    "***\n",
    "## Section: 2.1 - Describe the meaning and type of data for each attribute.\n",
    "***"
   ]
  },
  {
   "cell_type": "markdown",
   "metadata": {},
   "source": [
    "***\n",
    "### Attribute Summary: \n",
    "(attribute_name: attribute level, meaning)\n",
    "- RECID: nominal, number assigned to locations in alphabetical order and at certain dates in chronological order\n",
    "- iso_code: nominal, internationally recognized codes that designate every country\t\n",
    "- continent: nominal, name of continent that location(country) belongs to\t\n",
    "- location: nomimal, name of country where data is from\n",
    "- date: interval, date of when data was collected\n",
    "- total_cases: ratio, total number of covid cases  \n",
    "- new_cases: ratio, total number of new covid cases during the date\t\n",
    "- new_cases_smoothed: ratio, moving average from the day before to the day after each date shown of total number of new covid cases \n",
    "- total_deaths: ratio, total number of covid deaths \n",
    "- new_deaths: ratio, total number of new covid deaths during the date\t\n",
    "- new_deaths_smoothed: ratio, moving average from the day before to the day after each date shown of total number of new covid deaths  \t\n",
    "- total_cases_per_million: ratio, total number of covid cases per million\n",
    "- new_cases_per_million: ratio, total number of new covid cases per million\n",
    "- new_cases_smoothed_per_million: ratio, moving average from the day before to the day after each date shown of total number of new covid cases per million\n",
    "- total_deaths_per_million: ratio, total number of covid deaths per million\t\n",
    "- new_deaths_per_million: ratio, total number of new covid deaths per million\n",
    "- new_deaths_smoothed_per_million: ratio, moving average from the day before to the day after each date shown of total number of new covid deaths per million \n",
    "- new_tests: ratio, total number of new covid tests during the date\t \n",
    "- total_tests: ratio, total number of covid tests\t\n",
    "- total_tests_per_thousand: ratio, total number of covid tests per thousand\t\n",
    "- new_tests_per_thousand: ratio, total number of new covid tests during the date per thousand\t\n",
    "- new_tests_smoothed: ratio, moving average from the day before to the day after each date shown of total number of new covid tests   \t\n",
    "- new_tests_smoothed_per_thousand: ratio, moving average from the day before to the day after each date shown of total number of new covid tests per thousand\n",
    "- tests_per_case: ratio, number of tests per covid case\t\n",
    "- positive_rate: ration, positive rate of tested in country\n",
    "- tests_units: nominal, Units used by the location to report its testing data\n",
    "- stringency_index: ratio, computable parameter for evaluating the effectiveness of the nationwide lockdown\t\n",
    "- population: ratio, population of the location\t\n",
    "- population_density: ratio, number of people living in each unit of area (most likely square kilometers)\t\n",
    "- median_age: ratio, median age of the location's population\t\n",
    "- aged_65_older: ratio, percentage of population that is 65 or older\t\n",
    "- aged_70_older: ratio, percentage of population that is 70 or older\t\n",
    "- gdp_per_capita: ratio, measure of a country's economic output per person\t\n",
    "- extreme_poverty:ratio, percentage of population in extreme poverty\t\n",
    "- cardiovasc_death_rate: ratio, Death rate from cardiovascular disease in 2017 (annual number of deaths per 100,000 people) \t\n",
    "- diabetes_prevalence: ratio, percentage of population with diabetes\t\n",
    "- female_smokers: ratio, percentage of female smokers from the population\n",
    "- male_smokers: ratio, percentage of male smokers from the population\n",
    "- handwashing_facilities: ratio, share of the population with basic handwashing facilities on premises, most recent year available\t\n",
    "- hospital_beds_per_thousand: ratio, Hospital beds per 1,000 people, most recent year available since 2010\t\n",
    "- life_expectancy: ratio, life expectancy at birth \t\n",
    "- NEW_CASE_TREND: ordinal, type of covid growth \n",
    "***"
   ]
  },
  {
   "cell_type": "code",
   "execution_count": 77,
   "metadata": {},
   "outputs": [
    {
     "data": {
      "text/plain": [
       "RECID                                       int64\n",
       "iso_code                                   object\n",
       "continent                                  object\n",
       "location                                   object\n",
       "date                               datetime64[ns]\n",
       "total_cases                               float64\n",
       "new_cases                                 float64\n",
       "new_cases_smoothed                        float64\n",
       "total_deaths                              float64\n",
       "new_deaths                                float64\n",
       "new_deaths_smoothed                       float64\n",
       "total_cases_per_million                   float64\n",
       "new_cases_per_million                     float64\n",
       "new_cases_smoothed_per_million            float64\n",
       "total_deaths_per_million                  float64\n",
       "new_deaths_per_million                    float64\n",
       "new_deaths_smoothed_per_million           float64\n",
       "new_tests                                 float64\n",
       "total_tests                               float64\n",
       "total_tests_per_thousand                  float64\n",
       "new_tests_per_thousand                    float64\n",
       "new_tests_smoothed                        float64\n",
       "new_tests_smoothed_per_thousand           float64\n",
       "tests_per_case                            float64\n",
       "positive_rate                             float64\n",
       "tests_units                                object\n",
       "stringency_index                          float64\n",
       "population                                float64\n",
       "population_density                        float64\n",
       "median_age                                float64\n",
       "aged_65_older                             float64\n",
       "aged_70_older                             float64\n",
       "gdp_per_capita                            float64\n",
       "extreme_poverty                           float64\n",
       "cardiovasc_death_rate                     float64\n",
       "diabetes_prevalence                       float64\n",
       "female_smokers                            float64\n",
       "male_smokers                              float64\n",
       "handwashing_facilities                    float64\n",
       "hospital_beds_per_thousand                float64\n",
       "life_expectancy                           float64\n",
       "NEW_CASE_TREND                             object\n",
       "dtype: object"
      ]
     },
     "execution_count": 77,
     "metadata": {},
     "output_type": "execute_result"
    }
   ],
   "source": [
    "# Check the data types\n",
    "df.dtypes"
   ]
  },
  {
   "cell_type": "markdown",
   "metadata": {},
   "source": [
    "***\n",
    "## Section: 2.2 - Provide basic statistics for the attributes.\n",
    "- For example: counts, percentiles, mean, median, standard deviation. The statistics should be relevant for the type of attribute.\n",
    "***"
   ]
  },
  {
   "cell_type": "code",
   "execution_count": 114,
   "metadata": {
    "scrolled": false
   },
   "outputs": [
    {
     "name": "stdout",
     "output_type": "stream",
     "text": [
      "Statistics for total_cases per location:\n"
     ]
    },
    {
     "data": {
      "text/html": [
       "<div>\n",
       "<style scoped>\n",
       "    .dataframe tbody tr th:only-of-type {\n",
       "        vertical-align: middle;\n",
       "    }\n",
       "\n",
       "    .dataframe tbody tr th {\n",
       "        vertical-align: top;\n",
       "    }\n",
       "\n",
       "    .dataframe thead th {\n",
       "        text-align: right;\n",
       "    }\n",
       "</style>\n",
       "<table border=\"1\" class=\"dataframe\">\n",
       "  <thead>\n",
       "    <tr style=\"text-align: right;\">\n",
       "      <th></th>\n",
       "      <th>count</th>\n",
       "      <th>mean</th>\n",
       "      <th>std</th>\n",
       "      <th>min</th>\n",
       "      <th>25%</th>\n",
       "      <th>50%</th>\n",
       "      <th>75%</th>\n",
       "      <th>max</th>\n",
       "    </tr>\n",
       "    <tr>\n",
       "      <th>location</th>\n",
       "      <th></th>\n",
       "      <th></th>\n",
       "      <th></th>\n",
       "      <th></th>\n",
       "      <th></th>\n",
       "      <th></th>\n",
       "      <th></th>\n",
       "      <th></th>\n",
       "    </tr>\n",
       "  </thead>\n",
       "  <tbody>\n",
       "    <tr>\n",
       "      <th>Afghanistan</th>\n",
       "      <td>243.0</td>\n",
       "      <td>1.462470e+04</td>\n",
       "      <td>1.610030e+04</td>\n",
       "      <td>0.0</td>\n",
       "      <td>1.00</td>\n",
       "      <td>4402.0</td>\n",
       "      <td>34137.0</td>\n",
       "      <td>38520.0</td>\n",
       "    </tr>\n",
       "    <tr>\n",
       "      <th>Albania</th>\n",
       "      <td>186.0</td>\n",
       "      <td>2.841667e+03</td>\n",
       "      <td>3.012825e+03</td>\n",
       "      <td>2.0</td>\n",
       "      <td>641.25</td>\n",
       "      <td>1254.5</td>\n",
       "      <td>4544.0</td>\n",
       "      <td>10553.0</td>\n",
       "    </tr>\n",
       "    <tr>\n",
       "      <th>Algeria</th>\n",
       "      <td>249.0</td>\n",
       "      <td>1.144602e+04</td>\n",
       "      <td>1.434287e+04</td>\n",
       "      <td>0.0</td>\n",
       "      <td>3.00</td>\n",
       "      <td>5182.0</td>\n",
       "      <td>17348.0</td>\n",
       "      <td>46938.0</td>\n",
       "    </tr>\n",
       "    <tr>\n",
       "      <th>Andorra</th>\n",
       "      <td>180.0</td>\n",
       "      <td>7.736111e+02</td>\n",
       "      <td>2.661866e+02</td>\n",
       "      <td>1.0</td>\n",
       "      <td>742.25</td>\n",
       "      <td>852.0</td>\n",
       "      <td>897.0</td>\n",
       "      <td>1261.0</td>\n",
       "    </tr>\n",
       "    <tr>\n",
       "      <th>Angola</th>\n",
       "      <td>172.0</td>\n",
       "      <td>6.227616e+02</td>\n",
       "      <td>8.632025e+02</td>\n",
       "      <td>2.0</td>\n",
       "      <td>35.00</td>\n",
       "      <td>141.0</td>\n",
       "      <td>936.5</td>\n",
       "      <td>2981.0</td>\n",
       "    </tr>\n",
       "    <tr>\n",
       "      <th>...</th>\n",
       "      <td>...</td>\n",
       "      <td>...</td>\n",
       "      <td>...</td>\n",
       "      <td>...</td>\n",
       "      <td>...</td>\n",
       "      <td>...</td>\n",
       "      <td>...</td>\n",
       "      <td>...</td>\n",
       "    </tr>\n",
       "    <tr>\n",
       "      <th>Western Sahara</th>\n",
       "      <td>137.0</td>\n",
       "      <td>3.826715e+02</td>\n",
       "      <td>3.574054e+02</td>\n",
       "      <td>6.0</td>\n",
       "      <td>23.00</td>\n",
       "      <td>461.0</td>\n",
       "      <td>766.0</td>\n",
       "      <td>766.0</td>\n",
       "    </tr>\n",
       "    <tr>\n",
       "      <th>World</th>\n",
       "      <td>254.0</td>\n",
       "      <td>7.002488e+06</td>\n",
       "      <td>8.193672e+06</td>\n",
       "      <td>27.0</td>\n",
       "      <td>91622.75</td>\n",
       "      <td>3586353.0</td>\n",
       "      <td>11750783.0</td>\n",
       "      <td>27609408.0</td>\n",
       "    </tr>\n",
       "    <tr>\n",
       "      <th>Yemen</th>\n",
       "      <td>153.0</td>\n",
       "      <td>9.638824e+02</td>\n",
       "      <td>7.627824e+02</td>\n",
       "      <td>1.0</td>\n",
       "      <td>128.00</td>\n",
       "      <td>1015.0</td>\n",
       "      <td>1730.0</td>\n",
       "      <td>1994.0</td>\n",
       "    </tr>\n",
       "    <tr>\n",
       "      <th>Zambia</th>\n",
       "      <td>175.0</td>\n",
       "      <td>3.109446e+03</td>\n",
       "      <td>4.021109e+03</td>\n",
       "      <td>2.0</td>\n",
       "      <td>107.50</td>\n",
       "      <td>1357.0</td>\n",
       "      <td>4516.5</td>\n",
       "      <td>12952.0</td>\n",
       "    </tr>\n",
       "    <tr>\n",
       "      <th>Zimbabwe</th>\n",
       "      <td>173.0</td>\n",
       "      <td>1.626925e+03</td>\n",
       "      <td>2.297350e+03</td>\n",
       "      <td>1.0</td>\n",
       "      <td>34.00</td>\n",
       "      <td>383.0</td>\n",
       "      <td>2704.0</td>\n",
       "      <td>7388.0</td>\n",
       "    </tr>\n",
       "  </tbody>\n",
       "</table>\n",
       "<p>212 rows × 8 columns</p>\n",
       "</div>"
      ],
      "text/plain": [
       "                count          mean           std   min       25%        50%  \\\n",
       "location                                                                       \n",
       "Afghanistan     243.0  1.462470e+04  1.610030e+04   0.0      1.00     4402.0   \n",
       "Albania         186.0  2.841667e+03  3.012825e+03   2.0    641.25     1254.5   \n",
       "Algeria         249.0  1.144602e+04  1.434287e+04   0.0      3.00     5182.0   \n",
       "Andorra         180.0  7.736111e+02  2.661866e+02   1.0    742.25      852.0   \n",
       "Angola          172.0  6.227616e+02  8.632025e+02   2.0     35.00      141.0   \n",
       "...               ...           ...           ...   ...       ...        ...   \n",
       "Western Sahara  137.0  3.826715e+02  3.574054e+02   6.0     23.00      461.0   \n",
       "World           254.0  7.002488e+06  8.193672e+06  27.0  91622.75  3586353.0   \n",
       "Yemen           153.0  9.638824e+02  7.627824e+02   1.0    128.00     1015.0   \n",
       "Zambia          175.0  3.109446e+03  4.021109e+03   2.0    107.50     1357.0   \n",
       "Zimbabwe        173.0  1.626925e+03  2.297350e+03   1.0     34.00      383.0   \n",
       "\n",
       "                       75%         max  \n",
       "location                                \n",
       "Afghanistan        34137.0     38520.0  \n",
       "Albania             4544.0     10553.0  \n",
       "Algeria            17348.0     46938.0  \n",
       "Andorra              897.0      1261.0  \n",
       "Angola               936.5      2981.0  \n",
       "...                    ...         ...  \n",
       "Western Sahara       766.0       766.0  \n",
       "World           11750783.0  27609408.0  \n",
       "Yemen               1730.0      1994.0  \n",
       "Zambia              4516.5     12952.0  \n",
       "Zimbabwe            2704.0      7388.0  \n",
       "\n",
       "[212 rows x 8 columns]"
      ]
     },
     "execution_count": 114,
     "metadata": {},
     "output_type": "execute_result"
    }
   ],
   "source": [
    "print('Statistics for total_cases per location:')\n",
    "df.groupby('location')['total_cases'].describe()"
   ]
  },
  {
   "cell_type": "code",
   "execution_count": 116,
   "metadata": {},
   "outputs": [
    {
     "name": "stdout",
     "output_type": "stream",
     "text": [
      "Statistics for new_cases_smoothed per location:\n"
     ]
    },
    {
     "data": {
      "text/html": [
       "<div>\n",
       "<style scoped>\n",
       "    .dataframe tbody tr th:only-of-type {\n",
       "        vertical-align: middle;\n",
       "    }\n",
       "\n",
       "    .dataframe tbody tr th {\n",
       "        vertical-align: top;\n",
       "    }\n",
       "\n",
       "    .dataframe thead th {\n",
       "        text-align: right;\n",
       "    }\n",
       "</style>\n",
       "<table border=\"1\" class=\"dataframe\">\n",
       "  <thead>\n",
       "    <tr style=\"text-align: right;\">\n",
       "      <th></th>\n",
       "      <th>count</th>\n",
       "      <th>mean</th>\n",
       "      <th>std</th>\n",
       "      <th>min</th>\n",
       "      <th>25%</th>\n",
       "      <th>50%</th>\n",
       "      <th>75%</th>\n",
       "      <th>max</th>\n",
       "    </tr>\n",
       "    <tr>\n",
       "      <th>location</th>\n",
       "      <th></th>\n",
       "      <th></th>\n",
       "      <th></th>\n",
       "      <th></th>\n",
       "      <th></th>\n",
       "      <th></th>\n",
       "      <th></th>\n",
       "      <th></th>\n",
       "    </tr>\n",
       "  </thead>\n",
       "  <tbody>\n",
       "    <tr>\n",
       "      <th>Afghanistan</th>\n",
       "      <td>247.0</td>\n",
       "      <td>155.333113</td>\n",
       "      <td>216.831069</td>\n",
       "      <td>0.000</td>\n",
       "      <td>0.42900</td>\n",
       "      <td>52.2860</td>\n",
       "      <td>245.78550</td>\n",
       "      <td>758.571</td>\n",
       "    </tr>\n",
       "    <tr>\n",
       "      <th>Albania</th>\n",
       "      <td>180.0</td>\n",
       "      <td>56.258728</td>\n",
       "      <td>48.961955</td>\n",
       "      <td>5.286</td>\n",
       "      <td>14.85700</td>\n",
       "      <td>25.1430</td>\n",
       "      <td>95.17850</td>\n",
       "      <td>159.429</td>\n",
       "    </tr>\n",
       "    <tr>\n",
       "      <th>Algeria</th>\n",
       "      <td>248.0</td>\n",
       "      <td>185.729246</td>\n",
       "      <td>196.721052</td>\n",
       "      <td>0.000</td>\n",
       "      <td>1.49975</td>\n",
       "      <td>114.0000</td>\n",
       "      <td>343.14275</td>\n",
       "      <td>622.429</td>\n",
       "    </tr>\n",
       "    <tr>\n",
       "      <th>Andorra</th>\n",
       "      <td>185.0</td>\n",
       "      <td>6.609308</td>\n",
       "      <td>8.139193</td>\n",
       "      <td>0.000</td>\n",
       "      <td>0.28600</td>\n",
       "      <td>3.5710</td>\n",
       "      <td>11.28600</td>\n",
       "      <td>33.857</td>\n",
       "    </tr>\n",
       "    <tr>\n",
       "      <th>Angola</th>\n",
       "      <td>166.0</td>\n",
       "      <td>17.259036</td>\n",
       "      <td>20.285218</td>\n",
       "      <td>0.000</td>\n",
       "      <td>1.28600</td>\n",
       "      <td>5.9285</td>\n",
       "      <td>31.46400</td>\n",
       "      <td>73.571</td>\n",
       "    </tr>\n",
       "    <tr>\n",
       "      <th>...</th>\n",
       "      <td>...</td>\n",
       "      <td>...</td>\n",
       "      <td>...</td>\n",
       "      <td>...</td>\n",
       "      <td>...</td>\n",
       "      <td>...</td>\n",
       "      <td>...</td>\n",
       "      <td>...</td>\n",
       "    </tr>\n",
       "    <tr>\n",
       "      <th>Western Sahara</th>\n",
       "      <td>131.0</td>\n",
       "      <td>5.808130</td>\n",
       "      <td>14.703411</td>\n",
       "      <td>0.000</td>\n",
       "      <td>0.00000</td>\n",
       "      <td>0.0000</td>\n",
       "      <td>0.28600</td>\n",
       "      <td>70.571</td>\n",
       "    </tr>\n",
       "    <tr>\n",
       "      <th>World</th>\n",
       "      <td>248.0</td>\n",
       "      <td>108374.769008</td>\n",
       "      <td>96085.405805</td>\n",
       "      <td>0.000</td>\n",
       "      <td>4497.53550</td>\n",
       "      <td>83064.3575</td>\n",
       "      <td>197768.67825</td>\n",
       "      <td>270541.143</td>\n",
       "    </tr>\n",
       "    <tr>\n",
       "      <th>Yemen</th>\n",
       "      <td>147.0</td>\n",
       "      <td>13.500490</td>\n",
       "      <td>10.867933</td>\n",
       "      <td>0.000</td>\n",
       "      <td>5.78550</td>\n",
       "      <td>10.7140</td>\n",
       "      <td>20.21450</td>\n",
       "      <td>52.143</td>\n",
       "    </tr>\n",
       "    <tr>\n",
       "      <th>Zambia</th>\n",
       "      <td>169.0</td>\n",
       "      <td>75.093822</td>\n",
       "      <td>89.818941</td>\n",
       "      <td>0.000</td>\n",
       "      <td>6.28600</td>\n",
       "      <td>24.1430</td>\n",
       "      <td>149.42900</td>\n",
       "      <td>301.000</td>\n",
       "    </tr>\n",
       "    <tr>\n",
       "      <th>Zimbabwe</th>\n",
       "      <td>167.0</td>\n",
       "      <td>41.609084</td>\n",
       "      <td>53.035728</td>\n",
       "      <td>0.000</td>\n",
       "      <td>1.00000</td>\n",
       "      <td>14.4290</td>\n",
       "      <td>79.57150</td>\n",
       "      <td>208.571</td>\n",
       "    </tr>\n",
       "  </tbody>\n",
       "</table>\n",
       "<p>212 rows × 8 columns</p>\n",
       "</div>"
      ],
      "text/plain": [
       "                count           mean           std    min         25%  \\\n",
       "location                                                                \n",
       "Afghanistan     247.0     155.333113    216.831069  0.000     0.42900   \n",
       "Albania         180.0      56.258728     48.961955  5.286    14.85700   \n",
       "Algeria         248.0     185.729246    196.721052  0.000     1.49975   \n",
       "Andorra         185.0       6.609308      8.139193  0.000     0.28600   \n",
       "Angola          166.0      17.259036     20.285218  0.000     1.28600   \n",
       "...               ...            ...           ...    ...         ...   \n",
       "Western Sahara  131.0       5.808130     14.703411  0.000     0.00000   \n",
       "World           248.0  108374.769008  96085.405805  0.000  4497.53550   \n",
       "Yemen           147.0      13.500490     10.867933  0.000     5.78550   \n",
       "Zambia          169.0      75.093822     89.818941  0.000     6.28600   \n",
       "Zimbabwe        167.0      41.609084     53.035728  0.000     1.00000   \n",
       "\n",
       "                       50%           75%         max  \n",
       "location                                              \n",
       "Afghanistan        52.2860     245.78550     758.571  \n",
       "Albania            25.1430      95.17850     159.429  \n",
       "Algeria           114.0000     343.14275     622.429  \n",
       "Andorra             3.5710      11.28600      33.857  \n",
       "Angola              5.9285      31.46400      73.571  \n",
       "...                    ...           ...         ...  \n",
       "Western Sahara      0.0000       0.28600      70.571  \n",
       "World           83064.3575  197768.67825  270541.143  \n",
       "Yemen              10.7140      20.21450      52.143  \n",
       "Zambia             24.1430     149.42900     301.000  \n",
       "Zimbabwe           14.4290      79.57150     208.571  \n",
       "\n",
       "[212 rows x 8 columns]"
      ]
     },
     "execution_count": 116,
     "metadata": {},
     "output_type": "execute_result"
    }
   ],
   "source": [
    "print('Statistics for new_cases_smoothed per location:')\n",
    "df.groupby('location')['new_cases_smoothed'].describe()"
   ]
  },
  {
   "cell_type": "code",
   "execution_count": 117,
   "metadata": {},
   "outputs": [
    {
     "name": "stdout",
     "output_type": "stream",
     "text": [
      "Statistics for total_deaths per location:\n"
     ]
    },
    {
     "data": {
      "text/html": [
       "<div>\n",
       "<style scoped>\n",
       "    .dataframe tbody tr th:only-of-type {\n",
       "        vertical-align: middle;\n",
       "    }\n",
       "\n",
       "    .dataframe tbody tr th {\n",
       "        vertical-align: top;\n",
       "    }\n",
       "\n",
       "    .dataframe thead th {\n",
       "        text-align: right;\n",
       "    }\n",
       "</style>\n",
       "<table border=\"1\" class=\"dataframe\">\n",
       "  <thead>\n",
       "    <tr style=\"text-align: right;\">\n",
       "      <th></th>\n",
       "      <th>count</th>\n",
       "      <th>mean</th>\n",
       "      <th>std</th>\n",
       "      <th>min</th>\n",
       "      <th>25%</th>\n",
       "      <th>50%</th>\n",
       "      <th>75%</th>\n",
       "      <th>max</th>\n",
       "    </tr>\n",
       "    <tr>\n",
       "      <th>location</th>\n",
       "      <th></th>\n",
       "      <th></th>\n",
       "      <th></th>\n",
       "      <th></th>\n",
       "      <th></th>\n",
       "      <th></th>\n",
       "      <th></th>\n",
       "      <th></th>\n",
       "    </tr>\n",
       "  </thead>\n",
       "  <tbody>\n",
       "    <tr>\n",
       "      <th>Afghanistan</th>\n",
       "      <td>243.0</td>\n",
       "      <td>443.090535</td>\n",
       "      <td>543.293241</td>\n",
       "      <td>0.0</td>\n",
       "      <td>0.0</td>\n",
       "      <td>120.0</td>\n",
       "      <td>975.50</td>\n",
       "      <td>1418.0</td>\n",
       "    </tr>\n",
       "    <tr>\n",
       "      <th>Albania</th>\n",
       "      <td>186.0</td>\n",
       "      <td>84.693548</td>\n",
       "      <td>89.880267</td>\n",
       "      <td>0.0</td>\n",
       "      <td>27.0</td>\n",
       "      <td>34.0</td>\n",
       "      <td>126.75</td>\n",
       "      <td>321.0</td>\n",
       "    </tr>\n",
       "    <tr>\n",
       "      <th>Algeria</th>\n",
       "      <td>249.0</td>\n",
       "      <td>552.156627</td>\n",
       "      <td>521.857712</td>\n",
       "      <td>0.0</td>\n",
       "      <td>0.0</td>\n",
       "      <td>483.0</td>\n",
       "      <td>978.00</td>\n",
       "      <td>1571.0</td>\n",
       "    </tr>\n",
       "    <tr>\n",
       "      <th>Andorra</th>\n",
       "      <td>180.0</td>\n",
       "      <td>42.694444</td>\n",
       "      <td>16.527308</td>\n",
       "      <td>0.0</td>\n",
       "      <td>40.0</td>\n",
       "      <td>51.0</td>\n",
       "      <td>52.00</td>\n",
       "      <td>53.0</td>\n",
       "    </tr>\n",
       "    <tr>\n",
       "      <th>Angola</th>\n",
       "      <td>172.0</td>\n",
       "      <td>27.546512</td>\n",
       "      <td>36.543063</td>\n",
       "      <td>0.0</td>\n",
       "      <td>2.0</td>\n",
       "      <td>6.0</td>\n",
       "      <td>40.25</td>\n",
       "      <td>120.0</td>\n",
       "    </tr>\n",
       "    <tr>\n",
       "      <th>...</th>\n",
       "      <td>...</td>\n",
       "      <td>...</td>\n",
       "      <td>...</td>\n",
       "      <td>...</td>\n",
       "      <td>...</td>\n",
       "      <td>...</td>\n",
       "      <td>...</td>\n",
       "      <td>...</td>\n",
       "    </tr>\n",
       "    <tr>\n",
       "      <th>Western Sahara</th>\n",
       "      <td>137.0</td>\n",
       "      <td>0.751825</td>\n",
       "      <td>0.433539</td>\n",
       "      <td>0.0</td>\n",
       "      <td>1.0</td>\n",
       "      <td>1.0</td>\n",
       "      <td>1.00</td>\n",
       "      <td>1.0</td>\n",
       "    </tr>\n",
       "    <tr>\n",
       "      <th>World</th>\n",
       "      <td>254.0</td>\n",
       "      <td>301415.468504</td>\n",
       "      <td>293956.371277</td>\n",
       "      <td>0.0</td>\n",
       "      <td>3139.0</td>\n",
       "      <td>254600.5</td>\n",
       "      <td>538732.00</td>\n",
       "      <td>898087.0</td>\n",
       "    </tr>\n",
       "    <tr>\n",
       "      <th>Yemen</th>\n",
       "      <td>153.0</td>\n",
       "      <td>266.274510</td>\n",
       "      <td>221.652414</td>\n",
       "      <td>0.0</td>\n",
       "      <td>20.0</td>\n",
       "      <td>274.0</td>\n",
       "      <td>494.00</td>\n",
       "      <td>576.0</td>\n",
       "    </tr>\n",
       "    <tr>\n",
       "      <th>Zambia</th>\n",
       "      <td>175.0</td>\n",
       "      <td>75.714286</td>\n",
       "      <td>104.661900</td>\n",
       "      <td>0.0</td>\n",
       "      <td>3.0</td>\n",
       "      <td>10.0</td>\n",
       "      <td>139.50</td>\n",
       "      <td>296.0</td>\n",
       "    </tr>\n",
       "    <tr>\n",
       "      <th>Zimbabwe</th>\n",
       "      <td>173.0</td>\n",
       "      <td>39.861272</td>\n",
       "      <td>63.716244</td>\n",
       "      <td>0.0</td>\n",
       "      <td>4.0</td>\n",
       "      <td>4.0</td>\n",
       "      <td>36.00</td>\n",
       "      <td>218.0</td>\n",
       "    </tr>\n",
       "  </tbody>\n",
       "</table>\n",
       "<p>212 rows × 8 columns</p>\n",
       "</div>"
      ],
      "text/plain": [
       "                count           mean            std  min     25%       50%  \\\n",
       "location                                                                     \n",
       "Afghanistan     243.0     443.090535     543.293241  0.0     0.0     120.0   \n",
       "Albania         186.0      84.693548      89.880267  0.0    27.0      34.0   \n",
       "Algeria         249.0     552.156627     521.857712  0.0     0.0     483.0   \n",
       "Andorra         180.0      42.694444      16.527308  0.0    40.0      51.0   \n",
       "Angola          172.0      27.546512      36.543063  0.0     2.0       6.0   \n",
       "...               ...            ...            ...  ...     ...       ...   \n",
       "Western Sahara  137.0       0.751825       0.433539  0.0     1.0       1.0   \n",
       "World           254.0  301415.468504  293956.371277  0.0  3139.0  254600.5   \n",
       "Yemen           153.0     266.274510     221.652414  0.0    20.0     274.0   \n",
       "Zambia          175.0      75.714286     104.661900  0.0     3.0      10.0   \n",
       "Zimbabwe        173.0      39.861272      63.716244  0.0     4.0       4.0   \n",
       "\n",
       "                      75%       max  \n",
       "location                             \n",
       "Afghanistan        975.50    1418.0  \n",
       "Albania            126.75     321.0  \n",
       "Algeria            978.00    1571.0  \n",
       "Andorra             52.00      53.0  \n",
       "Angola              40.25     120.0  \n",
       "...                   ...       ...  \n",
       "Western Sahara       1.00       1.0  \n",
       "World           538732.00  898087.0  \n",
       "Yemen              494.00     576.0  \n",
       "Zambia             139.50     296.0  \n",
       "Zimbabwe            36.00     218.0  \n",
       "\n",
       "[212 rows x 8 columns]"
      ]
     },
     "execution_count": 117,
     "metadata": {},
     "output_type": "execute_result"
    }
   ],
   "source": [
    "print('Statistics for total_deaths per location:')\n",
    "df.groupby('location')['total_deaths'].describe()"
   ]
  },
  {
   "cell_type": "code",
   "execution_count": 118,
   "metadata": {
    "scrolled": false
   },
   "outputs": [
    {
     "name": "stdout",
     "output_type": "stream",
     "text": [
      "Statistics for new_deaths per location:\n"
     ]
    },
    {
     "data": {
      "text/html": [
       "<div>\n",
       "<style scoped>\n",
       "    .dataframe tbody tr th:only-of-type {\n",
       "        vertical-align: middle;\n",
       "    }\n",
       "\n",
       "    .dataframe tbody tr th {\n",
       "        vertical-align: top;\n",
       "    }\n",
       "\n",
       "    .dataframe thead th {\n",
       "        text-align: right;\n",
       "    }\n",
       "</style>\n",
       "<table border=\"1\" class=\"dataframe\">\n",
       "  <thead>\n",
       "    <tr style=\"text-align: right;\">\n",
       "      <th></th>\n",
       "      <th>count</th>\n",
       "      <th>mean</th>\n",
       "      <th>std</th>\n",
       "      <th>min</th>\n",
       "      <th>25%</th>\n",
       "      <th>50%</th>\n",
       "      <th>75%</th>\n",
       "      <th>max</th>\n",
       "    </tr>\n",
       "    <tr>\n",
       "      <th>location</th>\n",
       "      <th></th>\n",
       "      <th></th>\n",
       "      <th></th>\n",
       "      <th></th>\n",
       "      <th></th>\n",
       "      <th></th>\n",
       "      <th></th>\n",
       "      <th></th>\n",
       "    </tr>\n",
       "  </thead>\n",
       "  <tbody>\n",
       "    <tr>\n",
       "      <th>Afghanistan</th>\n",
       "      <td>243.0</td>\n",
       "      <td>5.835391</td>\n",
       "      <td>9.716522</td>\n",
       "      <td>0.0</td>\n",
       "      <td>0.0</td>\n",
       "      <td>1.0</td>\n",
       "      <td>7.50</td>\n",
       "      <td>56.0</td>\n",
       "    </tr>\n",
       "    <tr>\n",
       "      <th>Albania</th>\n",
       "      <td>186.0</td>\n",
       "      <td>1.725806</td>\n",
       "      <td>1.927070</td>\n",
       "      <td>0.0</td>\n",
       "      <td>0.0</td>\n",
       "      <td>1.0</td>\n",
       "      <td>3.00</td>\n",
       "      <td>6.0</td>\n",
       "    </tr>\n",
       "    <tr>\n",
       "      <th>Algeria</th>\n",
       "      <td>249.0</td>\n",
       "      <td>6.309237</td>\n",
       "      <td>5.813357</td>\n",
       "      <td>0.0</td>\n",
       "      <td>0.0</td>\n",
       "      <td>7.0</td>\n",
       "      <td>9.00</td>\n",
       "      <td>42.0</td>\n",
       "    </tr>\n",
       "    <tr>\n",
       "      <th>Andorra</th>\n",
       "      <td>180.0</td>\n",
       "      <td>0.294444</td>\n",
       "      <td>0.690698</td>\n",
       "      <td>0.0</td>\n",
       "      <td>0.0</td>\n",
       "      <td>0.0</td>\n",
       "      <td>0.00</td>\n",
       "      <td>4.0</td>\n",
       "    </tr>\n",
       "    <tr>\n",
       "      <th>Angola</th>\n",
       "      <td>172.0</td>\n",
       "      <td>0.697674</td>\n",
       "      <td>1.214626</td>\n",
       "      <td>0.0</td>\n",
       "      <td>0.0</td>\n",
       "      <td>0.0</td>\n",
       "      <td>1.00</td>\n",
       "      <td>6.0</td>\n",
       "    </tr>\n",
       "    <tr>\n",
       "      <th>...</th>\n",
       "      <td>...</td>\n",
       "      <td>...</td>\n",
       "      <td>...</td>\n",
       "      <td>...</td>\n",
       "      <td>...</td>\n",
       "      <td>...</td>\n",
       "      <td>...</td>\n",
       "      <td>...</td>\n",
       "    </tr>\n",
       "    <tr>\n",
       "      <th>Western Sahara</th>\n",
       "      <td>137.0</td>\n",
       "      <td>0.007299</td>\n",
       "      <td>0.085436</td>\n",
       "      <td>0.0</td>\n",
       "      <td>0.0</td>\n",
       "      <td>0.0</td>\n",
       "      <td>0.00</td>\n",
       "      <td>1.0</td>\n",
       "    </tr>\n",
       "    <tr>\n",
       "      <th>World</th>\n",
       "      <td>254.0</td>\n",
       "      <td>3535.775591</td>\n",
       "      <td>2660.093327</td>\n",
       "      <td>0.0</td>\n",
       "      <td>124.0</td>\n",
       "      <td>4127.5</td>\n",
       "      <td>5587.75</td>\n",
       "      <td>10491.0</td>\n",
       "    </tr>\n",
       "    <tr>\n",
       "      <th>Yemen</th>\n",
       "      <td>153.0</td>\n",
       "      <td>3.764706</td>\n",
       "      <td>6.580238</td>\n",
       "      <td>0.0</td>\n",
       "      <td>1.0</td>\n",
       "      <td>2.0</td>\n",
       "      <td>4.00</td>\n",
       "      <td>52.0</td>\n",
       "    </tr>\n",
       "    <tr>\n",
       "      <th>Zambia</th>\n",
       "      <td>175.0</td>\n",
       "      <td>1.691429</td>\n",
       "      <td>5.087362</td>\n",
       "      <td>0.0</td>\n",
       "      <td>0.0</td>\n",
       "      <td>0.0</td>\n",
       "      <td>1.00</td>\n",
       "      <td>40.0</td>\n",
       "    </tr>\n",
       "    <tr>\n",
       "      <th>Zimbabwe</th>\n",
       "      <td>173.0</td>\n",
       "      <td>1.260116</td>\n",
       "      <td>2.983769</td>\n",
       "      <td>0.0</td>\n",
       "      <td>0.0</td>\n",
       "      <td>0.0</td>\n",
       "      <td>1.00</td>\n",
       "      <td>18.0</td>\n",
       "    </tr>\n",
       "  </tbody>\n",
       "</table>\n",
       "<p>212 rows × 8 columns</p>\n",
       "</div>"
      ],
      "text/plain": [
       "                count         mean          std  min    25%     50%      75%  \\\n",
       "location                                                                       \n",
       "Afghanistan     243.0     5.835391     9.716522  0.0    0.0     1.0     7.50   \n",
       "Albania         186.0     1.725806     1.927070  0.0    0.0     1.0     3.00   \n",
       "Algeria         249.0     6.309237     5.813357  0.0    0.0     7.0     9.00   \n",
       "Andorra         180.0     0.294444     0.690698  0.0    0.0     0.0     0.00   \n",
       "Angola          172.0     0.697674     1.214626  0.0    0.0     0.0     1.00   \n",
       "...               ...          ...          ...  ...    ...     ...      ...   \n",
       "Western Sahara  137.0     0.007299     0.085436  0.0    0.0     0.0     0.00   \n",
       "World           254.0  3535.775591  2660.093327  0.0  124.0  4127.5  5587.75   \n",
       "Yemen           153.0     3.764706     6.580238  0.0    1.0     2.0     4.00   \n",
       "Zambia          175.0     1.691429     5.087362  0.0    0.0     0.0     1.00   \n",
       "Zimbabwe        173.0     1.260116     2.983769  0.0    0.0     0.0     1.00   \n",
       "\n",
       "                    max  \n",
       "location                 \n",
       "Afghanistan        56.0  \n",
       "Albania             6.0  \n",
       "Algeria            42.0  \n",
       "Andorra             4.0  \n",
       "Angola              6.0  \n",
       "...                 ...  \n",
       "Western Sahara      1.0  \n",
       "World           10491.0  \n",
       "Yemen              52.0  \n",
       "Zambia             40.0  \n",
       "Zimbabwe           18.0  \n",
       "\n",
       "[212 rows x 8 columns]"
      ]
     },
     "execution_count": 118,
     "metadata": {},
     "output_type": "execute_result"
    }
   ],
   "source": [
    "print('Statistics for new_deaths per location:')\n",
    "df.groupby('location')['new_deaths'].describe()"
   ]
  },
  {
   "cell_type": "code",
   "execution_count": 1,
   "metadata": {},
   "outputs": [
    {
     "name": "stdout",
     "output_type": "stream",
     "text": [
      "Statistics for new_deaths_smoothed per location:\n"
     ]
    },
    {
     "ename": "NameError",
     "evalue": "name 'df' is not defined",
     "output_type": "error",
     "traceback": [
      "\u001b[1;31m---------------------------------------------------------------------------\u001b[0m",
      "\u001b[1;31mNameError\u001b[0m                                 Traceback (most recent call last)",
      "\u001b[1;32m<ipython-input-1-36efeb3cc458>\u001b[0m in \u001b[0;36m<module>\u001b[1;34m\u001b[0m\n\u001b[0;32m      1\u001b[0m \u001b[0mprint\u001b[0m\u001b[1;33m(\u001b[0m\u001b[1;34m'Statistics for new_deaths_smoothed per location:'\u001b[0m\u001b[1;33m)\u001b[0m\u001b[1;33m\u001b[0m\u001b[1;33m\u001b[0m\u001b[0m\n\u001b[1;32m----> 2\u001b[1;33m \u001b[0mdf\u001b[0m\u001b[1;33m.\u001b[0m\u001b[0mgroupby\u001b[0m\u001b[1;33m(\u001b[0m\u001b[1;34m'location'\u001b[0m\u001b[1;33m)\u001b[0m\u001b[1;33m[\u001b[0m\u001b[1;34m'new_deaths_smoothed'\u001b[0m\u001b[1;33m]\u001b[0m\u001b[1;33m.\u001b[0m\u001b[0mdescribe\u001b[0m\u001b[1;33m(\u001b[0m\u001b[1;33m)\u001b[0m\u001b[1;33m\u001b[0m\u001b[1;33m\u001b[0m\u001b[0m\n\u001b[0m",
      "\u001b[1;31mNameError\u001b[0m: name 'df' is not defined"
     ]
    }
   ],
   "source": [
    "print('Statistics for new_deaths_smoothed per location:')\n",
    "df.groupby('location')['new_deaths_smoothed'].describe()"
   ]
  },
  {
   "cell_type": "code",
   "execution_count": null,
   "metadata": {},
   "outputs": [],
   "source": [
    "print('Statistics for total_cases_per_million per location:')\n",
    "df.groupby('location')['total_cases_per_million'].describe()"
   ]
  },
  {
   "cell_type": "code",
   "execution_count": null,
   "metadata": {},
   "outputs": [],
   "source": [
    "print('Statistics for new_cases_per_million per location:')\n",
    "df.groupby('location')['new_cases_per_million'].describe()"
   ]
  },
  {
   "cell_type": "code",
   "execution_count": null,
   "metadata": {},
   "outputs": [],
   "source": [
    "print('Statistics for new_cases_smoothed_per_million per location:')\n",
    "df.groupby('location')['new_cases_smoothed_per_million'].describe()"
   ]
  },
  {
   "cell_type": "code",
   "execution_count": null,
   "metadata": {},
   "outputs": [],
   "source": [
    "print('Statistics for total_deaths_per_million per location:')\n",
    "df.groupby('location')['total_deaths_per_million'].describe()"
   ]
  },
  {
   "cell_type": "code",
   "execution_count": null,
   "metadata": {},
   "outputs": [],
   "source": [
    "print('Statistics for new_deaths_per_million per location:')\n",
    "df.groupby('location')['new_deaths_per_million'].describe()"
   ]
  },
  {
   "cell_type": "code",
   "execution_count": null,
   "metadata": {},
   "outputs": [],
   "source": [
    "print('Statistics for new_deaths_smoothed_per_million per location:')\n",
    "df.groupby('location')['new_deaths_smoothed_per_million'].describe()"
   ]
  },
  {
   "cell_type": "code",
   "execution_count": null,
   "metadata": {},
   "outputs": [],
   "source": [
    "print('Statistics for new_tests per location:')\n",
    "df.groupby('location')['new_tests'].describe()"
   ]
  },
  {
   "cell_type": "code",
   "execution_count": null,
   "metadata": {},
   "outputs": [],
   "source": [
    "print('Statistics for total_tests per location:')\n",
    "df.groupby('location')['total_tests'].describe()"
   ]
  },
  {
   "cell_type": "code",
   "execution_count": null,
   "metadata": {},
   "outputs": [],
   "source": [
    "print('Statistics for total_tests_per_thousand per location:')\n",
    "df.groupby('location')['total_tests_per_thousand'].describe()"
   ]
  },
  {
   "cell_type": "code",
   "execution_count": null,
   "metadata": {},
   "outputs": [],
   "source": [
    "print('Statistics for new_tests_per_thousand per location:')\n",
    "df.groupby('location')['new_tests_per_thousand'].describe()"
   ]
  },
  {
   "cell_type": "code",
   "execution_count": null,
   "metadata": {},
   "outputs": [],
   "source": [
    "print('Statistics for new_tests_smoothed per location:')\n",
    "df.groupby('location')['new_tests_smoothed'].describe()"
   ]
  },
  {
   "cell_type": "code",
   "execution_count": null,
   "metadata": {},
   "outputs": [],
   "source": [
    "print('Statistics for new_tests_smoothed_per_thousand per location:')\n",
    "df.groupby('location')['new_tests_smoothed_per_thousand'].describe()"
   ]
  },
  {
   "cell_type": "code",
   "execution_count": null,
   "metadata": {},
   "outputs": [],
   "source": [
    "print('Statistics for tests_per_case per location:')\n",
    "df.groupby('location')['tests_per_case'].describe()"
   ]
  },
  {
   "cell_type": "code",
   "execution_count": null,
   "metadata": {},
   "outputs": [],
   "source": [
    "print('Statistics for positive_rate per location:')\n",
    "df.groupby('location')['positive_rate'].describe()"
   ]
  },
  {
   "cell_type": "code",
   "execution_count": null,
   "metadata": {},
   "outputs": [],
   "source": [
    "print('Statistics for tests_units per location:')\n",
    "df.groupby('location')['tests_units'].describe()"
   ]
  },
  {
   "cell_type": "code",
   "execution_count": null,
   "metadata": {},
   "outputs": [],
   "source": [
    "print('Statistics for stringency_index per location:')\n",
    "df.groupby('location')['stringency_index'].describe()"
   ]
  },
  {
   "cell_type": "code",
   "execution_count": null,
   "metadata": {},
   "outputs": [],
   "source": [
    "print('Statistics for population per location:')\n",
    "df.groupby('location')['population'].describe()"
   ]
  },
  {
   "cell_type": "code",
   "execution_count": null,
   "metadata": {},
   "outputs": [],
   "source": [
    "print('Statistics for population_density per location:')\n",
    "df.groupby('location')['population_density'].describe()"
   ]
  },
  {
   "cell_type": "code",
   "execution_count": null,
   "metadata": {},
   "outputs": [],
   "source": [
    "print('Statistics for median_age per location:')\n",
    "df.groupby('location')['median_age'].describe()"
   ]
  },
  {
   "cell_type": "code",
   "execution_count": null,
   "metadata": {},
   "outputs": [],
   "source": [
    "print('Statistics for aged_65_older per location:')\n",
    "df.groupby('location')['aged_65_older'].describe()"
   ]
  },
  {
   "cell_type": "code",
   "execution_count": null,
   "metadata": {},
   "outputs": [],
   "source": [
    "print('Statistics for aged_70_older per location:')\n",
    "df.groupby('location')['aged_70_older'].describe()"
   ]
  },
  {
   "cell_type": "code",
   "execution_count": null,
   "metadata": {},
   "outputs": [],
   "source": [
    "print('Statistics for gdp_per_capita per location:')\n",
    "df.groupby('location')['gdp_per_capita'].describe()"
   ]
  },
  {
   "cell_type": "code",
   "execution_count": null,
   "metadata": {},
   "outputs": [],
   "source": [
    "print('Statistics for extreme_poverty per location:')\n",
    "df.groupby('location')['extreme_poverty'].describe()"
   ]
  },
  {
   "cell_type": "code",
   "execution_count": null,
   "metadata": {},
   "outputs": [],
   "source": [
    "print('Statistics for cardiovasc_death_rate per location:')\n",
    "df.groupby('location')['cardiovasc_death_rate'].describe()"
   ]
  },
  {
   "cell_type": "code",
   "execution_count": null,
   "metadata": {},
   "outputs": [],
   "source": [
    "print('Statistics for diabetes_prevalence per location:')\n",
    "df.groupby('location')['diabetes_prevalence'].describe()"
   ]
  },
  {
   "cell_type": "code",
   "execution_count": null,
   "metadata": {},
   "outputs": [],
   "source": [
    "print('Statistics for female_smokers per location:')\n",
    "df.groupby('location')['female_smokers'].describe()"
   ]
  },
  {
   "cell_type": "code",
   "execution_count": null,
   "metadata": {},
   "outputs": [],
   "source": [
    "print('Statistics for male_smokers per location:')\n",
    "df.groupby('location')['male_smokers'].describe()"
   ]
  },
  {
   "cell_type": "code",
   "execution_count": null,
   "metadata": {},
   "outputs": [],
   "source": [
    "print('Statistics for handwashing_facilities per location:')\n",
    "df.groupby('location')['handwashing_facilities'].describe()"
   ]
  },
  {
   "cell_type": "code",
   "execution_count": null,
   "metadata": {},
   "outputs": [],
   "source": [
    "print('Statistics for hospital_beds_per_thousand per location:')\n",
    "df.groupby('location')['hospital_beds_per_thousand'].describe()"
   ]
  },
  {
   "cell_type": "code",
   "execution_count": null,
   "metadata": {},
   "outputs": [],
   "source": [
    "print('Statistics for life_expectancy per location:')\n",
    "df.groupby('location')['life_expectancy'].describe()"
   ]
  },
  {
   "cell_type": "code",
   "execution_count": 124,
   "metadata": {},
   "outputs": [
    {
     "name": "stdout",
     "output_type": "stream",
     "text": [
      "Statistics for NEW_CASE_TREND per location:\n"
     ]
    },
    {
     "data": {
      "text/html": [
       "<div>\n",
       "<style scoped>\n",
       "    .dataframe tbody tr th:only-of-type {\n",
       "        vertical-align: middle;\n",
       "    }\n",
       "\n",
       "    .dataframe tbody tr th {\n",
       "        vertical-align: top;\n",
       "    }\n",
       "\n",
       "    .dataframe thead th {\n",
       "        text-align: right;\n",
       "    }\n",
       "</style>\n",
       "<table border=\"1\" class=\"dataframe\">\n",
       "  <thead>\n",
       "    <tr style=\"text-align: right;\">\n",
       "      <th></th>\n",
       "      <th>count</th>\n",
       "      <th>unique</th>\n",
       "      <th>top</th>\n",
       "      <th>freq</th>\n",
       "    </tr>\n",
       "    <tr>\n",
       "      <th>location</th>\n",
       "      <th></th>\n",
       "      <th></th>\n",
       "      <th></th>\n",
       "      <th></th>\n",
       "    </tr>\n",
       "  </thead>\n",
       "  <tbody>\n",
       "    <tr>\n",
       "      <th>Afghanistan</th>\n",
       "      <td>247</td>\n",
       "      <td>2</td>\n",
       "      <td>GROWING</td>\n",
       "      <td>142</td>\n",
       "    </tr>\n",
       "    <tr>\n",
       "      <th>Albania</th>\n",
       "      <td>180</td>\n",
       "      <td>1</td>\n",
       "      <td>GROWING</td>\n",
       "      <td>180</td>\n",
       "    </tr>\n",
       "    <tr>\n",
       "      <th>Algeria</th>\n",
       "      <td>248</td>\n",
       "      <td>2</td>\n",
       "      <td>GROWING</td>\n",
       "      <td>166</td>\n",
       "    </tr>\n",
       "    <tr>\n",
       "      <th>Andorra</th>\n",
       "      <td>185</td>\n",
       "      <td>3</td>\n",
       "      <td>GROWING</td>\n",
       "      <td>102</td>\n",
       "    </tr>\n",
       "    <tr>\n",
       "      <th>Angola</th>\n",
       "      <td>166</td>\n",
       "      <td>2</td>\n",
       "      <td>FLAT</td>\n",
       "      <td>128</td>\n",
       "    </tr>\n",
       "    <tr>\n",
       "      <th>...</th>\n",
       "      <td>...</td>\n",
       "      <td>...</td>\n",
       "      <td>...</td>\n",
       "      <td>...</td>\n",
       "    </tr>\n",
       "    <tr>\n",
       "      <th>Western Sahara</th>\n",
       "      <td>131</td>\n",
       "      <td>3</td>\n",
       "      <td>FLAT</td>\n",
       "      <td>102</td>\n",
       "    </tr>\n",
       "    <tr>\n",
       "      <th>World</th>\n",
       "      <td>248</td>\n",
       "      <td>2</td>\n",
       "      <td>GROWING</td>\n",
       "      <td>178</td>\n",
       "    </tr>\n",
       "    <tr>\n",
       "      <th>Yemen</th>\n",
       "      <td>147</td>\n",
       "      <td>2</td>\n",
       "      <td>FLAT</td>\n",
       "      <td>138</td>\n",
       "    </tr>\n",
       "    <tr>\n",
       "      <th>Zambia</th>\n",
       "      <td>169</td>\n",
       "      <td>2</td>\n",
       "      <td>GROWING</td>\n",
       "      <td>101</td>\n",
       "    </tr>\n",
       "    <tr>\n",
       "      <th>Zimbabwe</th>\n",
       "      <td>167</td>\n",
       "      <td>2</td>\n",
       "      <td>FLAT</td>\n",
       "      <td>84</td>\n",
       "    </tr>\n",
       "  </tbody>\n",
       "</table>\n",
       "<p>212 rows × 4 columns</p>\n",
       "</div>"
      ],
      "text/plain": [
       "               count unique      top freq\n",
       "location                                 \n",
       "Afghanistan      247      2  GROWING  142\n",
       "Albania          180      1  GROWING  180\n",
       "Algeria          248      2  GROWING  166\n",
       "Andorra          185      3  GROWING  102\n",
       "Angola           166      2     FLAT  128\n",
       "...              ...    ...      ...  ...\n",
       "Western Sahara   131      3     FLAT  102\n",
       "World            248      2  GROWING  178\n",
       "Yemen            147      2     FLAT  138\n",
       "Zambia           169      2  GROWING  101\n",
       "Zimbabwe         167      2     FLAT   84\n",
       "\n",
       "[212 rows x 4 columns]"
      ]
     },
     "execution_count": 124,
     "metadata": {},
     "output_type": "execute_result"
    }
   ],
   "source": [
    "print('Statistics for NEW_CASE_TREND per location:')\n",
    "df.groupby('location')['NEW_CASE_TREND'].describe()"
   ]
  },
  {
   "cell_type": "markdown",
   "metadata": {},
   "source": [
    "***\n",
    "## Section: 2.3 - Visualize the most important or interesting attributes using appropriate techniques.\n",
    "- For each visualization, provide an interpretation explaining why it is appropriate or interesting. What does each visualization tell us?\n",
    "***"
   ]
  },
  {
   "cell_type": "markdown",
   "metadata": {},
   "source": [
    "The bar chart below shows each countries total cases from the last date reported in the data set. This is important to show the magnitude of people with covid for each country and track the countries with the most cases."
   ]
  },
  {
   "cell_type": "code",
   "execution_count": 180,
   "metadata": {
    "scrolled": true
   },
   "outputs": [
    {
     "data": {
      "text/plain": [
       "<matplotlib.axes._subplots.AxesSubplot at 0x2bf83e59970>"
      ]
     },
     "execution_count": 180,
     "metadata": {},
     "output_type": "execute_result"
    },
    {
     "data": {
      "image/png": "[encoded data removed]",
      "text/plain": [
       "<Figure size 432x288 with 1 Axes>"
      ]
     },
     "metadata": {
      "needs_background": "light"
     },
     "output_type": "display_data"
    }
   ],
   "source": [
    "df_copy = df.copy(deep=True)\n",
    "# remove world values and hong kong\n",
    "df_copy = df_copy[df_copy.location != 'World']\n",
    "df_copy = df_copy[df_copy.location != 'Hong Kong']\n",
    "x = df_copy.groupby('location')['total_cases'].last().sort_values().tail(15)\n",
    "x.plot(kind='barh')"
   ]
  },
  {
   "cell_type": "markdown",
   "metadata": {},
   "source": [
    "The bar chart below shows each countries total deaths from the last date reported in the data set. This is important to show the magnitude of covid deaths for each country and track the countries with the most casualties."
   ]
  },
  {
   "cell_type": "code",
   "execution_count": 179,
   "metadata": {
    "scrolled": true
   },
   "outputs": [
    {
     "data": {
      "text/plain": [
       "<matplotlib.axes._subplots.AxesSubplot at 0x2bf9039e940>"
      ]
     },
     "execution_count": 179,
     "metadata": {},
     "output_type": "execute_result"
    },
    {
     "data": {
      "image/png": "[encoded data removed]",
      "text/plain": [
       "<Figure size 432x288 with 1 Axes>"
      ]
     },
     "metadata": {
      "needs_background": "light"
     },
     "output_type": "display_data"
    }
   ],
   "source": [
    "x = df_copy.groupby('location')['total_deaths'].last().sort_values().tail(15)\n",
    "x.plot(kind='barh')"
   ]
  },
  {
   "cell_type": "markdown",
   "metadata": {},
   "source": [
    "The first bar chart shows the top 10 countries with the largest total_cases and their stringency_index. The second bar chart shows the last 10 countries with the largest total_cases and their stringency_index. This demonstrates that the stringency_index of the country gets lowered depending on the number of total_cases. The countries with the lowest total cases have lower stringency_indexes. This makes sense because the countries have limited the spread of covid, allowing the population to limit restrictions. "
   ]
  },
  {
   "cell_type": "code",
   "execution_count": 219,
   "metadata": {},
   "outputs": [
    {
     "name": "stdout",
     "output_type": "stream",
     "text": [
      "Bar graph of the top 10 countries with the most cases of COVID and their stringency indexes.\n"
     ]
    },
    {
     "name": "stderr",
     "output_type": "stream",
     "text": [
      "<ipython-input-219-a390845199b3>:2: FutureWarning: Indexing with multiple keys (implicitly converted to a tuple of keys) will be deprecated, use a list instead.\n",
      "  x = df_copy.groupby('location')['total_cases', 'stringency_index'].last().sort_values(by='total_cases').tail(15).groupby('location')['stringency_index'].last().sort_values().tail(15)\n"
     ]
    },
    {
     "data": {
      "text/plain": [
       "<matplotlib.axes._subplots.AxesSubplot at 0x2bf8301db80>"
      ]
     },
     "execution_count": 219,
     "metadata": {},
     "output_type": "execute_result"
    },
    {
     "data": {
      "image/png": "[encoded data removed]",
      "text/plain": [
       "<Figure size 432x288 with 1 Axes>"
      ]
     },
     "metadata": {
      "needs_background": "light"
     },
     "output_type": "display_data"
    }
   ],
   "source": [
    "print(\"Bar graph of the top 10 countries with the most cases of COVID and their stringency indexes.\")\n",
    "x = df_copy.groupby('location')['total_cases', 'stringency_index'].last().sort_values(by='total_cases').tail(15).groupby('location')['stringency_index'].last().sort_values().tail(15)\n",
    "# print(x)\n",
    "x.plot(kind='barh')"
   ]
  },
  {
   "cell_type": "code",
   "execution_count": 220,
   "metadata": {
    "scrolled": true
   },
   "outputs": [
    {
     "name": "stdout",
     "output_type": "stream",
     "text": [
      "Bar graph of the 10 countries with the least cases of COVID and their stringency indexes.\n"
     ]
    },
    {
     "name": "stderr",
     "output_type": "stream",
     "text": [
      "<ipython-input-220-1b3d04c6ae0a>:2: FutureWarning: Indexing with multiple keys (implicitly converted to a tuple of keys) will be deprecated, use a list instead.\n",
      "  x = df_copy.groupby('location')['total_cases', 'stringency_index'].last().sort_values(by='total_cases').head(15).groupby('location')['stringency_index'].last().sort_values().tail(15)\n"
     ]
    },
    {
     "data": {
      "text/plain": [
       "<matplotlib.axes._subplots.AxesSubplot at 0x2bf811583a0>"
      ]
     },
     "execution_count": 220,
     "metadata": {},
     "output_type": "execute_result"
    },
    {
     "data": {
      "image/png": "[encoded data removed]",
      "text/plain": [
       "<Figure size 432x288 with 1 Axes>"
      ]
     },
     "metadata": {
      "needs_background": "light"
     },
     "output_type": "display_data"
    }
   ],
   "source": [
    "print(\"Bar graph of the 10 countries with the least cases of COVID and their stringency indexes.\")\n",
    "x = df_copy.groupby('location')['total_cases', 'stringency_index'].last().sort_values(by='total_cases').head(15).groupby('location')['stringency_index'].last().sort_values().tail(15)\n",
    "# print(x)\n",
    "x.plot(kind='barh')"
   ]
  },
  {
   "cell_type": "markdown",
   "metadata": {},
   "source": [
    "The line charts below shows the rate at which new covid cases and new covid deaths have changed in the U.S. The U.S. was chosen due to it being the country with the most cases and most deaths. \n",
    "\n",
    "It is interesting to note that the rate of new deaths have only spiked once and then consistently went down. Meanwhile the rate of new cases have mostly increased. This combination of the two trends could indicate that the U.S. is now better equipped to handle the pandemic. The number of deaths have gone down despite the rise in numbers. We would need more dates to analyze through since this disparity could be due to the number of days covid takes to really seriously affect people. "
   ]
  },
  {
   "cell_type": "code",
   "execution_count": 231,
   "metadata": {},
   "outputs": [
    {
     "data": {
      "image/png": "[encoded data removed]",
      "text/plain": [
       "<Figure size 432x288 with 1 Axes>"
      ]
     },
     "metadata": {
      "needs_background": "light"
     },
     "output_type": "display_data"
    }
   ],
   "source": [
    "# df_copy = df.groupby['location' == \"United States\"]\n",
    "# print(df_copy.loc[df['location'] == 'United States']['date'])\n",
    "plt.plot(df_copy.loc[df['location'] == 'United States']['date'],df_copy.loc[df['location'] == 'United States']['new_cases_smoothed'], color='red', marker='o')\n",
    "plt.title('Rate of New Cases Smoothed Vs Date', fontsize=10)\n",
    "plt.xlabel('Date', fontsize=10)\n",
    "plt.ylabel('Rate of New Cases', fontsize=10)\n",
    "plt.grid(True)\n",
    "plt.show()"
   ]
  },
  {
   "cell_type": "code",
   "execution_count": 232,
   "metadata": {},
   "outputs": [
    {
     "data": {
      "image/png": "[encoded data removed]",
      "text/plain": [
       "<Figure size 432x288 with 1 Axes>"
      ]
     },
     "metadata": {
      "needs_background": "light"
     },
     "output_type": "display_data"
    }
   ],
   "source": [
    "plt.plot(df_copy.loc[df['location'] == 'United States']['date'],df_copy.loc[df['location'] == 'United States']['new_deaths_smoothed'], color='red', marker='o')\n",
    "plt.title('Rate of New Deaths Smoothed Vs Date', fontsize=10)\n",
    "plt.xlabel('Date', fontsize=10)\n",
    "plt.ylabel('Rate of New Deaths', fontsize=10)\n",
    "plt.grid(True)\n",
    "plt.show()"
   ]
  },
  {
   "cell_type": "markdown",
   "metadata": {},
   "source": [
    "I will now be looking for trends between the prevalance of pre-existing conditions and number of covid cases in the countries. Multiple news outlets, studies, and healthcare officials have mentioned that pre-existing conditions make people more susceptible to contracting covid and showing symptoms.\n",
    "\n",
    "I'll be using total_deaths_per_million to compare to the bar graphs of the prevalance of multiple pre-existing conditions. I'll be using total deaths_per_million because it is a measure of deaths per the population of the country. This will help me analyze whether each country's rate of pre-existing conditions within their population are related to the deaths. It is known that covid affects those with pre-existing conditions more than those without said conditions. \n",
    "\n",
    "The following bar graphs will be of the countries with the highest rate of cardiovasc_death rate, diabetes_prevalence, female_smokers, and male_smokers. "
   ]
  },
  {
   "cell_type": "code",
   "execution_count": 248,
   "metadata": {},
   "outputs": [
    {
     "data": {
      "text/plain": [
       "<matplotlib.axes._subplots.AxesSubplot at 0x2bf83702730>"
      ]
     },
     "execution_count": 248,
     "metadata": {},
     "output_type": "execute_result"
    },
    {
     "data": {
      "image/png": "[encoded data removed]",
      "text/plain": [
       "<Figure size 432x288 with 1 Axes>"
      ]
     },
     "metadata": {
      "needs_background": "light"
     },
     "output_type": "display_data"
    }
   ],
   "source": [
    "x = df_copy.groupby('location')['total_deaths_per_million'].last().sort_values().tail(15)\n",
    "x.plot(kind='barh')"
   ]
  },
  {
   "cell_type": "code",
   "execution_count": 250,
   "metadata": {},
   "outputs": [
    {
     "name": "stdout",
     "output_type": "stream",
     "text": [
      "Top 15 Countries with Highest Cardiovascular Death Rates\n"
     ]
    },
    {
     "data": {
      "text/plain": [
       "<matplotlib.axes._subplots.AxesSubplot at 0x2bf89b81370>"
      ]
     },
     "execution_count": 250,
     "metadata": {},
     "output_type": "execute_result"
    },
    {
     "data": {
      "image/png": "[encoded data removed]",
      "text/plain": [
       "<Figure size 432x288 with 1 Axes>"
      ]
     },
     "metadata": {
      "needs_background": "light"
     },
     "output_type": "display_data"
    }
   ],
   "source": [
    "# remove countries with nan values for cardiovasc_death_rate\n",
    "df_copy['cardiovasc_death_rate'].replace('', np.nan, inplace=True)\n",
    "df_copy.dropna(subset=['cardiovasc_death_rate'], inplace=True)\n",
    "# print bar graph\n",
    "print(\"Top 15 Countries with Highest Cardiovascular Death Rates\")\n",
    "x = df_copy.groupby('location')['cardiovasc_death_rate'].last().sort_values().tail(15)\n",
    "x.plot(kind='barh')"
   ]
  },
  {
   "cell_type": "code",
   "execution_count": 251,
   "metadata": {
    "scrolled": true
   },
   "outputs": [
    {
     "name": "stdout",
     "output_type": "stream",
     "text": [
      "Top 15 Countries with Highest diabetes_prevalence\n"
     ]
    },
    {
     "data": {
      "text/plain": [
       "<matplotlib.axes._subplots.AxesSubplot at 0x2bf866f3880>"
      ]
     },
     "execution_count": 251,
     "metadata": {},
     "output_type": "execute_result"
    },
    {
     "data": {
      "image/png": "[encoded data removed]",
      "text/plain": [
       "<Figure size 432x288 with 1 Axes>"
      ]
     },
     "metadata": {
      "needs_background": "light"
     },
     "output_type": "display_data"
    }
   ],
   "source": [
    "# remove countries with nan values for diabetes_prevalence\n",
    "df_copy['diabetes_prevalence'].replace('', np.nan, inplace=True)\n",
    "df_copy.dropna(subset=['diabetes_prevalence'], inplace=True)\n",
    "# print bar graph\n",
    "print(\"Top 15 Countries with Highest diabetes_prevalence\")\n",
    "x = df_copy.groupby('location')['diabetes_prevalence'].last().sort_values().tail(15)\n",
    "x.plot(kind='barh')"
   ]
  },
  {
   "cell_type": "code",
   "execution_count": 252,
   "metadata": {},
   "outputs": [
    {
     "name": "stdout",
     "output_type": "stream",
     "text": [
      "Top 15 Countries with Highest female_smokers\n"
     ]
    },
    {
     "data": {
      "text/plain": [
       "<matplotlib.axes._subplots.AxesSubplot at 0x2bf8484b280>"
      ]
     },
     "execution_count": 252,
     "metadata": {},
     "output_type": "execute_result"
    },
    {
     "data": {
      "image/png": "[encoded data removed]",
      "text/plain": [
       "<Figure size 432x288 with 1 Axes>"
      ]
     },
     "metadata": {
      "needs_background": "light"
     },
     "output_type": "display_data"
    }
   ],
   "source": [
    "# remove countries with nan values for female_smokers\n",
    "df_copy['female_smokers'].replace('', np.nan, inplace=True)\n",
    "df_copy.dropna(subset=['female_smokers'], inplace=True)\n",
    "# print bar graph\n",
    "print(\"Top 15 Countries with Highest female_smokers\")\n",
    "x = df_copy.groupby('location')['female_smokers'].last().sort_values().tail(15)\n",
    "x.plot(kind='barh')"
   ]
  },
  {
   "cell_type": "code",
   "execution_count": 254,
   "metadata": {},
   "outputs": [
    {
     "name": "stdout",
     "output_type": "stream",
     "text": [
      "Top 15 Countries with Highest male_smokers\n"
     ]
    },
    {
     "data": {
      "text/plain": [
       "<matplotlib.axes._subplots.AxesSubplot at 0x2bf81ed6550>"
      ]
     },
     "execution_count": 254,
     "metadata": {},
     "output_type": "execute_result"
    },
    {
     "data": {
      "image/png": "[encoded data removed]",
      "text/plain": [
       "<Figure size 432x288 with 1 Axes>"
      ]
     },
     "metadata": {
      "needs_background": "light"
     },
     "output_type": "display_data"
    }
   ],
   "source": [
    "# remove countries with nan values for male_smokers\n",
    "df_copy['male_smokers'].replace('', np.nan, inplace=True)\n",
    "df_copy.dropna(subset=['male_smokers'], inplace=True)\n",
    "# print bar graph\n",
    "print(\"Top 15 Countries with Highest male_smokers\")\n",
    "x = df_copy.groupby('location')['male_smokers'].last().sort_values().tail(15)\n",
    "x.plot(kind='barh')"
   ]
  },
  {
   "cell_type": "markdown",
   "metadata": {},
   "source": [
    "***\n",
    "## Section: 2.4 - Verify data quality: explain any missing values, duplicate data, or outliers.\n",
    "- What, if anything, do you need to do about these? Be specific.\n",
    "***"
   ]
  },
  {
   "cell_type": "markdown",
   "metadata": {},
   "source": [
    "## Missing Values\n",
    "The two code boxes below are being used to check which attributes are missing values. The only attributes without missing values are the RECID, location, and date. This makes sense because these are attributes that would never be missing because they are always present despite whether or not covid data was available to be logged. There are many missing values for all attributes that have been aggregated through counting and reporting. The missing values might have been due to poor aggregation of information or inability to do so. I might need to know why these missing values exists. It could tell me something about the state of the country regarding covid. For example, resources for data aggregation might not be available; this could mean the location does not have as much resources in total and can affect how they respond to the pandemic."
   ]
  },
  {
   "cell_type": "code",
   "execution_count": 264,
   "metadata": {},
   "outputs": [
    {
     "name": "stdout",
     "output_type": "stream",
     "text": [
      "Missing attributes are labeled with False label: \n",
      "<bound method DataFrame.sum of        RECID  iso_code  continent  location   date  total_cases  new_cases  \\\n",
      "0      False     False      False     False  False        False      False   \n",
      "1      False     False      False     False  False        False      False   \n",
      "2      False     False      False     False  False        False      False   \n",
      "3      False     False      False     False  False        False      False   \n",
      "4      False     False      False     False  False        False      False   \n",
      "...      ...       ...        ...       ...    ...          ...        ...   \n",
      "42644  False      True       True     False  False        False       True   \n",
      "42645  False      True       True     False  False        False       True   \n",
      "42646  False      True       True     False  False        False       True   \n",
      "42647  False      True       True     False  False        False       True   \n",
      "42648  False      True       True     False  False        False       True   \n",
      "\n",
      "       new_cases_smoothed  total_deaths  new_deaths  ...  gdp_per_capita  \\\n",
      "0                    True         False       False  ...           False   \n",
      "1                    True         False       False  ...           False   \n",
      "2                    True         False       False  ...           False   \n",
      "3                    True         False       False  ...           False   \n",
      "4                    True         False       False  ...           False   \n",
      "...                   ...           ...         ...  ...             ...   \n",
      "42644                True         False        True  ...            True   \n",
      "42645                True         False        True  ...            True   \n",
      "42646                True         False        True  ...            True   \n",
      "42647                True         False        True  ...            True   \n",
      "42648                True         False        True  ...            True   \n",
      "\n",
      "       extreme_poverty  cardiovasc_death_rate  diabetes_prevalence  \\\n",
      "0                 True                  False                False   \n",
      "1                 True                  False                False   \n",
      "2                 True                  False                False   \n",
      "3                 True                  False                False   \n",
      "4                 True                  False                False   \n",
      "...                ...                    ...                  ...   \n",
      "42644             True                   True                 True   \n",
      "42645             True                   True                 True   \n",
      "42646             True                   True                 True   \n",
      "42647             True                   True                 True   \n",
      "42648             True                   True                 True   \n",
      "\n",
      "       female_smokers  male_smokers  handwashing_facilities  \\\n",
      "0                True          True                   False   \n",
      "1                True          True                   False   \n",
      "2                True          True                   False   \n",
      "3                True          True                   False   \n",
      "4                True          True                   False   \n",
      "...               ...           ...                     ...   \n",
      "42644            True          True                    True   \n",
      "42645            True          True                    True   \n",
      "42646            True          True                    True   \n",
      "42647            True          True                    True   \n",
      "42648            True          True                    True   \n",
      "\n",
      "       hospital_beds_per_thousand  life_expectancy  NEW_CASE_TREND  \n",
      "0                           False            False            True  \n",
      "1                           False            False            True  \n",
      "2                           False            False            True  \n",
      "3                           False            False            True  \n",
      "4                           False            False            True  \n",
      "...                           ...              ...             ...  \n",
      "42644                        True             True            True  \n",
      "42645                        True             True            True  \n",
      "42646                        True             True            True  \n",
      "42647                        True             True            True  \n",
      "42648                        True             True            True  \n",
      "\n",
      "[42649 rows x 42 columns]>\n"
     ]
    }
   ],
   "source": [
    "# total missing values for each feature\n",
    "print(\"Missing attributes are labeled with False label: \")\n",
    "print(df.isnull().sum)"
   ]
  },
  {
   "cell_type": "code",
   "execution_count": 260,
   "metadata": {},
   "outputs": [
    {
     "name": "stdout",
     "output_type": "stream",
     "text": [
      "RECID                                  0\n",
      "iso_code                             254\n",
      "continent                            508\n",
      "location                               0\n",
      "date                                   0\n",
      "total_cases                          575\n",
      "new_cases                            765\n",
      "new_cases_smoothed                  1548\n",
      "total_deaths                         575\n",
      "new_deaths                           765\n",
      "new_deaths_smoothed                 1548\n",
      "total_cases_per_million              829\n",
      "new_cases_per_million                829\n",
      "new_cases_smoothed_per_million      1612\n",
      "total_deaths_per_million             829\n",
      "new_deaths_per_million               829\n",
      "new_deaths_smoothed_per_million     1612\n",
      "new_tests                          28319\n",
      "total_tests                        27965\n",
      "total_tests_per_thousand           27965\n",
      "new_tests_per_thousand             28319\n",
      "new_tests_smoothed                 26541\n",
      "new_tests_smoothed_per_thousand    26541\n",
      "tests_per_case                     27717\n",
      "positive_rate                      27337\n",
      "tests_units                        25760\n",
      "stringency_index                    7304\n",
      "population                           254\n",
      "population_density                  2163\n",
      "median_age                          4583\n",
      "aged_65_older                       5145\n",
      "aged_70_older                       4780\n",
      "gdp_per_capita                      5063\n",
      "extreme_poverty                    17551\n",
      "cardiovasc_death_rate               4570\n",
      "diabetes_prevalence                 3239\n",
      "female_smokers                     12707\n",
      "male_smokers                       13082\n",
      "handwashing_facilities             24918\n",
      "hospital_beds_per_thousand          8188\n",
      "life_expectancy                      782\n",
      "NEW_CASE_TREND                      1612\n",
      "dtype: int64\n"
     ]
    }
   ],
   "source": [
    "missing = df.isna()\n",
    "missing.head()\n",
    "num_missing = missing.sum()\n",
    "print(\"Missing values for each attribute:\")\n",
    "print(num_missing)"
   ]
  },
  {
   "cell_type": "markdown",
   "metadata": {},
   "source": [
    "## Duplicate Data\n",
    "In the below code boxes, I examine duplicate data that may exist in the data set. The atttributes that should not have any duplicates include RECID and the combination of location and date. Data from the same place and data probably contains the same data for all the other attributes and is redundant.\n",
    "\n",
    "I can conclude that from the results there are no duplicate pieces of data in the dataset for RECID's. However, there are duplicates with regards to location and date. This means that there are rows in the data that have duplicates. There are about "
   ]
  },
  {
   "cell_type": "code",
   "execution_count": 282,
   "metadata": {},
   "outputs": [
    {
     "name": "stdout",
     "output_type": "stream",
     "text": [
      "Count of duplicates per RECID: \n",
      "RECID\n",
      "1        1\n",
      "2        1\n",
      "3        1\n",
      "4        1\n",
      "5        1\n",
      "        ..\n",
      "42645    1\n",
      "42646    1\n",
      "42647    1\n",
      "42648    1\n",
      "42649    1\n",
      "Length: 42649, dtype: int64\n",
      "Sum of duplicates of RECID: \n",
      "42649\n"
     ]
    }
   ],
   "source": [
    "print(\"Count of duplicates per RECID: \")\n",
    "duplicates = df.pivot_table(index=['RECID'], aggfunc='size')\n",
    "print(duplicates)\n",
    "print(\"Sum of duplicates of RECID: \")\n",
    "duplicates_sum = df.pivot_table(index=['RECID'], aggfunc='size').sum()\n",
    "print(duplicates_sum)"
   ]
  },
  {
   "cell_type": "code",
   "execution_count": 338,
   "metadata": {},
   "outputs": [
    {
     "name": "stdout",
     "output_type": "stream",
     "text": [
      "Count of duplicates per location and date : \n",
      "location     date      \n",
      "Afghanistan  2019-12-31    1\n",
      "             2020-01-01    1\n",
      "             2020-01-02    1\n",
      "             2020-01-03    1\n",
      "             2020-01-04    1\n",
      "                          ..\n",
      "Zimbabwe     2020-09-05    1\n",
      "             2020-09-06    1\n",
      "             2020-09-07    1\n",
      "             2020-09-08    1\n",
      "             2020-09-09    1\n",
      "Length: 42644, dtype: int64\n",
      "Sum of duplicates of location and date: \n",
      "42649\n",
      "Total duplicates: \n",
      "5\n"
     ]
    }
   ],
   "source": [
    "print(\"Count of duplicates per location and date : \")\n",
    "duplicates = df.pivot_table(index=['location', 'date'], aggfunc='size')\n",
    "print(duplicates)\n",
    "print(\"Sum of duplicates of location and date: \")\n",
    "duplicates_sum = df.pivot_table(index=['location', 'date'], aggfunc='size').sum()\n",
    "print(duplicates_sum)\n",
    "total_length = 42644\n",
    "print(\"Total duplicates: \")\n",
    "print(duplicates_sum-total_length)"
   ]
  },
  {
   "cell_type": "markdown",
   "metadata": {},
   "source": [
    "## Outliers\n",
    "It makes sense to look for outliers in the following attributes: stringency_index, life_expectancy, median_age, aged_65_older, and aged_70_older because the data in all the countries in the world should be comparably around the same value. If there are outliers in these aatributes then that might be a piece of data that is untrustworthy.\n",
    "\n",
    "It also makes sense to look for outliers regarding gdp_per_capita, extreme_poverty, cardiovasc_death_rate, diabetes_prevalence, female_smokers, make_smokers, handwashing_facilities, hospital_beds_per_household because outliers in these attributes may indicate pre-existing conditions that might affect the spread of covid-19."
   ]
  },
  {
   "cell_type": "code",
   "execution_count": 299,
   "metadata": {
    "scrolled": true
   },
   "outputs": [
    {
     "name": "stdout",
     "output_type": "stream",
     "text": [
      "Box plot for stringency_index to find outliers: \n"
     ]
    },
    {
     "data": {
      "text/plain": [
       "<matplotlib.axes._subplots.AxesSubplot at 0x2bf829e27c0>"
      ]
     },
     "execution_count": 299,
     "metadata": {},
     "output_type": "execute_result"
    },
    {
     "data": {
      "image/png": "[encoded data removed]",
      "text/plain": [
       "<Figure size 432x288 with 1 Axes>"
      ]
     },
     "metadata": {
      "needs_background": "light"
     },
     "output_type": "display_data"
    }
   ],
   "source": [
    "print(\"Box plot for stringency_index to find outliers: \")\n",
    "sns.boxplot(x=df['stringency_index'])\n"
   ]
  },
  {
   "cell_type": "code",
   "execution_count": 311,
   "metadata": {
    "scrolled": true
   },
   "outputs": [
    {
     "name": "stdout",
     "output_type": "stream",
     "text": [
      "Box plot for life_expectancy to find outliers: \n"
     ]
    },
    {
     "data": {
      "text/plain": [
       "<matplotlib.axes._subplots.AxesSubplot at 0x2bf89ce06a0>"
      ]
     },
     "execution_count": 311,
     "metadata": {},
     "output_type": "execute_result"
    },
    {
     "data": {
      "image/png": "[encoded data removed]",
      "text/plain": [
       "<Figure size 432x288 with 1 Axes>"
      ]
     },
     "metadata": {
      "needs_background": "light"
     },
     "output_type": "display_data"
    }
   ],
   "source": [
    "print(\"Box plot for life_expectancy to find outliers: \")\n",
    "sns.boxplot(x=df['life_expectancy'])\n"
   ]
  },
  {
   "cell_type": "code",
   "execution_count": 300,
   "metadata": {
    "scrolled": false
   },
   "outputs": [
    {
     "name": "stdout",
     "output_type": "stream",
     "text": [
      "Box plot for median_age to find outliers: \n"
     ]
    },
    {
     "data": {
      "text/plain": [
       "<matplotlib.axes._subplots.AxesSubplot at 0x2bf8eb066d0>"
      ]
     },
     "execution_count": 300,
     "metadata": {},
     "output_type": "execute_result"
    },
    {
     "data": {
      "image/png": "[encoded data removed]",
      "text/plain": [
       "<Figure size 432x288 with 1 Axes>"
      ]
     },
     "metadata": {
      "needs_background": "light"
     },
     "output_type": "display_data"
    }
   ],
   "source": [
    "print(\"Box plot for median_age to find outliers: \")\n",
    "sns.boxplot(x=df['median_age'])\n"
   ]
  },
  {
   "cell_type": "code",
   "execution_count": 302,
   "metadata": {
    "scrolled": true
   },
   "outputs": [
    {
     "name": "stdout",
     "output_type": "stream",
     "text": [
      "Box plot for aged_70_older to find outliers: \n"
     ]
    },
    {
     "data": {
      "text/plain": [
       "<matplotlib.axes._subplots.AxesSubplot at 0x2bf8ebc7610>"
      ]
     },
     "execution_count": 302,
     "metadata": {},
     "output_type": "execute_result"
    },
    {
     "data": {
      "image/png": "[encoded data removed]",
      "text/plain": [
       "<Figure size 432x288 with 1 Axes>"
      ]
     },
     "metadata": {
      "needs_background": "light"
     },
     "output_type": "display_data"
    }
   ],
   "source": [
    "print(\"Box plot for aged_70_older to find outliers: \")\n",
    "sns.boxplot(x=df['aged_70_older'])\n"
   ]
  },
  {
   "cell_type": "code",
   "execution_count": 301,
   "metadata": {
    "scrolled": true
   },
   "outputs": [
    {
     "name": "stdout",
     "output_type": "stream",
     "text": [
      "Box plot for aged_65_older to find outliers: \n"
     ]
    },
    {
     "data": {
      "text/plain": [
       "<matplotlib.axes._subplots.AxesSubplot at 0x2bf89ca2460>"
      ]
     },
     "execution_count": 301,
     "metadata": {},
     "output_type": "execute_result"
    },
    {
     "data": {
      "image/png": "[encoded data removed]",
      "text/plain": [
       "<Figure size 432x288 with 1 Axes>"
      ]
     },
     "metadata": {
      "needs_background": "light"
     },
     "output_type": "display_data"
    }
   ],
   "source": [
    "print(\"Box plot for aged_65_older to find outliers: \")\n",
    "sns.boxplot(x=df['aged_65_older'])\n"
   ]
  },
  {
   "cell_type": "code",
   "execution_count": 303,
   "metadata": {
    "scrolled": true
   },
   "outputs": [
    {
     "name": "stdout",
     "output_type": "stream",
     "text": [
      "Box plot for gdp_per_capita to find outliers: \n"
     ]
    },
    {
     "data": {
      "text/plain": [
       "<matplotlib.axes._subplots.AxesSubplot at 0x2bf8ea69400>"
      ]
     },
     "execution_count": 303,
     "metadata": {},
     "output_type": "execute_result"
    },
    {
     "data": {
      "image/png": "[encoded data removed]",
      "text/plain": [
       "<Figure size 432x288 with 1 Axes>"
      ]
     },
     "metadata": {
      "needs_background": "light"
     },
     "output_type": "display_data"
    }
   ],
   "source": [
    "print(\"Box plot for gdp_per_capita to find outliers: \")\n",
    "sns.boxplot(x=df['gdp_per_capita'])\n"
   ]
  },
  {
   "cell_type": "code",
   "execution_count": 304,
   "metadata": {
    "scrolled": true
   },
   "outputs": [
    {
     "name": "stdout",
     "output_type": "stream",
     "text": [
      "Box plot for extreme_poverty to find outliers: \n"
     ]
    },
    {
     "data": {
      "text/plain": [
       "<matplotlib.axes._subplots.AxesSubplot at 0x2bf83f5bfa0>"
      ]
     },
     "execution_count": 304,
     "metadata": {},
     "output_type": "execute_result"
    },
    {
     "data": {
      "image/png": "[encoded data removed]",
      "text/plain": [
       "<Figure size 432x288 with 1 Axes>"
      ]
     },
     "metadata": {
      "needs_background": "light"
     },
     "output_type": "display_data"
    }
   ],
   "source": [
    "print(\"Box plot for extreme_poverty to find outliers: \")\n",
    "sns.boxplot(x=df['extreme_poverty'])\n"
   ]
  },
  {
   "cell_type": "code",
   "execution_count": 305,
   "metadata": {
    "scrolled": false
   },
   "outputs": [
    {
     "name": "stdout",
     "output_type": "stream",
     "text": [
      "Box plot for cardiovasc_death_rate to find outliers: \n"
     ]
    },
    {
     "data": {
      "text/plain": [
       "<matplotlib.axes._subplots.AxesSubplot at 0x2bf8e938cd0>"
      ]
     },
     "execution_count": 305,
     "metadata": {},
     "output_type": "execute_result"
    },
    {
     "data": {
      "image/png": "[encoded data removed]",
      "text/plain": [
       "<Figure size 432x288 with 1 Axes>"
      ]
     },
     "metadata": {
      "needs_background": "light"
     },
     "output_type": "display_data"
    }
   ],
   "source": [
    "print(\"Box plot for cardiovasc_death_rate to find outliers: \")\n",
    "sns.boxplot(x=df['cardiovasc_death_rate'])\n"
   ]
  },
  {
   "cell_type": "code",
   "execution_count": 306,
   "metadata": {
    "scrolled": true
   },
   "outputs": [
    {
     "name": "stdout",
     "output_type": "stream",
     "text": [
      "Box plot for diabetes_prevalence to find outliers: \n"
     ]
    },
    {
     "data": {
      "text/plain": [
       "<matplotlib.axes._subplots.AxesSubplot at 0x2bf89c207c0>"
      ]
     },
     "execution_count": 306,
     "metadata": {},
     "output_type": "execute_result"
    },
    {
     "data": {
      "image/png": "[encoded data removed]",
      "text/plain": [
       "<Figure size 432x288 with 1 Axes>"
      ]
     },
     "metadata": {
      "needs_background": "light"
     },
     "output_type": "display_data"
    }
   ],
   "source": [
    "print(\"Box plot for diabetes_prevalence to find outliers: \")\n",
    "sns.boxplot(x=df['diabetes_prevalence'])\n"
   ]
  },
  {
   "cell_type": "code",
   "execution_count": 307,
   "metadata": {
    "scrolled": false
   },
   "outputs": [
    {
     "name": "stdout",
     "output_type": "stream",
     "text": [
      "Box plot for female_smokers to find outliers: \n"
     ]
    },
    {
     "data": {
      "text/plain": [
       "<matplotlib.axes._subplots.AxesSubplot at 0x2bf8146a8e0>"
      ]
     },
     "execution_count": 307,
     "metadata": {},
     "output_type": "execute_result"
    },
    {
     "data": {
      "image/png": "[encoded data removed]",
      "text/plain": [
       "<Figure size 432x288 with 1 Axes>"
      ]
     },
     "metadata": {
      "needs_background": "light"
     },
     "output_type": "display_data"
    }
   ],
   "source": [
    "print(\"Box plot for female_smokers to find outliers: \")\n",
    "sns.boxplot(x=df['female_smokers'])\n"
   ]
  },
  {
   "cell_type": "code",
   "execution_count": 308,
   "metadata": {
    "scrolled": false
   },
   "outputs": [
    {
     "name": "stdout",
     "output_type": "stream",
     "text": [
      "Box plot for male_smokers to find outliers: \n"
     ]
    },
    {
     "data": {
      "text/plain": [
       "<matplotlib.axes._subplots.AxesSubplot at 0x2bf8567f0a0>"
      ]
     },
     "execution_count": 308,
     "metadata": {},
     "output_type": "execute_result"
    },
    {
     "data": {
      "image/png": "[encoded data removed]",
      "text/plain": [
       "<Figure size 432x288 with 1 Axes>"
      ]
     },
     "metadata": {
      "needs_background": "light"
     },
     "output_type": "display_data"
    }
   ],
   "source": [
    "print(\"Box plot for male_smokers to find outliers: \")\n",
    "sns.boxplot(x=df['male_smokers'])\n"
   ]
  },
  {
   "cell_type": "code",
   "execution_count": 309,
   "metadata": {
    "scrolled": true
   },
   "outputs": [
    {
     "name": "stdout",
     "output_type": "stream",
     "text": [
      "Box plot for handwashing_facilities to find outliers: \n"
     ]
    },
    {
     "data": {
      "text/plain": [
       "<matplotlib.axes._subplots.AxesSubplot at 0x2bf8ec78220>"
      ]
     },
     "execution_count": 309,
     "metadata": {},
     "output_type": "execute_result"
    },
    {
     "data": {
      "image/png": "[encoded data removed]",
      "text/plain": [
       "<Figure size 432x288 with 1 Axes>"
      ]
     },
     "metadata": {
      "needs_background": "light"
     },
     "output_type": "display_data"
    }
   ],
   "source": [
    "print(\"Box plot for handwashing_facilities to find outliers: \")\n",
    "sns.boxplot(x=df['handwashing_facilities'])\n"
   ]
  },
  {
   "cell_type": "code",
   "execution_count": 310,
   "metadata": {
    "scrolled": false
   },
   "outputs": [
    {
     "name": "stdout",
     "output_type": "stream",
     "text": [
      "Box plot for hospital_beds_per_thousand to find outliers: \n"
     ]
    },
    {
     "data": {
      "text/plain": [
       "<matplotlib.axes._subplots.AxesSubplot at 0x2bf81e1e0d0>"
      ]
     },
     "execution_count": 310,
     "metadata": {},
     "output_type": "execute_result"
    },
    {
     "data": {
      "image/png": "[encoded data removed]",
      "text/plain": [
       "<Figure size 432x288 with 1 Axes>"
      ]
     },
     "metadata": {
      "needs_background": "light"
     },
     "output_type": "display_data"
    }
   ],
   "source": [
    "print(\"Box plot for hospital_beds_per_thousand to find outliers: \")\n",
    "sns.boxplot(x=df['hospital_beds_per_thousand'])\n"
   ]
  },
  {
   "cell_type": "markdown",
   "metadata": {},
   "source": [
    "***\n",
    "## Section: 2.5 - Explore the relationships among the attributes, excluding the class attribute.\n",
    "- Use scatter plots, correlation matrices, cross-tabulations, group-wise averages, or other appropriate techniques. Explain and interpret any interesting relationships.\n",
    "***"
   ]
  },
  {
   "cell_type": "markdown",
   "metadata": {},
   "source": [
    "## Relationships Between Attributes\n",
    "It is worthwile to look at some relationships between attributes. Since this is a COVID dataset, it will be worthwhile to inspect relationships between the total_deaths and various pre-existing conditions per country. In this section, I will be examining the relationship between the total_deaths and various pre-existing conditions. This is to examine if pre-existing conditions might be related to number of deaths, since it is known that pre-existing conditions make people more susceptible to covid-19.\n",
    "\n",
    "I will also be examining the relationship between total_cases and stringency_index. I will examine these two because I would like to see if the total number of cases is affected by the stringency index of each country. \n",
    "\n",
    "I will be using Pearson's Correlation Coefficient.\"The coefficient returns a value between -1 and 1 that represents the limits of correlation from a full negative correlation to a full positive correlation. A value of 0 means no correlation. The value must be interpreted, where often a value below -0.5 or above 0.5 indicates a notable correlation, and values below those values suggests a less notable correlation.\" (from https://machinelearningmastery.com/)"
   ]
  },
  {
   "cell_type": "code",
   "execution_count": 325,
   "metadata": {},
   "outputs": [
    {
     "name": "stdout",
     "output_type": "stream",
     "text": [
      "Correlation betweem total_deaths and cardiovasc_death_rate\n",
      "Pearson's R-value:  -0.13858411405567841\n",
      "Weak correlation.\n"
     ]
    }
   ],
   "source": [
    "print(\"Correlation betweem total_deaths and cardiovasc_death_rate\")\n",
    "# remove countries with nan values \n",
    "df_copy['total_deaths'].replace('', np.nan, inplace=True)\n",
    "df_copy.dropna(subset=['total_deaths'], inplace=True)\n",
    "df_copy['cardiovasc_death_rate'].replace('', np.nan, inplace=True)\n",
    "df_copy.dropna(subset=['cardiovasc_death_rate'], inplace=True)\n",
    "\n",
    "#find pearson's r\n",
    "x = df_copy['total_deaths']\n",
    "y = df_copy['cardiovasc_death_rate']\n",
    "r_val = scipy.stats.pearsonr(x,y)[0]\n",
    "print(\"Pearson's R-value: \", r_val)\n",
    "if r_val > 0.5:\n",
    "    print(\"Notable correlation. Positive correlation.\")\n",
    "elif r_val < -0.5:\n",
    "    print(\"Notable correlation. Negative correlation.\")\n",
    "else:\n",
    "    print(\"Weak correlation.\")"
   ]
  },
  {
   "cell_type": "code",
   "execution_count": 326,
   "metadata": {},
   "outputs": [
    {
     "name": "stdout",
     "output_type": "stream",
     "text": [
      "Correlation betweem total_deaths and diabetes_prevalence\n",
      "Pearson's R-value:  0.041125049954091296\n",
      "Weak correlation.\n"
     ]
    }
   ],
   "source": [
    "print(\"Correlation betweem total_deaths and diabetes_prevalence\")\n",
    "# remove countries with nan values \n",
    "df_copy['total_deaths'].replace('', np.nan, inplace=True)\n",
    "df_copy.dropna(subset=['total_deaths'], inplace=True)\n",
    "df_copy['diabetes_prevalence'].replace('', np.nan, inplace=True)\n",
    "df_copy.dropna(subset=['diabetes_prevalence'], inplace=True)\n",
    "\n",
    "#find pearson's r\n",
    "x = df_copy['total_deaths']\n",
    "y = df_copy['diabetes_prevalence']\n",
    "r_val = scipy.stats.pearsonr(x,y)[0]\n",
    "print(\"Pearson's R-value: \", r_val)\n",
    "if r_val > 0.5:\n",
    "    print(\"Notable correlation. Positive correlation.\")\n",
    "elif r_val < -0.5:\n",
    "    print(\"Notable correlation. Negative correlation.\")\n",
    "else:\n",
    "    print(\"Weak correlation.\")"
   ]
  },
  {
   "cell_type": "code",
   "execution_count": 327,
   "metadata": {
    "scrolled": true
   },
   "outputs": [
    {
     "name": "stdout",
     "output_type": "stream",
     "text": [
      "Correlation betweem total_deaths and female_smokers\n",
      "Pearson's R-value:  0.11757637450326959\n",
      "Weak correlation.\n"
     ]
    }
   ],
   "source": [
    "print(\"Correlation betweem total_deaths and female_smokers\")\n",
    "# remove countries with nan values \n",
    "df_copy['total_deaths'].replace('', np.nan, inplace=True)\n",
    "df_copy.dropna(subset=['total_deaths'], inplace=True)\n",
    "df_copy['female_smokers'].replace('', np.nan, inplace=True)\n",
    "df_copy.dropna(subset=['female_smokers'], inplace=True)\n",
    "\n",
    "#find pearson's r\n",
    "x = df_copy['total_deaths']\n",
    "y = df_copy['female_smokers']\n",
    "r_val = scipy.stats.pearsonr(x,y)[0]\n",
    "print(\"Pearson's R-value: \", r_val)\n",
    "if r_val > 0.5:\n",
    "    print(\"Notable correlation. Positive correlation.\")\n",
    "elif r_val < -0.5:\n",
    "    print(\"Notable correlation. Negative correlation.\")\n",
    "else:\n",
    "    print(\"Weak correlation.\")"
   ]
  },
  {
   "cell_type": "code",
   "execution_count": 328,
   "metadata": {
    "scrolled": false
   },
   "outputs": [
    {
     "name": "stdout",
     "output_type": "stream",
     "text": [
      "Correlation betweem total_deaths and male_smokers\n",
      "Pearson's R-value:  -0.08537479132655805\n",
      "Weak correlation.\n"
     ]
    }
   ],
   "source": [
    "print(\"Correlation betweem total_deaths and male_smokers\")\n",
    "# remove countries with nan values \n",
    "df_copy['total_deaths'].replace('', np.nan, inplace=True)\n",
    "df_copy.dropna(subset=['total_deaths'], inplace=True)\n",
    "df_copy['male_smokers'].replace('', np.nan, inplace=True)\n",
    "df_copy.dropna(subset=['male_smokers'], inplace=True)\n",
    "\n",
    "#find pearson's r\n",
    "x = df_copy['total_deaths']\n",
    "y = df_copy['male_smokers']\n",
    "r_val = scipy.stats.pearsonr(x,y)[0]\n",
    "print(\"Pearson's R-value: \", r_val)\n",
    "if r_val > 0.5:\n",
    "    print(\"Notable correlation. Positive correlation.\")\n",
    "elif r_val < -0.5:\n",
    "    print(\"Notable correlation. Negative correlation.\")\n",
    "else:\n",
    "    print(\"Weak correlation.\")"
   ]
  },
  {
   "cell_type": "code",
   "execution_count": 329,
   "metadata": {
    "scrolled": true
   },
   "outputs": [
    {
     "name": "stdout",
     "output_type": "stream",
     "text": [
      "Correlation betweem total_deaths and aged_65_older\n",
      "Pearson's R-value:  0.13159860387931124\n",
      "Weak correlation.\n"
     ]
    }
   ],
   "source": [
    "print(\"Correlation betweem total_deaths and aged_65_older\")\n",
    "# remove countries with nan values \n",
    "df_copy['total_deaths'].replace('', np.nan, inplace=True)\n",
    "df_copy.dropna(subset=['total_deaths'], inplace=True)\n",
    "df_copy['aged_65_older'].replace('', np.nan, inplace=True)\n",
    "df_copy.dropna(subset=['aged_65_older'], inplace=True)\n",
    "\n",
    "#find pearson's r\n",
    "x = df_copy['total_deaths']\n",
    "y = df_copy['aged_65_older']\n",
    "r_val = scipy.stats.pearsonr(x,y)[0]\n",
    "print(\"Pearson's R-value: \", r_val)\n",
    "if r_val > 0.5:\n",
    "    print(\"Notable correlation. Positive correlation.\")\n",
    "elif r_val < -0.5:\n",
    "    print(\"Notable correlation. Negative correlation.\")\n",
    "else:\n",
    "    print(\"Weak correlation.\")"
   ]
  },
  {
   "cell_type": "code",
   "execution_count": 330,
   "metadata": {
    "scrolled": true
   },
   "outputs": [
    {
     "name": "stdout",
     "output_type": "stream",
     "text": [
      "Correlation betweem total_deaths and extreme_poverty\n",
      "Pearson's R-value:  -0.10025615856776468\n",
      "Weak correlation.\n"
     ]
    }
   ],
   "source": [
    "print(\"Correlation betweem total_deaths and extreme_poverty\")\n",
    "# remove countries with nan values \n",
    "df_copy['total_deaths'].replace('', np.nan, inplace=True)\n",
    "df_copy.dropna(subset=['total_deaths'], inplace=True)\n",
    "df_copy['extreme_poverty'].replace('', np.nan, inplace=True)\n",
    "df_copy.dropna(subset=['extreme_poverty'], inplace=True)\n",
    "\n",
    "#find pearson's r\n",
    "x = df_copy['total_deaths']\n",
    "y = df_copy['extreme_poverty']\n",
    "r_val = scipy.stats.pearsonr(x,y)[0]\n",
    "print(\"Pearson's R-value: \", r_val)\n",
    "if r_val > 0.5:\n",
    "    print(\"Notable correlation. Positive correlation.\")\n",
    "elif r_val < -0.5:\n",
    "    print(\"Notable correlation. Negative correlation.\")\n",
    "else:\n",
    "    print(\"Weak correlation.\")"
   ]
  },
  {
   "cell_type": "code",
   "execution_count": 331,
   "metadata": {
    "scrolled": false
   },
   "outputs": [
    {
     "name": "stdout",
     "output_type": "stream",
     "text": [
      "Correlation betweem total_cases and stringency_index\n",
      "Pearson's R-value:  0.09874509674288592\n",
      "Weak correlation.\n"
     ]
    }
   ],
   "source": [
    "print(\"Correlation betweem total_cases and stringency_index\")\n",
    "# remove countries with nan values \n",
    "df_copy['total_cases'].replace('', np.nan, inplace=True)\n",
    "df_copy.dropna(subset=['total_cases'], inplace=True)\n",
    "df_copy['stringency_index'].replace('', np.nan, inplace=True)\n",
    "df_copy.dropna(subset=['stringency_index'], inplace=True)\n",
    "\n",
    "#find pearson's r\n",
    "x = df_copy['total_cases']\n",
    "y = df_copy['stringency_index']\n",
    "r_val = scipy.stats.pearsonr(x,y)[0]\n",
    "print(\"Pearson's R-value: \", r_val)\n",
    "if r_val > 0.5:\n",
    "    print(\"Notable correlation. Positive correlation.\")\n",
    "elif r_val < -0.5:\n",
    "    print(\"Notable correlation. Negative correlation.\")\n",
    "else:\n",
    "    print(\"Weak correlation.\")"
   ]
  },
  {
   "cell_type": "markdown",
   "metadata": {},
   "source": [
    "***\n",
    "## Section: 2.6 - Identify and explain any interesting relationships between the class attribute and the other attributes.\n",
    "- You may refer to earlier visualizations or create new ones.\n",
    "***"
   ]
  },
  {
   "cell_type": "markdown",
   "metadata": {},
   "source": [
    "## Interesting Relationships\n",
    "\n",
    "- There is a weak, positive correlation between the total_cases and stringency_index of the countries. This makes sense since if there are more covid positive cases in the country, then the government of the wountry will want to limit spread with lockdowns and limitations on the population. \n",
    "- There is a weak, positive correlation between the total_cases and aged_65_older. This correlation makes sense since it is known that the older population is more susceptible to covid-19.\n",
    "- Interestingly there is a weak, negative correlation between total_cases and cardiovasc_death_rate. This is strange since a higher cardiovascular death rate indicates that there are more people succumbing to cadrivascular diseases, which is a pre-existing condition. It would seem that there should be a positive correlation between the two instead.\n"
   ]
  },
  {
   "cell_type": "markdown",
   "metadata": {},
   "source": [
    "***\n",
    "# Section: 3 - Data Processing\n",
    "- Based on the insights gleaned in the data understanding phase, determine what type of processing that you would like to do to create a final dataset to be used for future modeling.\n",
    "- One of the final outputs of your program should be the creation of a dataset (can be in the format of a Python data frame) which has all of the attributes you would like to use for the modeling phase of a project, as well as dealing with any outliers, noise or missing values.\n",
    "***"
   ]
  },
  {
   "cell_type": "markdown",
   "metadata": {},
   "source": [
    "***\n",
    "## Section: 3.1 - What attributes do you decide to keep or remove? Please justify.\n",
    "***"
   ]
  },
  {
   "cell_type": "markdown",
   "metadata": {},
   "source": [
    "## Attributes to keep\n",
    "The attributes below can be used to find various relationships and trends of covid. They can be used to extract information about covid.\n",
    "- RECID: keep assigned to locations in alphabetical order and at certain dates in chronological order\n",
    "- location: need country to track location where data came from \n",
    "- date: use to see how covid develops\n",
    "- total_cases:\n",
    "- new_cases: ratio, total number of new covid cases during the date\t\n",
    "- new_cases_smoothed: ratio, moving average from the day before to the day after each date shown of total number of new covid cases \n",
    "- total_deaths: ratio, total number of covid deaths \n",
    "- new_deaths: ratio, total number of new covid deaths during the date\t\n",
    "- new_deaths_smoothed: ratio, moving average from the day before to the day after each date shown of total number of new covid deaths\n",
    "- new_tests: ratio, total number of new covid tests during the date\t \n",
    "- total_tests: ratio, total number of covid tests\t\t\n",
    "- new_tests_smoothed: ratio, moving average from the day before to the day after each date shown of total number of new covid tests\n",
    "- tests_per_case: ratio, number of tests per covid case\t\n",
    "- positive_rate: ration, positive rate of tested in country\n",
    "- stringency_index: ratio, computable parameter for evaluating the effectiveness of the nationwide lockdown\t\n",
    "- population: ratio, population of the location\t\n",
    "- population_density: ratio, number of people living in each unit of area (most likely square kilometers)\t\n",
    "- median_age: ratio, median age of the location's population\t\n",
    "- aged_65_older: ratio, percentage of population that is 65 or older\t\n",
    "- aged_70_older: ratio, percentage of population that is 70 or older\t\n",
    "- gdp_per_capita: ratio, measure of a country's economic output per person\t\n",
    "- extreme_poverty:ratio, percentage of population in extreme poverty\t\n",
    "- cardiovasc_death_rate: ratio, Death rate from cardiovascular disease in 2017 (annual number of deaths per 100,000 people) \t\n",
    "- diabetes_prevalence: ratio, percentage of population with diabetes\t\n",
    "- female_smokers: ratio, percentage of female smokers from the population\n",
    "- male_smokers: ratio, percentage of male smokers from the population\n",
    "- handwashing_facilities: ratio, share of the population with basic handwashing facilities on premises, most recent year available\t\n",
    "- hospital_beds_per_thousand: ratio, Hospital beds per 1,000 people, most recent year available since 2010\t\n",
    "- life_expectancy: ratio, life expectancy at birth \t\n",
    "\n",
    "## Attributes to remove \n",
    "- iso_code: redundant\n",
    "- continent: irrelevant\t \n",
    "- total_cases_per_million: redundant, can calculate using other attributes\n",
    "- new_cases_per_million: redundant, can calculate using other attributes\n",
    "- new_cases_smoothed_per_million:redundant, can calculate using other attributes\n",
    "- total_deaths_per_million: redundant, can calculate using other attributes\n",
    "- new_deaths_per_million: redundant, can calculate using other attributes\n",
    "- new_deaths_smoothed_per_million: redundant, can calculate using other attributes\n",
    "- total_tests_per_thousand: redundant, can calculate using other attributes\n",
    "- new_tests_per_thousand: redundant, can calculate using other attributes\t\n",
    "- new_tests_smoothed_per_thousand: redundant, can calculate using other attributes\n",
    "- tests_units: irrelevant\n",
    "- NEW_CASE_TREND: redundant"
   ]
  },
  {
   "cell_type": "code",
   "execution_count": 333,
   "metadata": {},
   "outputs": [
    {
     "data": {
      "text/html": [
       "<div>\n",
       "<style scoped>\n",
       "    .dataframe tbody tr th:only-of-type {\n",
       "        vertical-align: middle;\n",
       "    }\n",
       "\n",
       "    .dataframe tbody tr th {\n",
       "        vertical-align: top;\n",
       "    }\n",
       "\n",
       "    .dataframe thead th {\n",
       "        text-align: right;\n",
       "    }\n",
       "</style>\n",
       "<table border=\"1\" class=\"dataframe\">\n",
       "  <thead>\n",
       "    <tr style=\"text-align: right;\">\n",
       "      <th></th>\n",
       "      <th>RECID</th>\n",
       "      <th>iso_code</th>\n",
       "      <th>continent</th>\n",
       "      <th>location</th>\n",
       "      <th>date</th>\n",
       "      <th>total_cases</th>\n",
       "      <th>new_cases</th>\n",
       "      <th>new_cases_smoothed</th>\n",
       "      <th>total_deaths</th>\n",
       "      <th>new_deaths</th>\n",
       "      <th>...</th>\n",
       "      <th>aged_70_older</th>\n",
       "      <th>gdp_per_capita</th>\n",
       "      <th>extreme_poverty</th>\n",
       "      <th>cardiovasc_death_rate</th>\n",
       "      <th>diabetes_prevalence</th>\n",
       "      <th>female_smokers</th>\n",
       "      <th>male_smokers</th>\n",
       "      <th>handwashing_facilities</th>\n",
       "      <th>hospital_beds_per_thousand</th>\n",
       "      <th>life_expectancy</th>\n",
       "    </tr>\n",
       "  </thead>\n",
       "  <tbody>\n",
       "    <tr>\n",
       "      <th>0</th>\n",
       "      <td>1</td>\n",
       "      <td>AFG</td>\n",
       "      <td>Asia</td>\n",
       "      <td>Afghanistan</td>\n",
       "      <td>2019-12-31</td>\n",
       "      <td>0.0</td>\n",
       "      <td>0.0</td>\n",
       "      <td>NaN</td>\n",
       "      <td>0.0</td>\n",
       "      <td>0.0</td>\n",
       "      <td>...</td>\n",
       "      <td>1.337</td>\n",
       "      <td>1803.987</td>\n",
       "      <td>NaN</td>\n",
       "      <td>597.029</td>\n",
       "      <td>9.59</td>\n",
       "      <td>NaN</td>\n",
       "      <td>NaN</td>\n",
       "      <td>37.746</td>\n",
       "      <td>0.5</td>\n",
       "      <td>64.83</td>\n",
       "    </tr>\n",
       "    <tr>\n",
       "      <th>1</th>\n",
       "      <td>2</td>\n",
       "      <td>AFG</td>\n",
       "      <td>Asia</td>\n",
       "      <td>Afghanistan</td>\n",
       "      <td>2020-01-01</td>\n",
       "      <td>0.0</td>\n",
       "      <td>0.0</td>\n",
       "      <td>NaN</td>\n",
       "      <td>0.0</td>\n",
       "      <td>0.0</td>\n",
       "      <td>...</td>\n",
       "      <td>1.337</td>\n",
       "      <td>1803.987</td>\n",
       "      <td>NaN</td>\n",
       "      <td>597.029</td>\n",
       "      <td>9.59</td>\n",
       "      <td>NaN</td>\n",
       "      <td>NaN</td>\n",
       "      <td>37.746</td>\n",
       "      <td>0.5</td>\n",
       "      <td>64.83</td>\n",
       "    </tr>\n",
       "    <tr>\n",
       "      <th>2</th>\n",
       "      <td>3</td>\n",
       "      <td>AFG</td>\n",
       "      <td>Asia</td>\n",
       "      <td>Afghanistan</td>\n",
       "      <td>2020-01-02</td>\n",
       "      <td>0.0</td>\n",
       "      <td>0.0</td>\n",
       "      <td>NaN</td>\n",
       "      <td>0.0</td>\n",
       "      <td>0.0</td>\n",
       "      <td>...</td>\n",
       "      <td>1.337</td>\n",
       "      <td>1803.987</td>\n",
       "      <td>NaN</td>\n",
       "      <td>597.029</td>\n",
       "      <td>9.59</td>\n",
       "      <td>NaN</td>\n",
       "      <td>NaN</td>\n",
       "      <td>37.746</td>\n",
       "      <td>0.5</td>\n",
       "      <td>64.83</td>\n",
       "    </tr>\n",
       "    <tr>\n",
       "      <th>3</th>\n",
       "      <td>4</td>\n",
       "      <td>AFG</td>\n",
       "      <td>Asia</td>\n",
       "      <td>Afghanistan</td>\n",
       "      <td>2020-01-03</td>\n",
       "      <td>0.0</td>\n",
       "      <td>0.0</td>\n",
       "      <td>NaN</td>\n",
       "      <td>0.0</td>\n",
       "      <td>0.0</td>\n",
       "      <td>...</td>\n",
       "      <td>1.337</td>\n",
       "      <td>1803.987</td>\n",
       "      <td>NaN</td>\n",
       "      <td>597.029</td>\n",
       "      <td>9.59</td>\n",
       "      <td>NaN</td>\n",
       "      <td>NaN</td>\n",
       "      <td>37.746</td>\n",
       "      <td>0.5</td>\n",
       "      <td>64.83</td>\n",
       "    </tr>\n",
       "    <tr>\n",
       "      <th>4</th>\n",
       "      <td>5</td>\n",
       "      <td>AFG</td>\n",
       "      <td>Asia</td>\n",
       "      <td>Afghanistan</td>\n",
       "      <td>2020-01-04</td>\n",
       "      <td>0.0</td>\n",
       "      <td>0.0</td>\n",
       "      <td>NaN</td>\n",
       "      <td>0.0</td>\n",
       "      <td>0.0</td>\n",
       "      <td>...</td>\n",
       "      <td>1.337</td>\n",
       "      <td>1803.987</td>\n",
       "      <td>NaN</td>\n",
       "      <td>597.029</td>\n",
       "      <td>9.59</td>\n",
       "      <td>NaN</td>\n",
       "      <td>NaN</td>\n",
       "      <td>37.746</td>\n",
       "      <td>0.5</td>\n",
       "      <td>64.83</td>\n",
       "    </tr>\n",
       "    <tr>\n",
       "      <th>...</th>\n",
       "      <td>...</td>\n",
       "      <td>...</td>\n",
       "      <td>...</td>\n",
       "      <td>...</td>\n",
       "      <td>...</td>\n",
       "      <td>...</td>\n",
       "      <td>...</td>\n",
       "      <td>...</td>\n",
       "      <td>...</td>\n",
       "      <td>...</td>\n",
       "      <td>...</td>\n",
       "      <td>...</td>\n",
       "      <td>...</td>\n",
       "      <td>...</td>\n",
       "      <td>...</td>\n",
       "      <td>...</td>\n",
       "      <td>...</td>\n",
       "      <td>...</td>\n",
       "      <td>...</td>\n",
       "      <td>...</td>\n",
       "      <td>...</td>\n",
       "    </tr>\n",
       "    <tr>\n",
       "      <th>42644</th>\n",
       "      <td>42645</td>\n",
       "      <td>NaN</td>\n",
       "      <td>NaN</td>\n",
       "      <td>International</td>\n",
       "      <td>2020-09-05</td>\n",
       "      <td>696.0</td>\n",
       "      <td>NaN</td>\n",
       "      <td>NaN</td>\n",
       "      <td>7.0</td>\n",
       "      <td>NaN</td>\n",
       "      <td>...</td>\n",
       "      <td>NaN</td>\n",
       "      <td>NaN</td>\n",
       "      <td>NaN</td>\n",
       "      <td>NaN</td>\n",
       "      <td>NaN</td>\n",
       "      <td>NaN</td>\n",
       "      <td>NaN</td>\n",
       "      <td>NaN</td>\n",
       "      <td>NaN</td>\n",
       "      <td>NaN</td>\n",
       "    </tr>\n",
       "    <tr>\n",
       "      <th>42645</th>\n",
       "      <td>42646</td>\n",
       "      <td>NaN</td>\n",
       "      <td>NaN</td>\n",
       "      <td>International</td>\n",
       "      <td>2020-09-06</td>\n",
       "      <td>696.0</td>\n",
       "      <td>NaN</td>\n",
       "      <td>NaN</td>\n",
       "      <td>7.0</td>\n",
       "      <td>NaN</td>\n",
       "      <td>...</td>\n",
       "      <td>NaN</td>\n",
       "      <td>NaN</td>\n",
       "      <td>NaN</td>\n",
       "      <td>NaN</td>\n",
       "      <td>NaN</td>\n",
       "      <td>NaN</td>\n",
       "      <td>NaN</td>\n",
       "      <td>NaN</td>\n",
       "      <td>NaN</td>\n",
       "      <td>NaN</td>\n",
       "    </tr>\n",
       "    <tr>\n",
       "      <th>42646</th>\n",
       "      <td>42647</td>\n",
       "      <td>NaN</td>\n",
       "      <td>NaN</td>\n",
       "      <td>International</td>\n",
       "      <td>2020-09-07</td>\n",
       "      <td>696.0</td>\n",
       "      <td>NaN</td>\n",
       "      <td>NaN</td>\n",
       "      <td>7.0</td>\n",
       "      <td>NaN</td>\n",
       "      <td>...</td>\n",
       "      <td>NaN</td>\n",
       "      <td>NaN</td>\n",
       "      <td>NaN</td>\n",
       "      <td>NaN</td>\n",
       "      <td>NaN</td>\n",
       "      <td>NaN</td>\n",
       "      <td>NaN</td>\n",
       "      <td>NaN</td>\n",
       "      <td>NaN</td>\n",
       "      <td>NaN</td>\n",
       "    </tr>\n",
       "    <tr>\n",
       "      <th>42647</th>\n",
       "      <td>42648</td>\n",
       "      <td>NaN</td>\n",
       "      <td>NaN</td>\n",
       "      <td>International</td>\n",
       "      <td>2020-09-08</td>\n",
       "      <td>696.0</td>\n",
       "      <td>NaN</td>\n",
       "      <td>NaN</td>\n",
       "      <td>7.0</td>\n",
       "      <td>NaN</td>\n",
       "      <td>...</td>\n",
       "      <td>NaN</td>\n",
       "      <td>NaN</td>\n",
       "      <td>NaN</td>\n",
       "      <td>NaN</td>\n",
       "      <td>NaN</td>\n",
       "      <td>NaN</td>\n",
       "      <td>NaN</td>\n",
       "      <td>NaN</td>\n",
       "      <td>NaN</td>\n",
       "      <td>NaN</td>\n",
       "    </tr>\n",
       "    <tr>\n",
       "      <th>42648</th>\n",
       "      <td>42649</td>\n",
       "      <td>NaN</td>\n",
       "      <td>NaN</td>\n",
       "      <td>International</td>\n",
       "      <td>2020-09-09</td>\n",
       "      <td>696.0</td>\n",
       "      <td>NaN</td>\n",
       "      <td>NaN</td>\n",
       "      <td>7.0</td>\n",
       "      <td>NaN</td>\n",
       "      <td>...</td>\n",
       "      <td>NaN</td>\n",
       "      <td>NaN</td>\n",
       "      <td>NaN</td>\n",
       "      <td>NaN</td>\n",
       "      <td>NaN</td>\n",
       "      <td>NaN</td>\n",
       "      <td>NaN</td>\n",
       "      <td>NaN</td>\n",
       "      <td>NaN</td>\n",
       "      <td>NaN</td>\n",
       "    </tr>\n",
       "  </tbody>\n",
       "</table>\n",
       "<p>42649 rows × 38 columns</p>\n",
       "</div>"
      ],
      "text/plain": [
       "       RECID iso_code continent       location       date  total_cases  \\\n",
       "0          1      AFG      Asia    Afghanistan 2019-12-31          0.0   \n",
       "1          2      AFG      Asia    Afghanistan 2020-01-01          0.0   \n",
       "2          3      AFG      Asia    Afghanistan 2020-01-02          0.0   \n",
       "3          4      AFG      Asia    Afghanistan 2020-01-03          0.0   \n",
       "4          5      AFG      Asia    Afghanistan 2020-01-04          0.0   \n",
       "...      ...      ...       ...            ...        ...          ...   \n",
       "42644  42645      NaN       NaN  International 2020-09-05        696.0   \n",
       "42645  42646      NaN       NaN  International 2020-09-06        696.0   \n",
       "42646  42647      NaN       NaN  International 2020-09-07        696.0   \n",
       "42647  42648      NaN       NaN  International 2020-09-08        696.0   \n",
       "42648  42649      NaN       NaN  International 2020-09-09        696.0   \n",
       "\n",
       "       new_cases  new_cases_smoothed  total_deaths  new_deaths  ...  \\\n",
       "0            0.0                 NaN           0.0         0.0  ...   \n",
       "1            0.0                 NaN           0.0         0.0  ...   \n",
       "2            0.0                 NaN           0.0         0.0  ...   \n",
       "3            0.0                 NaN           0.0         0.0  ...   \n",
       "4            0.0                 NaN           0.0         0.0  ...   \n",
       "...          ...                 ...           ...         ...  ...   \n",
       "42644        NaN                 NaN           7.0         NaN  ...   \n",
       "42645        NaN                 NaN           7.0         NaN  ...   \n",
       "42646        NaN                 NaN           7.0         NaN  ...   \n",
       "42647        NaN                 NaN           7.0         NaN  ...   \n",
       "42648        NaN                 NaN           7.0         NaN  ...   \n",
       "\n",
       "       aged_70_older  gdp_per_capita  extreme_poverty  cardiovasc_death_rate  \\\n",
       "0              1.337        1803.987              NaN                597.029   \n",
       "1              1.337        1803.987              NaN                597.029   \n",
       "2              1.337        1803.987              NaN                597.029   \n",
       "3              1.337        1803.987              NaN                597.029   \n",
       "4              1.337        1803.987              NaN                597.029   \n",
       "...              ...             ...              ...                    ...   \n",
       "42644            NaN             NaN              NaN                    NaN   \n",
       "42645            NaN             NaN              NaN                    NaN   \n",
       "42646            NaN             NaN              NaN                    NaN   \n",
       "42647            NaN             NaN              NaN                    NaN   \n",
       "42648            NaN             NaN              NaN                    NaN   \n",
       "\n",
       "       diabetes_prevalence  female_smokers  male_smokers  \\\n",
       "0                     9.59             NaN           NaN   \n",
       "1                     9.59             NaN           NaN   \n",
       "2                     9.59             NaN           NaN   \n",
       "3                     9.59             NaN           NaN   \n",
       "4                     9.59             NaN           NaN   \n",
       "...                    ...             ...           ...   \n",
       "42644                  NaN             NaN           NaN   \n",
       "42645                  NaN             NaN           NaN   \n",
       "42646                  NaN             NaN           NaN   \n",
       "42647                  NaN             NaN           NaN   \n",
       "42648                  NaN             NaN           NaN   \n",
       "\n",
       "       handwashing_facilities  hospital_beds_per_thousand  life_expectancy  \n",
       "0                      37.746                         0.5            64.83  \n",
       "1                      37.746                         0.5            64.83  \n",
       "2                      37.746                         0.5            64.83  \n",
       "3                      37.746                         0.5            64.83  \n",
       "4                      37.746                         0.5            64.83  \n",
       "...                       ...                         ...              ...  \n",
       "42644                     NaN                         NaN              NaN  \n",
       "42645                     NaN                         NaN              NaN  \n",
       "42646                     NaN                         NaN              NaN  \n",
       "42647                     NaN                         NaN              NaN  \n",
       "42648                     NaN                         NaN              NaN  \n",
       "\n",
       "[42649 rows x 38 columns]"
      ]
     },
     "execution_count": 333,
     "metadata": {},
     "output_type": "execute_result"
    }
   ],
   "source": [
    "# remove attributes\n",
    "df.drop(columns=['iso_code','continent','total_cases_per_million','new_cases_per_million','new_cases_smoothed_per_million','total_deaths_per_million','new_deaths_per_million','new_deaths_smoothed_per_million','total_tests_per_thousand'])\n",
    "df.drop(columns=['new_tests_per_thousand','new_tests_smoothed_per_thousand','tests_units','NEW_CASE_TREND'])"
   ]
  },
  {
   "cell_type": "markdown",
   "metadata": {},
   "source": [
    "***\n",
    "## Section: 3.2 - Did you decide to implement any attribute transformations? If so, why?\n",
    "***"
   ]
  },
  {
   "cell_type": "markdown",
   "metadata": {},
   "source": []
  },
  {
   "cell_type": "code",
   "execution_count": null,
   "metadata": {},
   "outputs": [],
   "source": []
  },
  {
   "cell_type": "markdown",
   "metadata": {},
   "source": [
    "***\n",
    "## Section: 3.3 - Did you decide to create any new features? If so, why?\n",
    "***"
   ]
  },
  {
   "cell_type": "code",
   "execution_count": null,
   "metadata": {},
   "outputs": [],
   "source": []
  },
  {
   "cell_type": "markdown",
   "metadata": {},
   "source": [
    "***\n",
    "## Section: 3.4 - Implement any data cleaning steps previously identified.\n",
    "- Show the effects of that cleaning through the use of appropriate statistics and/or visualizations.\n",
    "***"
   ]
  },
  {
   "cell_type": "markdown",
   "metadata": {},
   "source": [
    "## Cleaning NaN values, duplicate values\n",
    "I have decided to remove the rows with NaN values because it would not be accurate to replace NaN values with estimates and these rows cannot be used later on. I have also decided to remove duplicate values and outliers to remove extra data that might affect analysis. I am not going to delete any outliers since they may be indicative of different situations in different countries."
   ]
  },
  {
   "cell_type": "code",
   "execution_count": null,
   "metadata": {},
   "outputs": [],
   "source": [
    "df_original = df.copy(deep=True)\n",
    "\n",
    "# removing rows with at least one NaN values\n",
    "df.dropna()\n",
    "\n",
    "missing = df.isna()\n",
    "missing.head()\n",
    "num_missing = missing.sum()\n",
    "print(\"Missing values for each attribute:\")\n",
    "print(num_missing)\n",
    "\n",
    "# removing duplicates of combination of location and date\n",
    "df.drop_duplicates(subset=['location','date'])\n",
    "\n",
    "print(\"Sum of duplicates of location and date: \")\n",
    "duplicates_sum = df.pivot_table(index=['location', 'date'], aggfunc='size').sum()\n",
    "print(duplicates_sum)\n",
    "total_length = 42644\n",
    "print(\"Total duplicates: \")\n",
    "print(duplicates_sum-total_length)\n",
    "\n",
    "# # removing outlier values\n",
    "# z_scores = scipy.stats.zscore(df)\n",
    "# abs_z_scores = np.abs(z_scores)\n",
    "# filtered_entries = (abs_z_scores < 3).all(axis=1)\n",
    "# df = df[filtered_entries]\n",
    "# print(df)"
   ]
  },
  {
   "cell_type": "markdown",
   "metadata": {},
   "source": [
    "***\n",
    "# Section: 4 - Conclusions\n",
    "- What are your overall conclusions about the data?\n",
    "- What did you learn? Identify and explain any interesting relationships between the class attribute and the other attributes. You may refer to earlier visualizations or create new ones.?\n",
    "***"
   ]
  },
  {
   "cell_type": "markdown",
   "metadata": {},
   "source": [
    "## Conclusions\n",
    "I have concluded that the dataset is very rich with information. Many atttributes were removed for being irrelevant or redundant. Despite removing some aatributes, the dataset will be usable for implementing trend and relationship analysis. I learned that there are some interesting relationships between some of the attributes. As can be seen in previous visualization, the total_cases and stringency_index have a weak, positive correlation. This makes sense because the more cases a country has the more rules and regulations needed to help prevent the spread of COVID. Also, there is a weak, positive correlation between the total_cases and aged_65_older. This correlation makes sense since it is known that the older population is more susceptible to covid-19.\n",
    "\n",
    "Overall this dataset will be helpful in finding trends of COVID cases growth over the pandemic. It will also be helpful in finding correlations and relationships between covid susceptibility of a population and the population's socio-economic demographics and health demographics."
   ]
  },
  {
   "cell_type": "code",
   "execution_count": null,
   "metadata": {},
   "outputs": [],
   "source": []
  }
 ],
 "metadata": {
  "kernelspec": {
   "display_name": "Python 3",
   "language": "python",
   "name": "python3"
  },
  "language_info": {
   "codemirror_mode": {
    "name": "ipython",
    "version": 3
   },
   "file_extension": ".py",
   "mimetype": "text/x-python",
   "name": "python",
   "nbconvert_exporter": "python",
   "pygments_lexer": "ipython3",
   "version": "3.8.3"
  },
  "latex_envs": {
   "LaTeX_envs_menu_present": true,
   "autoclose": false,
   "autocomplete": true,
   "bibliofile": "biblio.bib",
   "cite_by": "apalike",
   "current_citInitial": 1,
   "eqLabelWithNumbers": true,
   "eqNumInitial": 1,
   "hotkeys": {
    "equation": "Ctrl-E",
    "itemize": "Ctrl-I"
   },
   "labels_anchors": false,
   "latex_user_defs": false,
   "report_style_numbering": false,
   "user_envs_cfg": false
  }
 },
 "nbformat": 4,
 "nbformat_minor": 4
}
